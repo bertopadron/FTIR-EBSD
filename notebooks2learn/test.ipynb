{
 "cells": [
  {
   "cell_type": "code",
   "execution_count": 1,
   "metadata": {},
   "outputs": [],
   "source": [
    "import numpy as np\n",
    "import matplotlib.pyplot as plt\n",
    "from matplotlib import cm\n",
    "from scipy.spatial.transform import Rotation as r"
   ]
  },
  {
   "cell_type": "code",
   "execution_count": 32,
   "metadata": {},
   "outputs": [],
   "source": [
    "def sph2cart(phi, theta, T):\n",
    "    \"\"\" Convert from spherical/polar (phi, thetha) to cartesian\n",
    "    coordinates.\n",
    "\n",
    "    Parameters\n",
    "    ----------\n",
    "    phi : int or float between 0 and 90\n",
    "        angle respect to the c-axis\n",
    "    theta : int or float between 0 and 360\n",
    "        angle respect to the a-axis\n",
    "    T : int or float\n",
    "        the magnitud of the vector (rho) in polar coordinates\n",
    "\n",
    "    Returns\n",
    "    -------\n",
    "    numpy ndarrays (1d)\n",
    "        three numpy 1d arrays with the x, y, and z coordinates\n",
    "    \"\"\"\n",
    "    \n",
    "    x = T * np.sin(np.deg2rad(phi)) * np.cos(np.deg2rad(theta))\n",
    "    y = T * np.sin(np.deg2rad(phi)) * np.sin(np.deg2rad(theta))\n",
    "    z = T * np.round(np.cos(np.deg2rad(phi), decimals=6))\n",
    "    \n",
    "    return x, y, z\n",
    "\n",
    "\n",
    "def Tvalues(trans, phi, theta):\n",
    "    \"\"\" Calculates the transmission value for any direction in polar\n",
    "    coordinates using the equation (5) of Asimov et al. (2006) for a\n",
    "    especific wavelength ignoring the sample thickness (i.e. =1).\n",
    "\n",
    "    Parameters\n",
    "    ----------\n",
    "    trans : a tuple of size 3\n",
    "        tuple containeing the transmission values along a-axis (Ta),\n",
    "        b-axis (Tb), and c-axis (Tc). -> (Ta, Tb, Tc)\n",
    "    phi : int or float between 0 and 90\n",
    "        angle respect to the c-axis\n",
    "    theta : int or float between 0 and 360\n",
    "        angle respect to the a-axis\n",
    "\n",
    "    Returns\n",
    "    -------\n",
    "    numpy array\n",
    "        the calculated T values for any given orientation\n",
    "    \"\"\"\n",
    "\n",
    "    # extract Tx values\n",
    "    Ta, Tb, Tc = trans\n",
    "    \n",
    "    return Ta * np.cos(np.deg2rad(theta))**2 * np.sin(np.deg2rad(phi))**2 + \\\n",
    "           Tb * np.sin(np.deg2rad(theta))**2 * np.sin(np.deg2rad(phi))**2 + \\\n",
    "           Tc * np.cos(np.deg2rad(phi))**2"
   ]
  },
  {
   "attachments": {},
   "cell_type": "markdown",
   "metadata": {},
   "source": [
    "Para que las medidas de T estén sobre el plano tiene que cumplirse que z=0 en la función ``sph2cart()´´ y por tanto\n",
    "\n",
    "$$cos(phi)^2 = 0$$\n",
    "\n",
    "que se cumple cuando $\\phi = 90$"
   ]
  },
  {
   "cell_type": "code",
   "execution_count": 9,
   "metadata": {},
   "outputs": [
    {
     "data": {
      "text/plain": [
       "[<matplotlib.lines.Line2D at 0x2b45fe2d240>]"
      ]
     },
     "execution_count": 9,
     "metadata": {},
     "output_type": "execute_result"
    },
    {
     "data": {
      "image/png": "[encoded data removed]",
      "text/plain": [
       "<Figure size 640x480 with 1 Axes>"
      ]
     },
     "metadata": {},
     "output_type": "display_data"
    }
   ],
   "source": [
    "vals = np.linspace(0, np.deg2rad(90))\n",
    "plt.plot(vals, np.cos(vals))"
   ]
  },
  {
   "attachments": {},
   "cell_type": "markdown",
   "metadata": {},
   "source": [
    "Necesitaremos usar la función round para obtener 0 (floating-point arithmetic arithmetics!). Razón:"
   ]
  },
  {
   "cell_type": "code",
   "execution_count": 30,
   "metadata": {},
   "outputs": [
    {
     "name": "stdout",
     "output_type": "stream",
     "text": [
      "6.123233995736766e-17 vs 0.0\n"
     ]
    }
   ],
   "source": [
    "print(np.cos(np.deg2rad(90)), 'vs', np.round(np.cos(np.deg2rad(90)), decimals=6))"
   ]
  },
  {
   "cell_type": "code",
   "execution_count": null,
   "metadata": {},
   "outputs": [],
   "source": [
    "# generate spherical/polar coordinates\n",
    "theta = np.linspace(0, 2*np.pi, 100)\n",
    "phi = np.full_like(theta, fill_value=90)"
   ]
  }
 ],
 "metadata": {
  "kernelspec": {
   "display_name": "main",
   "language": "python",
   "name": "python3"
  },
  "language_info": {
   "codemirror_mode": {
    "name": "ipython",
    "version": 3
   },
   "file_extension": ".py",
   "mimetype": "text/x-python",
   "name": "python",
   "nbconvert_exporter": "python",
   "pygments_lexer": "ipython3",
   "version": "3.10.9"
  },
  "orig_nbformat": 4,
  "vscode": {
   "interpreter": {
    "hash": "073408933f31e8ac7f6b4bf29a6f48e1a2f613d7d5b6e5c6c58fd8fdc8389e42"
   }
  }
 },
 "nbformat": 4,
 "nbformat_minor": 2
}
