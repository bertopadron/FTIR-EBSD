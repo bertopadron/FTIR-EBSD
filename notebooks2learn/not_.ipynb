{
 "cells": [
  {
   "cell_type": "code",
   "execution_count": 2,
   "metadata": {},
   "outputs": [],
   "source": [
    "# required Python imports\n",
    "import numpy as np\n",
    "import matplotlib.pyplot as plt\n",
    "from matplotlib import cm\n",
    "\n",
    "from scipy.spatial.transform import Rotation as r"
   ]
  },
  {
   "cell_type": "code",
   "execution_count": 18,
   "metadata": {},
   "outputs": [],
   "source": [
    "# define some neccesary funtions\n",
    "def sph2cart(phi, theta, T):\n",
    "    \"\"\" Convert from spherical/polar (phi, thetha) to cartesian\n",
    "    coordinates.\n",
    "\n",
    "    Parameters\n",
    "    ----------\n",
    "    phi : int or float between 0 and pi/2\n",
    "        angle respect to the c-axis in radians\n",
    "    theta : int or float between 0 and 2*pi\n",
    "        angle respect to the a-axis in radians\n",
    "    T : int or float\n",
    "        the magnitud of the vector (rho) in polar coordinates\n",
    "\n",
    "    Returns\n",
    "    -------\n",
    "    numpy ndarrays (1d)\n",
    "        three numpy 1d arrays with the x, y, and z coordinates\n",
    "    \"\"\"\n",
    "    \n",
    "    x = T * np.sin(phi) * np.cos(theta)\n",
    "    y = T * np.sin(phi) * np.sin(theta)\n",
    "    z = T * np.cos(phi)\n",
    "    \n",
    "    return x, y, z\n",
    "\n",
    "\n",
    "def Tvalues(trans, phi, theta):\n",
    "    \"\"\" Calculates the transmission value for any direction in polar\n",
    "    coordinates using the equation (5) of Asimov et al. (2006) for a\n",
    "    especific wavelength ignoring the sample thickness (i.e. =1).\n",
    "\n",
    "    Parameters\n",
    "    ----------\n",
    "    trans : a tuple of size 3\n",
    "        tuple containeing the transmission values along a-axis (Ta),\n",
    "        b-axis (Tb), and c-axis (Tc). -> (Ta, Tb, Tc)\n",
    "    phi : int or float between 0 and pi/2\n",
    "        angle respect to the c-axis in radians\n",
    "    theta : int or float between 0 and 2*pi\n",
    "        angle respect to the a-axis in radians\n",
    "\n",
    "    Returns\n",
    "    -------\n",
    "    numpy array\n",
    "        the calculated T values for any given orientation\n",
    "    \"\"\"\n",
    "\n",
    "    # extract Tx values\n",
    "    Ta, Tb, Tc = trans\n",
    "    \n",
    "    return Ta * np.cos(theta)**2 * np.sin(phi)**2 + \\\n",
    "           Tb * np.sin(theta)**2 * np.sin(phi)**2 + \\\n",
    "           Tc * np.cos(phi)**2\n",
    "\n",
    "def rotate(coordinates, euler_ang):\n",
    "    \"\"\" Rotate points in 3D cartesian space using the Bunge convention\n",
    "    in degrees with intrinsic rotation. This is just a wrapper for the\n",
    "    r.from_euler() Scipy method for convenience\n",
    "\n",
    "    Parameters\n",
    "    ----------\n",
    "    coordinates : tuple of size 3\n",
    "        a tuple containing the cartesian coordinates of this form:\n",
    "        (x, y, z). variables x, y and z can be scalars or arrays.\n",
    "    euler_ang : tuple of size 3\n",
    "        a tuple containing the three euler angles in degrees\n",
    "        using Bunge convention -> (z, x, z)\n",
    "\n",
    "    Returns\n",
    "    -------\n",
    "    three numpy arrays containing the x, y, z coordinates respectively\n",
    "    \n",
    "    Example\n",
    "    -------\n",
    "    x, y, z = rotate(coordinates=(x, y, z), euler_ang=(30, 0, 40))\n",
    "    \"\"\"\n",
    "\n",
    "    # create a ndarray to vectorize the rotation operation\n",
    "    coordinates = np.dstack(coordinates)\n",
    "\n",
    "    phi1, PHI, phi2 = euler_ang\n",
    "\n",
    "    # define a rotation in euler space (Bunge) for intrinsic rotations\n",
    "    rotation = r.from_euler('zxz', [phi1, PHI, phi2], degrees=True)\n",
    "\n",
    "    # apply rotation\n",
    "    new_coordinates = coordinates @ rotation.as_matrix().T\n",
    "\n",
    "    return new_coordinates[:,:,0], new_coordinates[:,:,1], new_coordinates[:,:,2]\n",
    "    "
   ]
  },
  {
   "cell_type": "code",
   "execution_count": 22,
   "metadata": {},
   "outputs": [
    {
     "ename": "NameError",
     "evalue": "name 'coordinates' is not defined",
     "output_type": "error",
     "traceback": [
      "\u001b[0;31m---------------------------------------------------------------------------\u001b[0m",
      "\u001b[0;31mNameError\u001b[0m                                 Traceback (most recent call last)",
      "Cell \u001b[0;32mIn[22], line 1\u001b[0m\n\u001b[0;32m----> 1\u001b[0m coordinates\n",
      "\u001b[0;31mNameError\u001b[0m: name 'coordinates' is not defined"
     ]
    }
   ],
   "source": []
  },
  {
   "cell_type": "markdown",
   "metadata": {},
   "source": [
    "## Minimization Trial using Tmax, Tmin and beta \n",
    "\n",
    "I am going to try to get first these values (that i think are unique for a given rotation) and then try to use them to minimize the function"
   ]
  },
  {
   "cell_type": "code",
   "execution_count": 4,
   "metadata": {},
   "outputs": [],
   "source": [
    "# generate a mesh of spherical/polar coordinates\n",
    "theta = np.linspace(0, 2*np.pi, 100)\n",
    "phi = np.arccos(1 - 2 * np.linspace(0, 1, 100))  # in this case np.linspace goes from 0 to 1 (not pi)!\n",
    "phi, theta = np.meshgrid(phi, theta)\n",
    "\n",
    "# estimate T values\n",
    "T = Tvalues(trans=(90, 50, 20), phi=phi, theta=theta)\n",
    "\n",
    "# convert from spherical to cartesian coordinates\n",
    "x, y, z = sph2cart(phi, theta, T)"
   ]
  },
  {
   "attachments": {},
   "cell_type": "markdown",
   "metadata": {},
   "source": [
    "The following function finds the max, min values of T in the horizontal section and the angle relative to the \"East\" and the maximum T_section"
   ]
  },
  {
   "cell_type": "code",
   "execution_count": 5,
   "metadata": {},
   "outputs": [],
   "source": [
    "def parm_section(euler_ang):\n",
    "    \"\"\" section_xy is generated using ax.contour and z = 0, i.e. [0]\n",
    "    matplotlib.contour.QuadContourSet\n",
    "    \n",
    "    section_xy = ax.contour(rotation[0], rotation[1], rotation[2], [0])\n",
    "    \"\"\" \n",
    "\n",
    "    rotation = rotate(coordinates=(x, y, z), euler_ang=(phi1, PHI, phi2))\n",
    "    section_xy = plt.contour(rotation[0], rotation[1], rotation[2], [0])\n",
    "\n",
    "    T_xy = section_xy.allsegs[0]\n",
    "    T_xy = T_xy[0]\n",
    "    T_section = np.sqrt(T_xy[:,0]**2 + T_xy[:,1]**2)\n",
    "    T_section = T_section.round()\n",
    "    \n",
    "    index_T = np.where(T_section == T_section.max())\n",
    "    T_xy[index_T[0],:]\n",
    "    beta = np.arccos(T_xy[index_T[0][0],0]/T_section.max())\n",
    "    beta = np.degrees(beta)\n",
    "    beta\n",
    "    \n",
    "    T_section_max = T_section.max()\n",
    "    T_section_min = T_section.min()\n",
    "    \n",
    "    return beta.round(), T_section_max, T_section_min"
   ]
  },
  {
   "attachments": {},
   "cell_type": "markdown",
   "metadata": {},
   "source": [
    "# Minimization \n",
    "Minimizatio of a function (g) that compares the \"observerd\" T_section and the one that is produced by a rotation using euler_ang \n"
   ]
  },
  {
   "cell_type": "code",
   "execution_count": 6,
   "metadata": {},
   "outputs": [],
   "source": [
    "from scipy.optimize import minimize"
   ]
  },
  {
   "cell_type": "code",
   "execution_count": 56,
   "metadata": {},
   "outputs": [
    {
     "data": {
      "text/plain": [
       "array([12., 90., 50.])"
      ]
     },
     "execution_count": 56,
     "metadata": {},
     "output_type": "execute_result"
    },
    {
     "data": {
      "image/png": "[encoded data removed]",
      "text/plain": [
       "<Figure size 640x480 with 1 Axes>"
      ]
     },
     "metadata": {},
     "output_type": "display_data"
    }
   ],
   "source": [
    "phi1_, PHI_, phi2_ = 12, 0, 0\n",
    "T_measured = np.array(parm_section(phi1_, PHI_, phi2_))\n",
    "T_measured "
   ]
  },
  {
   "attachments": {},
   "cell_type": "markdown",
   "metadata": {},
   "source": [
    "## objective function "
   ]
  },
  {
   "cell_type": "code",
   "execution_count": 8,
   "metadata": {},
   "outputs": [],
   "source": [
    "def g(euler_ang):\n",
    "    phi1, PHI, phi2 = euler_ang\n",
    "    section = parm_section(phi1, PHI, phi2)\n",
    "    beta_error = (T_measured[0] - section[0])**2\n",
    "    Tmax_error = (T_measured[1] - section[1])**2\n",
    "    Tmin_error = (T_measured[2] - section[2])**2\n",
    "    return beta_error + Tmax_error + Tmin_error"
   ]
  },
  {
   "cell_type": "code",
   "execution_count": 7,
   "metadata": {},
   "outputs": [],
   "source": [
    "def G(phi1, PHI, phi2):\n",
    "    section = parm_section(phi1, PHI, phi2)\n",
    "    beta_error = (T_measured[0] - section[0])**2\n",
    "    Tmax_error = (T_measured[1] - section[1])**2\n",
    "    Tmin_error = (T_measured[2] - section[2])**2\n",
    "    return beta_error + Tmax_error + Tmin_error"
   ]
  },
  {
   "cell_type": "code",
   "execution_count": 9,
   "metadata": {},
   "outputs": [],
   "source": [
    "phi1__ = np.linspace(0, 180, 100)\n",
    "PHI__  = np.linspace(0, 90, 100)\n",
    "phi2__ = np.linspace(0, 180, 100)"
   ]
  },
  {
   "cell_type": "code",
   "execution_count": 21,
   "metadata": {},
   "outputs": [
    {
     "ename": "NameError",
     "evalue": "name 'phi1' is not defined",
     "output_type": "error",
     "traceback": [
      "\u001b[0;31m---------------------------------------------------------------------------\u001b[0m",
      "\u001b[0;31mNameError\u001b[0m                                 Traceback (most recent call last)",
      "Cell \u001b[0;32mIn[21], line 1\u001b[0m\n\u001b[0;32m----> 1\u001b[0m phi1\n",
      "\u001b[0;31mNameError\u001b[0m: name 'phi1' is not defined"
     ]
    }
   ],
   "source": []
  },
  {
   "cell_type": "code",
   "execution_count": 19,
   "metadata": {},
   "outputs": [
    {
     "ename": "ValueError",
     "evalue": "Expected `angles` to be at most 2-dimensional with width equal to number of axes specified, got (3, 100) for shape",
     "output_type": "error",
     "traceback": [
      "\u001b[0;31m---------------------------------------------------------------------------\u001b[0m",
      "\u001b[0;31mValueError\u001b[0m                                Traceback (most recent call last)",
      "Cell \u001b[0;32mIn[19], line 1\u001b[0m\n\u001b[0;32m----> 1\u001b[0m G(phi1__, PHI__, phi2__)\n",
      "Cell \u001b[0;32mIn[7], line 2\u001b[0m, in \u001b[0;36mG\u001b[0;34m(phi1, PHI, phi2)\u001b[0m\n\u001b[1;32m      1\u001b[0m \u001b[39mdef\u001b[39;00m \u001b[39mG\u001b[39m(phi1, PHI, phi2):\n\u001b[0;32m----> 2\u001b[0m     section \u001b[39m=\u001b[39m parm_section(phi1, PHI, phi2)\n\u001b[1;32m      3\u001b[0m     beta_error \u001b[39m=\u001b[39m (T_measured[\u001b[39m0\u001b[39m] \u001b[39m-\u001b[39m section[\u001b[39m0\u001b[39m])\u001b[39m*\u001b[39m\u001b[39m*\u001b[39m\u001b[39m2\u001b[39m\n\u001b[1;32m      4\u001b[0m     Tmax_error \u001b[39m=\u001b[39m (T_measured[\u001b[39m1\u001b[39m] \u001b[39m-\u001b[39m section[\u001b[39m1\u001b[39m])\u001b[39m*\u001b[39m\u001b[39m*\u001b[39m\u001b[39m2\u001b[39m\n",
      "Cell \u001b[0;32mIn[5], line 8\u001b[0m, in \u001b[0;36mparm_section\u001b[0;34m(phi1, PHI, phi2)\u001b[0m\n\u001b[1;32m      1\u001b[0m \u001b[39mdef\u001b[39;00m \u001b[39mparm_section\u001b[39m(phi1, PHI, phi2):\n\u001b[1;32m      2\u001b[0m     \u001b[39m\"\"\" section_xy is generated using ax.contour and z = 0, i.e. [0]\u001b[39;00m\n\u001b[1;32m      3\u001b[0m \u001b[39m    matplotlib.contour.QuadContourSet\u001b[39;00m\n\u001b[1;32m      4\u001b[0m \u001b[39m    \u001b[39;00m\n\u001b[1;32m      5\u001b[0m \u001b[39m    section_xy = ax.contour(rotation[0], rotation[1], rotation[2], [0])\u001b[39;00m\n\u001b[1;32m      6\u001b[0m \u001b[39m    \"\"\"\u001b[39;00m \n\u001b[0;32m----> 8\u001b[0m     rotation \u001b[39m=\u001b[39m rotate(coordinates\u001b[39m=\u001b[39;49m(x, y, z), euler_ang\u001b[39m=\u001b[39;49m(phi1, PHI, phi2))\n\u001b[1;32m      9\u001b[0m     section_xy \u001b[39m=\u001b[39m plt\u001b[39m.\u001b[39mcontour(rotation[\u001b[39m0\u001b[39m], rotation[\u001b[39m1\u001b[39m], rotation[\u001b[39m2\u001b[39m], [\u001b[39m0\u001b[39m])\n\u001b[1;32m     11\u001b[0m     T_xy \u001b[39m=\u001b[39m section_xy\u001b[39m.\u001b[39mallsegs[\u001b[39m0\u001b[39m]\n",
      "Cell \u001b[0;32mIn[18], line 85\u001b[0m, in \u001b[0;36mrotate\u001b[0;34m(coordinates, euler_ang)\u001b[0m\n\u001b[1;32m     82\u001b[0m phi1, PHI, phi2 \u001b[39m=\u001b[39m euler_ang\n\u001b[1;32m     84\u001b[0m \u001b[39m# define a rotation in euler space (Bunge) for intrinsic rotations\u001b[39;00m\n\u001b[0;32m---> 85\u001b[0m rotation \u001b[39m=\u001b[39m r\u001b[39m.\u001b[39;49mfrom_euler(\u001b[39m'\u001b[39;49m\u001b[39mzxz\u001b[39;49m\u001b[39m'\u001b[39;49m, [phi1, PHI, phi2], degrees\u001b[39m=\u001b[39;49m\u001b[39mTrue\u001b[39;49;00m)\n\u001b[1;32m     87\u001b[0m \u001b[39m# apply rotation\u001b[39;00m\n\u001b[1;32m     88\u001b[0m new_coordinates \u001b[39m=\u001b[39m coordinates \u001b[39m@\u001b[39m rotation\u001b[39m.\u001b[39mas_matrix()\u001b[39m.\u001b[39mT\n",
      "File \u001b[0;32m_rotation.pyx:1037\u001b[0m, in \u001b[0;36mscipy.spatial.transform._rotation.Rotation.from_euler\u001b[0;34m()\u001b[0m\n",
      "\u001b[0;31mValueError\u001b[0m: Expected `angles` to be at most 2-dimensional with width equal to number of axes specified, got (3, 100) for shape"
     ]
    }
   ],
   "source": [
    "G(phi1__, PHI__, phi2__)"
   ]
  },
  {
   "cell_type": "code",
   "execution_count": 78,
   "metadata": {},
   "outputs": [
    {
     "data": {
      "text/plain": [
       "array([3, 4, 5])"
      ]
     },
     "execution_count": 78,
     "metadata": {},
     "output_type": "execute_result"
    }
   ],
   "source": [
    "d = np.array([1, 2, 3])\n",
    "hu(d)\n"
   ]
  },
  {
   "cell_type": "code",
   "execution_count": 31,
   "metadata": {},
   "outputs": [
    {
     "ename": "ValueError",
     "evalue": "Expected `angles` to be at most 2-dimensional with width equal to number of axes specified, got (3, 100) for shape",
     "output_type": "error",
     "traceback": [
      "\u001b[0;31m---------------------------------------------------------------------------\u001b[0m",
      "\u001b[0;31mValueError\u001b[0m                                Traceback (most recent call last)",
      "Cell \u001b[0;32mIn[31], line 2\u001b[0m\n\u001b[1;32m      1\u001b[0m fig, axes \u001b[39m=\u001b[39m plt\u001b[39m.\u001b[39msubplots(\u001b[39m1\u001b[39m, \u001b[39m3\u001b[39m)\n\u001b[0;32m----> 2\u001b[0m axes[\u001b[39m0\u001b[39m]\u001b[39m.\u001b[39mcontour(phi1_, PHI_, G(phi1_, PHI_, phi2_))\n",
      "Cell \u001b[0;32mIn[29], line 2\u001b[0m, in \u001b[0;36mG\u001b[0;34m(phi1, PHI, phi2)\u001b[0m\n\u001b[1;32m      1\u001b[0m \u001b[39mdef\u001b[39;00m \u001b[39mG\u001b[39m(phi1, PHI, phi2 ):\n\u001b[0;32m----> 2\u001b[0m     section \u001b[39m=\u001b[39m parm_section(phi1, PHI, phi2)\n\u001b[1;32m      3\u001b[0m     beta_error \u001b[39m=\u001b[39m (T_measured[\u001b[39m0\u001b[39m] \u001b[39m-\u001b[39m section[\u001b[39m0\u001b[39m])\u001b[39m*\u001b[39m\u001b[39m*\u001b[39m\u001b[39m2\u001b[39m\n\u001b[1;32m      4\u001b[0m     Tmax_error \u001b[39m=\u001b[39m (T_measured[\u001b[39m1\u001b[39m] \u001b[39m-\u001b[39m section[\u001b[39m1\u001b[39m])\u001b[39m*\u001b[39m\u001b[39m*\u001b[39m\u001b[39m2\u001b[39m\n",
      "Cell \u001b[0;32mIn[20], line 8\u001b[0m, in \u001b[0;36mparm_section\u001b[0;34m(phi1, PHI, phi2)\u001b[0m\n\u001b[1;32m      1\u001b[0m \u001b[39mdef\u001b[39;00m \u001b[39mparm_section\u001b[39m(phi1, PHI, phi2):\n\u001b[1;32m      2\u001b[0m     \u001b[39m\"\"\" section_xy is generated using ax.contour and z = 0, i.e. [0]\u001b[39;00m\n\u001b[1;32m      3\u001b[0m \u001b[39m    matplotlib.contour.QuadContourSet\u001b[39;00m\n\u001b[1;32m      4\u001b[0m \u001b[39m    \u001b[39;00m\n\u001b[1;32m      5\u001b[0m \u001b[39m    section_xy = ax.contour(rotation[0], rotation[1], rotation[2], [0])\u001b[39;00m\n\u001b[1;32m      6\u001b[0m \u001b[39m    \"\"\"\u001b[39;00m \n\u001b[0;32m----> 8\u001b[0m     rotation \u001b[39m=\u001b[39m rotate(coordinates\u001b[39m=\u001b[39;49m(x, y, z), euler_ang\u001b[39m=\u001b[39;49m(phi1, PHI, phi2))\n\u001b[1;32m      9\u001b[0m     section_xy \u001b[39m=\u001b[39m plt\u001b[39m.\u001b[39mcontour(rotation[\u001b[39m0\u001b[39m], rotation[\u001b[39m1\u001b[39m], rotation[\u001b[39m2\u001b[39m], [\u001b[39m0\u001b[39m])\n\u001b[1;32m     11\u001b[0m     T_xy \u001b[39m=\u001b[39m section_xy\u001b[39m.\u001b[39mallsegs[\u001b[39m0\u001b[39m]\n",
      "Cell \u001b[0;32mIn[18], line 82\u001b[0m, in \u001b[0;36mrotate\u001b[0;34m(coordinates, euler_ang)\u001b[0m\n\u001b[1;32m     79\u001b[0m coordinates \u001b[39m=\u001b[39m np\u001b[39m.\u001b[39mdstack(coordinates)\n\u001b[1;32m     81\u001b[0m \u001b[39m# define a rotation in euler space (Bunge) for intrinsic rotations\u001b[39;00m\n\u001b[0;32m---> 82\u001b[0m rotation \u001b[39m=\u001b[39m r\u001b[39m.\u001b[39;49mfrom_euler(\u001b[39m'\u001b[39;49m\u001b[39mzxz\u001b[39;49m\u001b[39m'\u001b[39;49m, [euler_ang[\u001b[39m0\u001b[39;49m], euler_ang[\u001b[39m1\u001b[39;49m], euler_ang[\u001b[39m2\u001b[39;49m]], degrees\u001b[39m=\u001b[39;49m\u001b[39mTrue\u001b[39;49;00m)\n\u001b[1;32m     84\u001b[0m \u001b[39m# apply rotation\u001b[39;00m\n\u001b[1;32m     85\u001b[0m new_coordinates \u001b[39m=\u001b[39m coordinates \u001b[39m@\u001b[39m rotation\u001b[39m.\u001b[39mas_matrix()\u001b[39m.\u001b[39mT\n",
      "File \u001b[0;32m_rotation.pyx:1037\u001b[0m, in \u001b[0;36mscipy.spatial.transform._rotation.Rotation.from_euler\u001b[0;34m()\u001b[0m\n",
      "\u001b[0;31mValueError\u001b[0m: Expected `angles` to be at most 2-dimensional with width equal to number of axes specified, got (3, 100) for shape"
     ]
    },
    {
     "data": {
      "image/png": "[encoded data removed]",
      "text/plain": [
       "<Figure size 640x480 with 3 Axes>"
      ]
     },
     "metadata": {},
     "output_type": "display_data"
    }
   ],
   "source": [
    "fig, axes = plt.subplots(1, 3)\n",
    "axes[0].contour(phi1_, PHI_, G(phi1_, PHI_, phi2_))"
   ]
  },
  {
   "cell_type": "code",
   "execution_count": 26,
   "metadata": {},
   "outputs": [
    {
     "data": {
      "text/plain": [
       "array([1., 1., 1.])"
      ]
     },
     "execution_count": 26,
     "metadata": {},
     "output_type": "execute_result"
    },
    {
     "data": {
      "image/png": "[encoded data removed]",
      "text/plain": [
       "<Figure size 640x480 with 1 Axes>"
      ]
     },
     "metadata": {},
     "output_type": "display_data"
    }
   ],
   "source": [
    "initial_guess = [1, 1, 1]\n",
    "res = minimize(g, initial_guess)\n",
    "res.x"
   ]
  },
  {
   "cell_type": "code",
   "execution_count": null,
   "metadata": {},
   "outputs": [],
   "source": []
  }
 ],
 "metadata": {
  "kernelspec": {
   "display_name": "pnja",
   "language": "python",
   "name": "python3"
  },
  "language_info": {
   "codemirror_mode": {
    "name": "ipython",
    "version": 3
   },
   "file_extension": ".py",
   "mimetype": "text/x-python",
   "name": "python",
   "nbconvert_exporter": "python",
   "pygments_lexer": "ipython3",
   "version": "3.10.9"
  },
  "orig_nbformat": 4,
  "vscode": {
   "interpreter": {
    "hash": "e0f19d7df56e5761da96bd656548da0a2078e6f331c39beb2ac8c15854e5ec02"
   }
  }
 },
 "nbformat": 4,
 "nbformat_minor": 2
}
