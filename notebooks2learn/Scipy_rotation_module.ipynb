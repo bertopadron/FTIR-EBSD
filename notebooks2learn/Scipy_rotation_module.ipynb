{
 "cells": [
  {
   "attachments": {},
   "cell_type": "markdown",
   "metadata": {},
   "source": [
    "# Basics of Scipy's rotation submodule\n",
    "\n",
    "> **Goal**: Briefly explain all the common ways of representing a rotation in 3D Cartesian space and how it works using Scipy's Rotation submodule.. The purpose of using Scipy for rotations and not a specific library (e.g. https://dfki-ric.github.io/pytransform3d/) is to keep dependencies to a minimum (since Scipy will also be used for minimisation).\n",
    "\n",
    "Scipy's rottaion module provides the following ways to represent rotations\n",
    "\n",
    "- Rotation Matrices\n",
    "- Euler Angles\n",
    "- Quaternions\n",
    "- Rotation Vectors (Euler axis and angle or simply axis-angle pair)\n",
    "- Modified Rodrigues Parameters\n",
    "\n",
    "as well as different operations on rotations and transformations between them. There is **no representation** that is non-redundant, continuous, and free of singularities. Below is a table summarising their properties:\n",
    "\n",
    "|          **Representation**          |  **Inverse**  | **Rotation of vector** | **Concatenation** | **Interpolation** | **Scipy name** |\n",
    "| :----------------------------------: | :-----------: | :--------------------: | :---------------: | :---------------: | :------------: |\n",
    "|         Rotation matrix $R$          |   Transpose   |          Yes           |        Yes        |        No         |     matrix     |\n",
    "| Euler angles ($\\alpha,\\beta,\\gamma$) |      No       |           No           |        No         |        No         |     euler      |\n",
    "|           Quaternion ($q$)           |   Conjugate   |          Yes           |        Yes        |        Yes        |      quat      |\n",
    "|     Axis-angle ($\\omega,\\theta$)     | Negative axis |           No           |        No         |        Yes        |     rotvec     |\n",
    "|         Rodrigues parameters         |               |                        |                   |                   |      mrp       |\n",
    "\n",
    "\n",
    "For details more details see:  \n",
    "https://dfki-ric.github.io/pytransform3d/rotations.html (most of the documentation here is based on this module)\n",
    "https://en.wikipedia.org/wiki/Rotation_formalisms_in_three_dimensions"
   ]
  },
  {
   "cell_type": "code",
   "execution_count": 1,
   "metadata": {},
   "outputs": [],
   "source": [
    "import numpy as np\n",
    "import matplotlib.pyplot as plt\n",
    "from scipy.spatial.transform import Rotation as r"
   ]
  },
  {
   "attachments": {},
   "cell_type": "markdown",
   "metadata": {},
   "source": [
    "Rotations are defined by the following way:  \n",
    "\n",
    "``r.from_<representation>(parameters)``  \n",
    "\n",
    "where the representation of the rotation can be any of the types defined in the table (Scipy name) and the parameters to be entered depend on the type of representation: For example:"
   ]
  },
  {
   "cell_type": "code",
   "execution_count": 2,
   "metadata": {},
   "outputs": [],
   "source": [
    "# define a rotation using Euler angles (Bunge convention)\n",
    "rotation = r.from_euler('zxz', [30, 45, 40], degrees=True)"
   ]
  },
  {
   "attachments": {},
   "cell_type": "markdown",
   "metadata": {},
   "source": [
    "and transformed using:  \n",
    "\n",
    "``r.as_<representation>(parameters)`` "
   ]
  },
  {
   "cell_type": "code",
   "execution_count": 3,
   "metadata": {},
   "outputs": [
    {
     "data": {
      "text/plain": [
       "array([0.38122721, 0.03335306, 0.52991553, 0.75679781])"
      ]
     },
     "execution_count": 3,
     "metadata": {},
     "output_type": "execute_result"
    }
   ],
   "source": [
    "rotation.as_quat()"
   ]
  },
  {
   "attachments": {},
   "cell_type": "markdown",
   "metadata": {},
   "source": [
    "### A brief note on the representations we are going to use\n",
    "\n",
    "TODO"
   ]
  },
  {
   "cell_type": "code",
   "execution_count": 4,
   "metadata": {},
   "outputs": [
    {
     "name": "stdout",
     "output_type": "stream",
     "text": [
      "Euler angles: [30. 45. 40.] (Bunge convention)\n",
      "Euler angles: [79.87925979 32.79775133 32.73240721] (Other convention)\n",
      "Quaternions: [0.38122721 0.03335306 0.52991553 0.75679781]\n",
      "Rotation vectors: [47.61167346  4.16548168 66.18143918]\n",
      "Modified Rodrigues Parameters: [0.21700119 0.01898514 0.30163718]\n",
      "Rotation matrix: \n",
      " [[ 0.43615421 -0.77664764  0.45451948]\n",
      " [ 0.82750801  0.1477107  -0.54167522]\n",
      " [ 0.35355339  0.61237244  0.70710678]]\n"
     ]
    }
   ],
   "source": [
    "print(f\"Euler angles: {rotation.as_euler('zxz', degrees=True)} (Bunge convention)\")\n",
    "print(f\"Euler angles: {rotation.as_euler('zxy', degrees=True)} (Other convention)\")\n",
    "print(f\"Quaternions: {rotation.as_quat()}\")\n",
    "print(f\"Rotation vectors: {rotation.as_rotvec(degrees=True)}\")\n",
    "print(f\"Modified Rodrigues Parameters: {rotation.as_mrp()}\")\n",
    "print(f\"Rotation matrix: \\n {rotation.as_matrix()}\")"
   ]
  },
  {
   "cell_type": "code",
   "execution_count": 5,
   "metadata": {},
   "outputs": [
    {
     "data": {
      "text/plain": [
       "array([0.3812, 0.0334, 0.5299, 0.7568])"
      ]
     },
     "execution_count": 5,
     "metadata": {},
     "output_type": "execute_result"
    }
   ],
   "source": [
    "np.around(rotation.as_quat(), decimals=4)"
   ]
  },
  {
   "cell_type": "code",
   "execution_count": 6,
   "metadata": {},
   "outputs": [
    {
     "name": "stdout",
     "output_type": "stream",
     "text": [
      "Notebook tested in 2023-02-03 using:\n",
      "Python 3.10.9 | packaged by conda-forge | (main, Jan 11 2023, 15:15:40) [MSC v.1916 64 bit (AMD64)]\n",
      "Numpy 1.23.5\n",
      "Scipy 1.9.3\n",
      "Matplolib 3.6.2\n"
     ]
    }
   ],
   "source": [
    "import sys\n",
    "import scipy as sp\n",
    "import matplotlib as mpl\n",
    "from datetime import date    \n",
    "today = date.today().isoformat()\n",
    "\n",
    "print(f'Notebook tested in {today} using:')\n",
    "print('Python', sys.version)\n",
    "print('Numpy', np.__version__)\n",
    "print('Scipy', sp.__version__)\n",
    "print('Matplolib', mpl.__version__)"
   ]
  }
 ],
 "metadata": {
  "kernelspec": {
   "display_name": "main",
   "language": "python",
   "name": "python3"
  },
  "language_info": {
   "codemirror_mode": {
    "name": "ipython",
    "version": 3
   },
   "file_extension": ".py",
   "mimetype": "text/x-python",
   "name": "python",
   "nbconvert_exporter": "python",
   "pygments_lexer": "ipython3",
   "version": "3.10.9"
  },
  "orig_nbformat": 4,
  "vscode": {
   "interpreter": {
    "hash": "073408933f31e8ac7f6b4bf29a6f48e1a2f613d7d5b6e5c6c58fd8fdc8389e42"
   }
  }
 },
 "nbformat": 4,
 "nbformat_minor": 2
}
