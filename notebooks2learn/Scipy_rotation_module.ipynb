{
 "cells": [
  {
   "attachments": {},
   "cell_type": "markdown",
   "metadata": {},
   "source": [
    "# Basics of Scipy's rotation submodule\n",
    "\n",
    "> **Goal**: TODO\n",
    "\n",
    "TODO -> Explain briefly the group of all rotations in the 3D Cartesian space and how it works using Scipy's submodule rotations\n",
    "\n",
    "For details see: https://dfki-ric.github.io/pytransform3d/rotations.html"
   ]
  },
  {
   "cell_type": "code",
   "execution_count": 1,
   "metadata": {},
   "outputs": [],
   "source": [
    "import numpy as np\n",
    "import matplotlib.pyplot as plt\n",
    "from scipy.spatial.transform import Rotation as r"
   ]
  },
  {
   "cell_type": "code",
   "execution_count": 2,
   "metadata": {},
   "outputs": [],
   "source": [
    "# define a rotation using Euler angles (Bunge convention)\n",
    "rotation = r.from_euler('zxz', [30, 45, 40], degrees=True)"
   ]
  },
  {
   "cell_type": "code",
   "execution_count": 3,
   "metadata": {},
   "outputs": [
    {
     "name": "stdout",
     "output_type": "stream",
     "text": [
      "Euler angles: [30. 45. 40.] (Bunge convention)\n",
      "Euler angles: [79.87925979 32.79775133 32.73240721] (Other convention)\n",
      "Quaternions: [0.38122721 0.03335306 0.52991553 0.75679781]\n",
      "Rotation vectors: [47.61167346  4.16548168 66.18143918]\n",
      "Modified Rodrigues Parameters: [0.21700119 0.01898514 0.30163718]\n",
      "Rotation matrix: \n",
      " [[ 0.43615421 -0.77664764  0.45451948]\n",
      " [ 0.82750801  0.1477107  -0.54167522]\n",
      " [ 0.35355339  0.61237244  0.70710678]]\n"
     ]
    }
   ],
   "source": [
    "print(f\"Euler angles: {rotation.as_euler('zxz', degrees=True)} (Bunge convention)\")\n",
    "print(f\"Euler angles: {rotation.as_euler('zxy', degrees=True)} (Other convention)\")\n",
    "print(f\"Quaternions: {rotation.as_quat()}\")\n",
    "print(f\"Rotation vectors: {rotation.as_rotvec(degrees=True)}\")\n",
    "print(f\"Modified Rodrigues Parameters: {rotation.as_mrp()}\")\n",
    "print(f\"Rotation matrix: \\n {rotation.as_matrix()}\")"
   ]
  },
  {
   "cell_type": "code",
   "execution_count": 4,
   "metadata": {},
   "outputs": [
    {
     "data": {
      "text/plain": [
       "array([0.3812, 0.0334, 0.5299, 0.7568])"
      ]
     },
     "execution_count": 4,
     "metadata": {},
     "output_type": "execute_result"
    }
   ],
   "source": [
    "np.around(rotation.as_quat(), decimals=4)"
   ]
  },
  {
   "cell_type": "code",
   "execution_count": 5,
   "metadata": {},
   "outputs": [
    {
     "name": "stdout",
     "output_type": "stream",
     "text": [
      "Notebook tested in 2023-02-02 using:\n",
      "Python 3.10.9 | packaged by conda-forge | (main, Jan 11 2023, 15:15:40) [MSC v.1916 64 bit (AMD64)]\n",
      "Numpy 1.23.5\n",
      "Scipy 1.9.3\n",
      "Matplolib 3.6.2\n"
     ]
    }
   ],
   "source": [
    "import sys\n",
    "import scipy as sp\n",
    "import matplotlib as mpl\n",
    "from datetime import date    \n",
    "today = date.today().isoformat()\n",
    "\n",
    "print(f'Notebook tested in {today} using:')\n",
    "print('Python', sys.version)\n",
    "print('Numpy', np.__version__)\n",
    "print('Scipy', sp.__version__)\n",
    "print('Matplolib', mpl.__version__)"
   ]
  }
 ],
 "metadata": {
  "kernelspec": {
   "display_name": "main",
   "language": "python",
   "name": "python3"
  },
  "language_info": {
   "codemirror_mode": {
    "name": "ipython",
    "version": 3
   },
   "file_extension": ".py",
   "mimetype": "text/x-python",
   "name": "python",
   "nbconvert_exporter": "python",
   "pygments_lexer": "ipython3",
   "version": "3.10.9"
  },
  "orig_nbformat": 4,
  "vscode": {
   "interpreter": {
    "hash": "073408933f31e8ac7f6b4bf29a6f48e1a2f613d7d5b6e5c6c58fd8fdc8389e42"
   }
  }
 },
 "nbformat": 4,
 "nbformat_minor": 2
}
