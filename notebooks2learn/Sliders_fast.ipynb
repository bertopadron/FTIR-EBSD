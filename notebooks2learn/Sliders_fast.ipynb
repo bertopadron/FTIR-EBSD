{
 "cells": [
  {
   "cell_type": "code",
   "execution_count": 1,
   "metadata": {},
   "outputs": [],
   "source": [
    "import numpy as np\n",
    "import matplotlib.pyplot as plt\n",
    "from matplotlib import cm\n",
    "import funciones as f\n",
    "\n",
    "from ipywidgets import interact, FloatSlider"
   ]
  },
  {
   "cell_type": "code",
   "execution_count": 2,
   "metadata": {},
   "outputs": [],
   "source": [
    "# generate a mesh of spherical/polar coordinates\n",
    "polar, azimuths = f.regular_S2_grid(n_squared=100)\n",
    "\n",
    "# estimate T values\n",
    "T = f.Tvalues(trans=(90, 50, 20), theta=polar, phi=azimuths)\n",
    "\n",
    "# convert from spherical to cartesian coordinates\n",
    "x, y, z = f.sph2cart(T, azimuths, polar)\n",
    "\n",
    "# normalize colors for T values to max and min values\n",
    "Tmax, Tmin = T.max(), T.min()\n",
    "Tcolors = (T - Tmin) / (Tmax - Tmin)"
   ]
  },
  {
   "cell_type": "code",
   "execution_count": 3,
   "metadata": {},
   "outputs": [
    {
     "data": {
      "application/vnd.jupyter.widget-view+json": {
       "model_id": "d453bd03a43644d1a8a92822cedf9336",
       "version_major": 2,
       "version_minor": 0
      },
      "text/plain": [
       "interactive(children=(FloatSlider(value=0.0, description='phi1', max=180.0, step=10.0), FloatSlider(value=0.0,…"
      ]
     },
     "metadata": {},
     "output_type": "display_data"
    },
    {
     "data": {
      "text/plain": [
       "<function __main__.plot_interactive(phi1, PHI, phi2)>"
      ]
     },
     "execution_count": 3,
     "metadata": {},
     "output_type": "execute_result"
    }
   ],
   "source": [
    "def plot_interactive(phi1, PHI, phi2):\n",
    "\n",
    "    rotation = f.rotate(coordinates=(x, y, z), euler_ang=(phi1, PHI, phi2))\n",
    "    results = f.extract_XY_section_fast(rotation[0], rotation[1], rotation[2])\n",
    "\n",
    "    fig, (ax1, ax2) = plt.subplots(ncols=2, figsize=(10, 10), subplot_kw={\"projection\": \"3d\"}, constrained_layout=True)\n",
    "    \n",
    "    ax1.plot_surface(rotation[0], rotation[1], rotation[2], rstride=1, cstride=1, facecolors=cm.Spectral_r(Tcolors))\n",
    "    ax1.set_xlabel(r'$x$')\n",
    "    ax1.set_title('rotated')\n",
    "\n",
    "    ax2.plot(results['x'], results['y'], np.zeros_like(results['x']))\n",
    "    ax2.set_title(r'horizontal section')\n",
    "\n",
    "interact(plot_interactive,\n",
    "         phi1 = FloatSlider(value=0, min=0, max=180, step=10.0),\n",
    "         PHI = FloatSlider(value=0, min=0, max=90, step=10.0),\n",
    "         phi2 = FloatSlider(value=0, min=0, max=180, step=10.0))"
   ]
  },
  {
   "cell_type": "code",
   "execution_count": 4,
   "metadata": {},
   "outputs": [
    {
     "data": {
      "application/vnd.jupyter.widget-view+json": {
       "model_id": "add23062e94643ebac69cca4d8f62f38",
       "version_major": 2,
       "version_minor": 0
      },
      "text/plain": [
       "interactive(children=(FloatSlider(value=0.0, description='phi1', max=180.0, step=5.0), FloatSlider(value=0.0, …"
      ]
     },
     "metadata": {},
     "output_type": "display_data"
    },
    {
     "data": {
      "text/plain": [
       "<function __main__.plot_interactive(phi1, PHI, phi2)>"
      ]
     },
     "execution_count": 4,
     "metadata": {},
     "output_type": "execute_result"
    }
   ],
   "source": [
    "def plot_interactive(phi1, PHI, phi2):\n",
    "    \n",
    "    rotation = f.rotate(coordinates=(x, y, z), euler_ang=(phi1, PHI, phi2))    \n",
    "    results = f.extract_XY_section_fast(rotation[0], rotation[1], rotation[2])\n",
    "    \n",
    "    fig, ax = plt.subplots()\n",
    "    ax.plot(results['x'], results['y'])\n",
    "    ax.set_xlim(-100,100)\n",
    "    ax.set_ylim(-100,100)\n",
    "    ax.set_aspect('equal', 'box')\n",
    "\n",
    "    plt.show()\n",
    "\n",
    "interact(plot_interactive,\n",
    "         phi1 = FloatSlider(value=0, min=0, max=180, step=5.0),\n",
    "         PHI = FloatSlider(value=0, min=0, max=90, step=5.0),\n",
    "         phi2 = FloatSlider(value=0, min=0, max=180, step=5.0),\n",
    "                                               )"
   ]
  }
 ],
 "metadata": {
  "kernelspec": {
   "display_name": "Python 3 (ipykernel)",
   "language": "python",
   "name": "python3"
  },
  "language_info": {
   "codemirror_mode": {
    "name": "ipython",
    "version": 3
   },
   "file_extension": ".py",
   "mimetype": "text/x-python",
   "name": "python",
   "nbconvert_exporter": "python",
   "pygments_lexer": "ipython3",
   "version": "3.10.13"
  },
  "vscode": {
   "interpreter": {
    "hash": "e0f19d7df56e5761da96bd656548da0a2078e6f331c39beb2ac8c15854e5ec02"
   }
  }
 },
 "nbformat": 4,
 "nbformat_minor": 4
}
