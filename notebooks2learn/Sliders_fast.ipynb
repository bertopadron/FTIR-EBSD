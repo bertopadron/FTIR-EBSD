{
 "cells": [
  {
   "cell_type": "code",
   "execution_count": 1,
   "metadata": {},
   "outputs": [],
   "source": [
    "import numpy as np\n",
    "import matplotlib.pyplot as plt\n",
    "from matplotlib import cm\n",
    "from matplotlib.colors import LightSource\n",
    "import funciones as f\n",
    "\n",
    "from ipywidgets import interact, FloatSlider"
   ]
  },
  {
   "cell_type": "code",
   "execution_count": 2,
   "metadata": {},
   "outputs": [],
   "source": [
    "# generate a mesh of spherical/polar coordinates\n",
    "polar, azimuths = f.regular_S2_grid(n_squared=100)\n",
    "\n",
    "# estimate T values\n",
    "T = f.Tvalues(trans=(0.009882, 0.995815, 0.596951), azimuth=azimuths, polar=polar)\n",
    "\n",
    "# convert from spherical to cartesian coordinates\n",
    "x, y, z = f.sph2cart(T, azimuths, polar)\n",
    "\n",
    "# normalize colors for T values to max and min values\n",
    "Tmax, Tmin = T.max(), T.min()\n",
    "Tcolors = (T - Tmin) / (Tmax - Tmin)"
   ]
  },
  {
   "cell_type": "code",
   "execution_count": 3,
   "metadata": {},
   "outputs": [],
   "source": [
    "origin = np.array([0, 0, 0])\n",
    "x_axis = np.array([1.5, 0, 0])  # 1.5 the length\n",
    "y_axis = np.array([0, 1.5, 0])  # 1.5 the length\n",
    "z_axis = np.array([0, 0, 1.5])  # 1.5 the length\n",
    "x_axis_neg = np.array([-1.5, 0, 0])  # 1.5 the length\n",
    "y_axis_neg = np.array([0, -1.5, 0])  # 1.5 the length\n",
    "z_axis_neg = np.array([0, 0, -1.5])  # 1.5 the length\n",
    "a_axis = np.array([1, 0, 0])\n",
    "b_axis = np.array([0, 1, 0])\n",
    "c_axis = np.array([0, 0, 1])"
   ]
  },
  {
   "cell_type": "code",
   "execution_count": 15,
   "metadata": {},
   "outputs": [
    {
     "data": {
      "application/vnd.jupyter.widget-view+json": {
       "model_id": "61fe164f129f4124937bf4d5bf93ac54",
       "version_major": 2,
       "version_minor": 0
      },
      "text/plain": [
       "interactive(children=(FloatSlider(value=0.0, description='phi1', max=90.0, step=10.0), FloatSlider(value=0.0, …"
      ]
     },
     "metadata": {},
     "output_type": "display_data"
    },
    {
     "data": {
      "text/plain": [
       "<function __main__.plot_interactive(phi1, PHI, phi2)>"
      ]
     },
     "execution_count": 15,
     "metadata": {},
     "output_type": "execute_result"
    }
   ],
   "source": [
    "def plot_interactive(phi1, PHI, phi2):\n",
    "\n",
    "    rotation = f.rotate(coordinates=(x, y, z), euler_ang=(phi1, PHI, phi2))\n",
    "    results = f.extract_XY_section_fast(rotation[0], rotation[1], rotation[2])\n",
    "\n",
    "    fig, (ax1, ax2) = plt.subplots(ncols=2, figsize=(10, 10), subplot_kw={\"projection\": \"3d\"}, constrained_layout=True)\n",
    "\n",
    "    # AXE 1\n",
    "    ax1.quiver(*origin, *x_axis, color='grey', alpha=0.5, arrow_length_ratio=0.0)\n",
    "    ax1.quiver(*origin, *y_axis, color='grey', alpha=0.5, arrow_length_ratio=0.0)\n",
    "    ax1.quiver(*origin, *z_axis, color='grey', alpha=0.5, arrow_length_ratio=0.0)\n",
    "    ax1.quiver(*origin, *x_axis_neg, color='grey', alpha=0.5, arrow_length_ratio=0.0)\n",
    "    ax1.quiver(*origin, *y_axis_neg, color='grey', alpha=0.5, arrow_length_ratio=0.0)\n",
    "    ax1.quiver(*origin, *z_axis_neg, color='grey', alpha=0.5, arrow_length_ratio=0.0)\n",
    "\n",
    "    # Adding labels to the original axes\n",
    "    ax1.text(*x_axis, 'x', color='k', alpha=0.5, fontsize=16, horizontalalignment='right', verticalalignment='top')\n",
    "    ax1.text(*y_axis, 'y', color='k', alpha=0.5, fontsize=16)\n",
    "    ax1.text(*z_axis, 'z', color='k', alpha=0.5, fontsize=16, verticalalignment='bottom')\n",
    "    \n",
    "    # plot the envelope\n",
    "    ls = LightSource(90, 35)\n",
    "    ax1.plot_surface(rotation[0], rotation[1], rotation[2], rstride=1, cstride=1, facecolors=cm.Spectral_r(Tcolors), lightsource=ls)\n",
    "    \n",
    "    # Remove the axes panes and grid\n",
    "    ax1.grid(False)  # Turn off the grid\n",
    "    ax1.axis('off')  # Turn off the axis lines\n",
    "\n",
    "    # Set the plot limits and labels\n",
    "    ax1.set_title('rotated')\n",
    "    ax1.set_xlim([-1.2, 1.2])\n",
    "    ax1.set_ylim([-1.2, 1.2])\n",
    "    ax1.set_zlim([-1.2, 1.2])\n",
    "    ax1.view_init(elev=35, azim=30)\n",
    "\n",
    "\n",
    "    # AXE 2\n",
    "    ax2.quiver(*origin, *x_axis, color='grey', alpha=0.5, arrow_length_ratio=0.0)\n",
    "    ax2.quiver(*origin, *y_axis, color='grey', alpha=0.5, arrow_length_ratio=0.0)\n",
    "    ax2.quiver(*origin, *z_axis, color='grey', alpha=0.5, arrow_length_ratio=0.0)\n",
    "    ax2.quiver(*origin, *x_axis_neg, color='grey', alpha=0.5, arrow_length_ratio=0.0)\n",
    "    ax2.quiver(*origin, *y_axis_neg, color='grey', alpha=0.5, arrow_length_ratio=0.0)\n",
    "    ax2.quiver(*origin, *z_axis_neg, color='grey', alpha=0.5, arrow_length_ratio=0.0)\n",
    "\n",
    "    # Adding labels to the original axes\n",
    "    ax2.text(*x_axis, 'x', color='k', alpha=0.5, fontsize=16, horizontalalignment='right', verticalalignment='top')\n",
    "    ax2.text(*y_axis, 'y', color='k', alpha=0.5, fontsize=16)\n",
    "    ax2.text(*z_axis, 'z', color='k', alpha=0.5, fontsize=16, verticalalignment='bottom')\n",
    "\n",
    "    ax2.plot(results['x'], results['y'], np.zeros_like(results['x']))\n",
    "\n",
    "    # Remove the axes panes and grid\n",
    "    ax2.grid(False)  # Turn off the grid\n",
    "    ax2.axis('off')  # Turn off the axis lines\n",
    "\n",
    "    # Set the plot limits and labels\n",
    "    ax2.set_title(r'xy plane section')\n",
    "    ax2.set_xlim([-1.2, 1.2])\n",
    "    ax2.set_ylim([-1.2, 1.2])\n",
    "    ax2.set_zlim([-1.2, 1.2])\n",
    "    ax2.view_init(elev=35, azim=30)\n",
    "\n",
    "interact(plot_interactive,\n",
    "         phi1 = FloatSlider(value=0, min=0, max=90, step=10.0),\n",
    "         PHI = FloatSlider(value=0, min=0, max=180, step=10.0),\n",
    "         phi2 = FloatSlider(value=0, min=0, max=90, step=10.0))"
   ]
  },
  {
   "cell_type": "code",
   "execution_count": 5,
   "metadata": {
    "tags": []
   },
   "outputs": [
    {
     "data": {
      "application/vnd.jupyter.widget-view+json": {
       "model_id": "b417d806a73f45dcb482a3b83faf409b",
       "version_major": 2,
       "version_minor": 0
      },
      "text/plain": [
       "interactive(children=(FloatSlider(value=0.0, description='phi1', max=90.0, step=5.0), FloatSlider(value=0.0, d…"
      ]
     },
     "metadata": {},
     "output_type": "display_data"
    },
    {
     "data": {
      "text/plain": [
       "<function __main__.plot_interactive(phi1, PHI, phi2)>"
      ]
     },
     "execution_count": 5,
     "metadata": {},
     "output_type": "execute_result"
    }
   ],
   "source": [
    "def plot_interactive(phi1, PHI, phi2):\n",
    "    \n",
    "    rotation = f.rotate(coordinates=(x, y, z), euler_ang=(phi1, PHI, phi2))    \n",
    "    results = f.extract_XY_section_fast(rotation[0], rotation[1], rotation[2])\n",
    "    \n",
    "    fig, ax = plt.subplots()\n",
    "    ax.plot(results['x'], results['y'])\n",
    "    ax.set_xlim(-100,100)\n",
    "    ax.set_ylim(-100,100)\n",
    "    ax.set_aspect('equal', 'box')\n",
    "\n",
    "interact(plot_interactive,\n",
    "         phi1 = FloatSlider(value=0, min=0, max=90, step=5.0),\n",
    "         PHI = FloatSlider(value=0, min=0, max=180, step=5.0),\n",
    "         phi2 = FloatSlider(value=0, min=0, max=90, step=5.0))"
   ]
  }
 ],
 "metadata": {
  "kernelspec": {
   "display_name": "Python 3 (ipykernel)",
   "language": "python",
   "name": "python3"
  },
  "language_info": {
   "codemirror_mode": {
    "name": "ipython",
    "version": 3
   },
   "file_extension": ".py",
   "mimetype": "text/x-python",
   "name": "python",
   "nbconvert_exporter": "python",
   "pygments_lexer": "ipython3",
   "version": "3.12.4"
  },
  "vscode": {
   "interpreter": {
    "hash": "e0f19d7df56e5761da96bd656548da0a2078e6f331c39beb2ac8c15854e5ec02"
   }
  }
 },
 "nbformat": 4,
 "nbformat_minor": 4
}
