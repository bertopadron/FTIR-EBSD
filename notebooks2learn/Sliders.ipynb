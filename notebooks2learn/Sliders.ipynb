{
 "cells": [
  {
   "cell_type": "code",
   "execution_count": 1,
   "metadata": {},
   "outputs": [],
   "source": [
    "# required Python imports\n",
    "import numpy as np\n",
    "import matplotlib.pyplot as plt\n",
    "from matplotlib import cm\n",
    "\n",
    "from scipy.spatial.transform import Rotation as r"
   ]
  },
  {
   "cell_type": "code",
   "execution_count": 3,
   "metadata": {},
   "outputs": [],
   "source": [
    "# define some neccesary funtions\n",
    "def sph2cart(phi, theta, T):\n",
    "    \"\"\" Convert from spherical/polar (phi, thetha) to cartesian\n",
    "    coordinates.\n",
    "\n",
    "    Parameters\n",
    "    ----------\n",
    "    phi : int or float between 0 and pi/2\n",
    "        angle respect to the c-axis in radians\n",
    "    theta : int or float between 0 and 2*pi\n",
    "        angle respect to the a-axis in radians\n",
    "    T : int or float\n",
    "        the magnitud of the vector (rho) in polar coordinates\n",
    "\n",
    "    Returns\n",
    "    -------\n",
    "    numpy ndarrays (1d)\n",
    "        three numpy 1d arrays with the x, y, and z coordinates\n",
    "    \"\"\"\n",
    "    \n",
    "    x = T * np.sin(phi) * np.cos(theta)\n",
    "    y = T * np.sin(phi) * np.sin(theta)\n",
    "    z = T * np.cos(phi)\n",
    "    \n",
    "    return x, y, z\n",
    "\n",
    "\n",
    "def Tvalues(trans, phi, theta):\n",
    "    \"\"\" Calculates the transmission value for any direction in polar\n",
    "    coordinates using the equation (5) of Asimov et al. (2006) for a\n",
    "    especific wavelength ignoring the sample thickness (i.e. =1).\n",
    "\n",
    "    Parameters\n",
    "    ----------\n",
    "    trans : a tuple of size 3\n",
    "        tuple containeing the transmission values along a-axis (Ta),\n",
    "        b-axis (Tb), and c-axis (Tc). -> (Ta, Tb, Tc)\n",
    "    phi : int or float between 0 and pi/2\n",
    "        angle respect to the c-axis in radians\n",
    "    theta : int or float between 0 and 2*pi\n",
    "        angle respect to the a-axis in radians\n",
    "\n",
    "    Returns\n",
    "    -------\n",
    "    numpy array\n",
    "        the calculated T values for any given orientation\n",
    "    \"\"\"\n",
    "\n",
    "    # extract Tx values\n",
    "    Ta, Tb, Tc = trans\n",
    "    \n",
    "    return Ta * np.cos(theta)**2 * np.sin(phi)**2 + \\\n",
    "           Tb * np.sin(theta)**2 * np.sin(phi)**2 + \\\n",
    "           Tc * np.cos(phi)**2\n",
    "\n",
    "def rotate(coordinates, euler_ang):\n",
    "    \"\"\" Rotate points in 3D cartesian space using the Bunge convention\n",
    "    in degrees with intrinsic rotation. This is just a wrapper for the\n",
    "    r.from_euler() Scipy method for convenience\n",
    "\n",
    "    Parameters\n",
    "    ----------\n",
    "    coordinates : tuple of size 3\n",
    "        a tuple containing the cartesian coordinates of this form:\n",
    "        (x, y, z). variables x, y and z can be scalars or arrays.\n",
    "    euler_ang : tuple of size 3\n",
    "        a tuple containing the three euler angles in degrees\n",
    "        using Bunge convention -> (z, x, z)\n",
    "\n",
    "    Returns\n",
    "    -------\n",
    "    three numpy arrays containing the x, y, z coordinates respectively\n",
    "    \n",
    "    Example\n",
    "    -------\n",
    "    x, y, z = rotate(coordinates=(x, y, z), euler_ang=(30, 0, 40))\n",
    "    \"\"\"\n",
    "    # create a ndarray to vectorize the rotation operation\n",
    "    coordinates = np.dstack(coordinates)\n",
    "\n",
    "    # define a rotation in euler space (Bunge) for intrinsic rotations\n",
    "    rotation = r.from_euler('zxz', [euler_ang[0], euler_ang[1], euler_ang[2]], degrees=True)\n",
    "\n",
    "    # apply rotation\n",
    "    new_coordinates = coordinates @ rotation.as_matrix().T\n",
    "\n",
    "    return new_coordinates[:,:,0], new_coordinates[:,:,1], new_coordinates[:,:,2]\n",
    "    "
   ]
  },
  {
   "cell_type": "code",
   "execution_count": 4,
   "metadata": {},
   "outputs": [],
   "source": [
    "# generate a mesh of spherical/polar coordinates\n",
    "theta = np.linspace(0, 2*np.pi, 100)\n",
    "phi = np.arccos(1 - 2 * np.linspace(0, 1, 100))  # in this case np.linspace goes from 0 to 1 (not pi)!\n",
    "phi, theta = np.meshgrid(phi, theta)\n",
    "\n",
    "# estimate T values\n",
    "T = Tvalues(trans=(90, 50, 20), phi=phi, theta=theta)\n",
    "\n",
    "# convert from spherical to cartesian coordinates\n",
    "x, y, z = sph2cart(phi, theta, T)\n",
    "\n",
    "# normalize colors for T values to max and min values\n",
    "Tmax, Tmin = T.max(), T.min()\n",
    "Tcolors = (T - Tmin) / (Tmax - Tmin)"
   ]
  },
  {
   "cell_type": "code",
   "execution_count": 5,
   "metadata": {},
   "outputs": [],
   "source": [
    "from ipywidgets import interact, interactive, fixed, interact_manual\n",
    "import ipywidgets as widgets\n",
    "%matplotlib inline"
   ]
  },
  {
   "cell_type": "code",
   "execution_count": 78,
   "metadata": {},
   "outputs": [
    {
     "data": {
      "application/vnd.jupyter.widget-view+json": {
       "model_id": "c9787094c5164bb7a71805ea026f5a33",
       "version_major": 2,
       "version_minor": 0
      },
      "text/plain": [
       "interactive(children=(FloatSlider(value=0.0, description='phi1', max=180.0, step=10.0), FloatSlider(value=0.0,…"
      ]
     },
     "metadata": {},
     "output_type": "display_data"
    },
    {
     "data": {
      "text/plain": [
       "<function __main__.plot_interactive(phi1, PHI, phi2)>"
      ]
     },
     "execution_count": 78,
     "metadata": {},
     "output_type": "execute_result"
    }
   ],
   "source": [
    "def plot_interactive(phi1, PHI, phi2):\n",
    "    euler_ang=(phi1, PHI, phi2)\n",
    "    rotation = rotate(coordinates=(x, y, z), euler_ang=euler_ang)\n",
    "    fig, axes = plt.subplots(1, 2, figsize=(10, 10), subplot_kw={\"projection\": \"3d\"}, constrained_layout=True)\n",
    "\n",
    "    # first row: rotations around phi 1\n",
    "    axes[0].plot_surface(rotation[0], rotation[1], rotation[2], rstride=1, cstride=1, facecolors=cm.Spectral_r(Tcolors))\n",
    "    axes[0].set_xlabel(r'$x$')\n",
    "    axes[0].set_title('rotated')\n",
    "\n",
    "    axes[1].contour(rotation[0], rotation[1], rotation[2], [0])\n",
    "    axes[1].set_title(r'horizontal section')\n",
    "\n",
    "interact(plot_interactive, phi1 = widgets.FloatSlider(value=0, min=0, max=180, step=10.0),\n",
    "         PHI = widgets.FloatSlider(value=0, min=0, max=90, step=10.0),\n",
    "         phi2 = widgets.FloatSlider(value=0, min=0, max=180, step=10.0))"
   ]
  },
  {
   "cell_type": "code",
   "execution_count": 10,
   "metadata": {},
   "outputs": [
    {
     "data": {
      "application/vnd.jupyter.widget-view+json": {
       "model_id": "4d865d7de90e4f7bb7a319d5ef6fbd9d",
       "version_major": 2,
       "version_minor": 0
      },
      "text/plain": [
       "interactive(children=(FloatSlider(value=0.0, description='phi1', max=180.0, step=5.0), FloatSlider(value=0.0, …"
      ]
     },
     "metadata": {},
     "output_type": "display_data"
    },
    {
     "data": {
      "text/plain": [
       "<function __main__.plot_interactive(phi1, PHI, phi2)>"
      ]
     },
     "execution_count": 10,
     "metadata": {},
     "output_type": "execute_result"
    }
   ],
   "source": [
    "def plot_interactive(phi1, PHI, phi2):\n",
    "    euler_ang=(phi1, PHI, phi2)\n",
    "    rotation = rotate(coordinates=(x, y, z), euler_ang=euler_ang)\n",
    "    fig, ax = plt.subplots()\n",
    "\n",
    "    ax.contour(rotation[0], rotation[1], rotation[2], [0], figsize=(10, 10), constrained_layout=True)\n",
    "    ax.set_xlim(-100,100)\n",
    "    ax.set_ylim(-100,100)\n",
    "    ax.set_aspect('equal', 'box')\n",
    "\n",
    "    plt.show()\n",
    "\n",
    "interact(plot_interactive, phi1 = widgets.FloatSlider(value=0, min=0, max=180, step=5.0),\n",
    "         PHI = widgets.FloatSlider(value=0, min=0, max=90, step=5.0),\n",
    "         phi2 = widgets.FloatSlider(value=0, min=0, max=180, step=5.0),\n",
    "                                               )"
   ]
  },
  {
   "cell_type": "markdown",
   "metadata": {},
   "source": [
    "## Minimization Trial using Tmax, Tmin and beta \n",
    "\n",
    "I am going to try to get first these values (that i think are unique for a given rotation) and then try to use them to minimize the function"
   ]
  },
  {
   "cell_type": "code",
   "execution_count": 30,
   "metadata": {},
   "outputs": [
    {
     "data": {
      "image/png": "[encoded data removed]",
      "text/plain": [
       "<Figure size 640x480 with 1 Axes>"
      ]
     },
     "metadata": {},
     "output_type": "display_data"
    }
   ],
   "source": [
    "euler_ang=(105, 65, 50)\n",
    "rotation = rotate(coordinates=(x, y, z), euler_ang=euler_ang)\n",
    "section_xy = plt.contour(rotation[0], rotation[1], rotation[2], [0])"
   ]
  },
  {
   "cell_type": "markdown",
   "metadata": {},
   "source": [
    "The following function finds the max, min values of T in the horizontal section and the angle relative to the \"East\" and the maximum T_section"
   ]
  },
  {
   "cell_type": "code",
   "execution_count": 100,
   "metadata": {},
   "outputs": [],
   "source": [
    "def parm_section(phi1, PHI, phi2):\n",
    "    \"\"\" section_xy is generated using ax.contour and z = 0, i.e. [0]\n",
    "    matplotlib.contour.QuadContourSet\n",
    "    \n",
    "    section_xy = ax.contour(rotation[0], rotation[1], rotation[2], [0])\n",
    "    \"\"\" \n",
    "\n",
    "    rotation = rotate(coordinates=(x, y, z), euler_ang=(phi1, PHI, phi2))\n",
    "    section_xy = plt.contour(rotation[0], rotation[1], rotation[2], [0])\n",
    "\n",
    "    T_xy = section_xy.allsegs[0]\n",
    "    T_xy = T_xy[0]\n",
    "    T_section = np.sqrt(T_xy[:,0]**2 + T_xy[:,1]**2)\n",
    "    T_section = T_section.round()\n",
    "    \n",
    "    index_T = np.where(T_section == T_section.max())\n",
    "    T_xy[index_T[0],:]\n",
    "    beta = np.arccos(T_xy[index_T[0][0],0]/T_section.max())\n",
    "    beta = np.degrees(beta)\n",
    "    beta\n",
    "    \n",
    "    T_section_max = T_section.max()\n",
    "    T_section_min = T_section.min()\n",
    "    \n",
    "    return beta.round(), T_section_max, T_section_min"
   ]
  },
  {
   "cell_type": "code",
   "execution_count": 109,
   "metadata": {},
   "outputs": [
    {
     "data": {
      "text/plain": [
       "(91.0, 78.0, 25.0)"
      ]
     },
     "execution_count": 109,
     "metadata": {},
     "output_type": "execute_result"
    },
    {
     "data": {
      "image/png": "[encoded data removed]",
      "text/plain": [
       "<Figure size 640x480 with 1 Axes>"
      ]
     },
     "metadata": {},
     "output_type": "display_data"
    }
   ],
   "source": [
    "parm_section(34, 67, 88)"
   ]
  },
  {
   "cell_type": "code",
   "execution_count": 104,
   "metadata": {},
   "outputs": [],
   "source": [
    "ydata = (91.0, 78.0, 25.0)\n",
    "\n",
    "def g(phi1g, PHIg, phi2g):\n",
    "    return ydata - np.array(parm_section(phi1g, PHIg, phi2g))"
   ]
  },
  {
   "cell_type": "code",
   "execution_count": 111,
   "metadata": {},
   "outputs": [
    {
     "data": {
      "text/plain": [
       "(91.0, 78.0, 25.0)"
      ]
     },
     "execution_count": 111,
     "metadata": {},
     "output_type": "execute_result"
    }
   ],
   "source": [
    "ydata"
   ]
  },
  {
   "cell_type": "code",
   "execution_count": 108,
   "metadata": {},
   "outputs": [
    {
     "ename": "TypeError",
     "evalue": "g() missing 1 required positional argument: 'phi2g'",
     "output_type": "error",
     "traceback": [
      "\u001b[0;31m---------------------------------------------------------------------------\u001b[0m",
      "\u001b[0;31mTypeError\u001b[0m                                 Traceback (most recent call last)",
      "Cell \u001b[0;32mIn[108], line 2\u001b[0m\n\u001b[1;32m      1\u001b[0m beta \u001b[39m=\u001b[39m (\u001b[39m0.25\u001b[39m, \u001b[39m0.75\u001b[39m, \u001b[39m0.5\u001b[39m)\n\u001b[0;32m----> 2\u001b[0m beta_opt, beta_cov \u001b[39m=\u001b[39m optimize\u001b[39m.\u001b[39;49mleastsq(g, \u001b[39m*\u001b[39;49mbeta)\n\u001b[1;32m      3\u001b[0m beta_opt\n",
      "File \u001b[0;32m~/miniconda3/envs/pnja/lib/python3.10/site-packages/scipy/optimize/_minpack_py.py:413\u001b[0m, in \u001b[0;36mleastsq\u001b[0;34m(func, x0, args, Dfun, full_output, col_deriv, ftol, xtol, gtol, maxfev, epsfcn, factor, diag)\u001b[0m\n\u001b[1;32m    411\u001b[0m \u001b[39mif\u001b[39;00m \u001b[39mnot\u001b[39;00m \u001b[39misinstance\u001b[39m(args, \u001b[39mtuple\u001b[39m):\n\u001b[1;32m    412\u001b[0m     args \u001b[39m=\u001b[39m (args,)\n\u001b[0;32m--> 413\u001b[0m shape, dtype \u001b[39m=\u001b[39m _check_func(\u001b[39m'\u001b[39;49m\u001b[39mleastsq\u001b[39;49m\u001b[39m'\u001b[39;49m, \u001b[39m'\u001b[39;49m\u001b[39mfunc\u001b[39;49m\u001b[39m'\u001b[39;49m, func, x0, args, n)\n\u001b[1;32m    414\u001b[0m m \u001b[39m=\u001b[39m shape[\u001b[39m0\u001b[39m]\n\u001b[1;32m    416\u001b[0m \u001b[39mif\u001b[39;00m n \u001b[39m>\u001b[39m m:\n",
      "File \u001b[0;32m~/miniconda3/envs/pnja/lib/python3.10/site-packages/scipy/optimize/_minpack_py.py:26\u001b[0m, in \u001b[0;36m_check_func\u001b[0;34m(checker, argname, thefunc, x0, args, numinputs, output_shape)\u001b[0m\n\u001b[1;32m     24\u001b[0m \u001b[39mdef\u001b[39;00m \u001b[39m_check_func\u001b[39m(checker, argname, thefunc, x0, args, numinputs,\n\u001b[1;32m     25\u001b[0m                 output_shape\u001b[39m=\u001b[39m\u001b[39mNone\u001b[39;00m):\n\u001b[0;32m---> 26\u001b[0m     res \u001b[39m=\u001b[39m atleast_1d(thefunc(\u001b[39m*\u001b[39;49m((x0[:numinputs],) \u001b[39m+\u001b[39;49m args)))\n\u001b[1;32m     27\u001b[0m     \u001b[39mif\u001b[39;00m (output_shape \u001b[39mis\u001b[39;00m \u001b[39mnot\u001b[39;00m \u001b[39mNone\u001b[39;00m) \u001b[39mand\u001b[39;00m (shape(res) \u001b[39m!=\u001b[39m output_shape):\n\u001b[1;32m     28\u001b[0m         \u001b[39mif\u001b[39;00m (output_shape[\u001b[39m0\u001b[39m] \u001b[39m!=\u001b[39m \u001b[39m1\u001b[39m):\n",
      "\u001b[0;31mTypeError\u001b[0m: g() missing 1 required positional argument: 'phi2g'"
     ]
    }
   ],
   "source": [
    "beta = (0.25, 0.75, 0.5)\n",
    "beta_opt, beta_cov = optimize.leastsq(g, *beta)\n",
    "beta_opt"
   ]
  },
  {
   "cell_type": "code",
   "execution_count": 64,
   "metadata": {},
   "outputs": [],
   "source": [
    "from scipy import optimize"
   ]
  },
  {
   "cell_type": "code",
   "execution_count": 68,
   "metadata": {},
   "outputs": [
    {
     "data": {
      "text/plain": [
       "(105, 65, 50)"
      ]
     },
     "execution_count": 68,
     "metadata": {},
     "output_type": "execute_result"
    }
   ],
   "source": [
    "euler_ang"
   ]
  },
  {
   "cell_type": "code",
   "execution_count": null,
   "metadata": {},
   "outputs": [],
   "source": []
  },
  {
   "cell_type": "code",
   "execution_count": null,
   "metadata": {},
   "outputs": [],
   "source": []
  },
  {
   "cell_type": "code",
   "execution_count": null,
   "metadata": {},
   "outputs": [],
   "source": []
  }
 ],
 "metadata": {
  "kernelspec": {
   "display_name": "Python 3 (ipykernel)",
   "language": "python",
   "name": "python3"
  },
  "language_info": {
   "codemirror_mode": {
    "name": "ipython",
    "version": 3
   },
   "file_extension": ".py",
   "mimetype": "text/x-python",
   "name": "python",
   "nbconvert_exporter": "python",
   "pygments_lexer": "ipython3",
   "version": "3.10.9"
  },
  "vscode": {
   "interpreter": {
    "hash": "e0f19d7df56e5761da96bd656548da0a2078e6f331c39beb2ac8c15854e5ec02"
   }
  }
 },
 "nbformat": 4,
 "nbformat_minor": 4
}
