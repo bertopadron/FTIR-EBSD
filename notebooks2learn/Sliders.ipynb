{
 "cells": [
  {
   "cell_type": "code",
   "execution_count": 1,
   "metadata": {},
   "outputs": [],
   "source": [
    "# required Python imports\n",
    "import numpy as np\n",
    "import matplotlib.pyplot as plt\n",
    "from matplotlib import cm\n",
    "\n",
    "from scipy.spatial.transform import Rotation as r"
   ]
  },
  {
   "cell_type": "code",
   "execution_count": 3,
   "metadata": {},
   "outputs": [],
   "source": [
    "# define some neccesary funtions\n",
    "def sph2cart(phi, theta, T):\n",
    "    \"\"\" Convert from spherical/polar (phi, thetha) to cartesian\n",
    "    coordinates.\n",
    "\n",
    "    Parameters\n",
    "    ----------\n",
    "    phi : int or float between 0 and pi/2\n",
    "        angle respect to the c-axis in radians\n",
    "    theta : int or float between 0 and 2*pi\n",
    "        angle respect to the a-axis in radians\n",
    "    T : int or float\n",
    "        the magnitud of the vector (rho) in polar coordinates\n",
    "\n",
    "    Returns\n",
    "    -------\n",
    "    numpy ndarrays (1d)\n",
    "        three numpy 1d arrays with the x, y, and z coordinates\n",
    "    \"\"\"\n",
    "    \n",
    "    x = T * np.sin(phi) * np.cos(theta)\n",
    "    y = T * np.sin(phi) * np.sin(theta)\n",
    "    z = T * np.cos(phi)\n",
    "    \n",
    "    return x, y, z\n",
    "\n",
    "\n",
    "def Tvalues(trans, phi, theta):\n",
    "    \"\"\" Calculates the transmission value for any direction in polar\n",
    "    coordinates using the equation (5) of Asimov et al. (2006) for a\n",
    "    especific wavelength ignoring the sample thickness (i.e. =1).\n",
    "\n",
    "    Parameters\n",
    "    ----------\n",
    "    trans : a tuple of size 3\n",
    "        tuple containeing the transmission values along a-axis (Ta),\n",
    "        b-axis (Tb), and c-axis (Tc). -> (Ta, Tb, Tc)\n",
    "    phi : int or float between 0 and pi/2\n",
    "        angle respect to the c-axis in radians\n",
    "    theta : int or float between 0 and 2*pi\n",
    "        angle respect to the a-axis in radians\n",
    "\n",
    "    Returns\n",
    "    -------\n",
    "    numpy array\n",
    "        the calculated T values for any given orientation\n",
    "    \"\"\"\n",
    "\n",
    "    # extract Tx values\n",
    "    Ta, Tb, Tc = trans\n",
    "    \n",
    "    return Ta * np.cos(theta)**2 * np.sin(phi)**2 + \\\n",
    "           Tb * np.sin(theta)**2 * np.sin(phi)**2 + \\\n",
    "           Tc * np.cos(phi)**2\n",
    "\n",
    "def rotate(coordinates, euler_ang):\n",
    "    \"\"\" Rotate points in 3D cartesian space using the Bunge convention\n",
    "    in degrees with intrinsic rotation. This is just a wrapper for the\n",
    "    r.from_euler() Scipy method for convenience\n",
    "\n",
    "    Parameters\n",
    "    ----------\n",
    "    coordinates : tuple of size 3\n",
    "        a tuple containing the cartesian coordinates of this form:\n",
    "        (x, y, z). variables x, y and z can be scalars or arrays.\n",
    "    euler_ang : tuple of size 3\n",
    "        a tuple containing the three euler angles in degrees\n",
    "        using Bunge convention -> (z, x, z)\n",
    "\n",
    "    Returns\n",
    "    -------\n",
    "    three numpy arrays containing the x, y, z coordinates respectively\n",
    "    \n",
    "    Example\n",
    "    -------\n",
    "    x, y, z = rotate(coordinates=(x, y, z), euler_ang=(30, 0, 40))\n",
    "    \"\"\"\n",
    "    # create a ndarray to vectorize the rotation operation\n",
    "    coordinates = np.dstack(coordinates)\n",
    "\n",
    "    # define a rotation in euler space (Bunge) for intrinsic rotations\n",
    "    rotation = r.from_euler('zxz', [euler_ang[0], euler_ang[1], euler_ang[2]], degrees=True)\n",
    "\n",
    "    # apply rotation\n",
    "    new_coordinates = coordinates @ rotation.as_matrix().T\n",
    "\n",
    "    return new_coordinates[:,:,0], new_coordinates[:,:,1], new_coordinates[:,:,2]\n",
    "    "
   ]
  },
  {
   "cell_type": "code",
   "execution_count": 4,
   "metadata": {},
   "outputs": [],
   "source": [
    "# generate a mesh of spherical/polar coordinates\n",
    "theta = np.linspace(0, 2*np.pi, 100)\n",
    "phi = np.arccos(1 - 2 * np.linspace(0, 1, 100))  # in this case np.linspace goes from 0 to 1 (not pi)!\n",
    "phi, theta = np.meshgrid(phi, theta)\n",
    "\n",
    "# estimate T values\n",
    "T = Tvalues(trans=(90, 50, 20), phi=phi, theta=theta)\n",
    "\n",
    "# convert from spherical to cartesian coordinates\n",
    "x, y, z = sph2cart(phi, theta, T)\n",
    "\n",
    "# normalize colors for T values to max and min values\n",
    "Tmax, Tmin = T.max(), T.min()\n",
    "Tcolors = (T - Tmin) / (Tmax - Tmin)"
   ]
  },
  {
   "cell_type": "code",
   "execution_count": 6,
   "metadata": {},
   "outputs": [],
   "source": [
    "from ipywidgets import interact, interactive, fixed, interact_manual\n",
    "import ipywidgets as widgets\n",
    "%matplotlib inline"
   ]
  },
  {
   "cell_type": "code",
   "execution_count": 7,
   "metadata": {},
   "outputs": [
    {
     "data": {
      "application/vnd.jupyter.widget-view+json": {
       "model_id": "45c1644e403d4cd3a0ddd6ac6f57acd2",
       "version_major": 2,
       "version_minor": 0
      },
      "text/plain": [
       "interactive(children=(FloatSlider(value=0.0, description='phi1', max=180.0, step=10.0), FloatSlider(value=0.0,…"
      ]
     },
     "metadata": {},
     "output_type": "display_data"
    },
    {
     "data": {
      "text/plain": [
       "<function __main__.plot_interactive(phi1, PHI, phi2)>"
      ]
     },
     "execution_count": 7,
     "metadata": {},
     "output_type": "execute_result"
    }
   ],
   "source": [
    "def plot_interactive(phi1, PHI, phi2):\n",
    "    euler_ang=(phi1, PHI, phi2)\n",
    "    rotation = rotate(coordinates=(x, y, z), euler_ang=euler_ang)\n",
    "    fig, axes = plt.subplots(1, 2, figsize=(10, 10), subplot_kw={\"projection\": \"3d\"}, constrained_layout=True)\n",
    "\n",
    "    # first row: rotations around phi 1\n",
    "    axes[0].plot_surface(rotation[0], rotation[1], rotation[2], rstride=1, cstride=1, facecolors=cm.Spectral_r(Tcolors))\n",
    "    axes[0].set_xlabel(r'$x$')\n",
    "    axes[0].set_title('rotated')\n",
    "\n",
    "    axes[1].contour(rotation[0], rotation[1], rotation[2], [0])\n",
    "    axes[1].set_title(r'horizontal section')\n",
    "\n",
    "interact(plot_interactive, phi1 = widgets.FloatSlider(value=0, min=0, max=180, step=10.0),\n",
    "         PHI = widgets.FloatSlider(value=0, min=0, max=90, step=10.0),\n",
    "         phi2 = widgets.FloatSlider(value=0, min=0, max=180, step=10.0))"
   ]
  },
  {
   "cell_type": "code",
   "execution_count": 195,
   "metadata": {},
   "outputs": [
    {
     "data": {
      "application/vnd.jupyter.widget-view+json": {
       "model_id": "b26c3720c9dc480b9a72b82c03872994",
       "version_major": 2,
       "version_minor": 0
      },
      "text/plain": [
       "interactive(children=(FloatSlider(value=0.0, description='phi1', max=180.0, step=5.0), FloatSlider(value=0.0, …"
      ]
     },
     "metadata": {},
     "output_type": "display_data"
    },
    {
     "data": {
      "text/plain": [
       "<function __main__.plot_interactive(phi1, PHI, phi2)>"
      ]
     },
     "execution_count": 195,
     "metadata": {},
     "output_type": "execute_result"
    }
   ],
   "source": [
    "def plot_interactive(phi1, PHI, phi2):\n",
    "    euler_ang=(phi1, PHI, phi2)\n",
    "    rotation = rotate(coordinates=(x, y, z), euler_ang=euler_ang)\n",
    "    fig, ax = plt.subplots()\n",
    "\n",
    "    ax.contour(rotation[0], rotation[1], rotation[2], [0], figsize=(10, 10), constrained_layout=True)\n",
    "    ax.set_xlim(-100,100)\n",
    "    ax.set_ylim(-100,100)\n",
    "    ax.set_aspect('equal', 'box')\n",
    "\n",
    "    plt.show()\n",
    "\n",
    "interact(plot_interactive, phi1 = widgets.FloatSlider(value=0, min=0, max=180, step=5.0),\n",
    "         PHI = widgets.FloatSlider(value=0, min=0, max=90, step=5.0),\n",
    "         phi2 = widgets.FloatSlider(value=0, min=0, max=180, step=5.0),\n",
    "                                               )"
   ]
  },
  {
   "cell_type": "markdown",
   "metadata": {},
   "source": [
    "## Minimization Trial using Tmax, Tmin and beta \n",
    "\n",
    "I am going to try to get first these values (that i think are unique for a given rotation) and then try to use them to minimize the function"
   ]
  },
  {
   "cell_type": "code",
   "execution_count": 200,
   "metadata": {},
   "outputs": [],
   "source": [
    "euler_ang=(105, 0, 0)\n",
    "rotation = rotate(coordinates=(x, y, z), euler_ang=euler_ang)\n",
    "section_xy = ax.contour(rotation[0], rotation[1], rotation[2], [0])"
   ]
  },
  {
   "cell_type": "markdown",
   "metadata": {},
   "source": [
    "The following function finds the max, min values of T in the horizontal section and the angle relative to the \"East\" and the maximum T_section"
   ]
  },
  {
   "cell_type": "code",
   "execution_count": 202,
   "metadata": {},
   "outputs": [],
   "source": [
    "def parm_section(section_xy):\n",
    "    \"\"\" section_xy is generated using ax.contour and z = 0, i.e. [0]\n",
    "    matplotlib.contour.QuadContourSet\n",
    "    \n",
    "    section_xy = ax.contour(rotation[0], rotation[1], rotation[2], [0])\n",
    "    \"\"\" \n",
    "    T_xy = section_xy.allsegs[0]\n",
    "    T_xy = T_xy[0]\n",
    "    T_section = np.sqrt(T_xy[:,0]**2 + T_xy[:,1]**2)\n",
    "    T_section = T_section.round()\n",
    "    \n",
    "    index_T = np.where(T_section == T_section.max())\n",
    "    T_xy[index_T[0],:]\n",
    "    beta = np.arccos(T_xy[index_T[0][0],0]/T_section.max())\n",
    "    beta = np.degrees(beta)\n",
    "    beta\n",
    "    \n",
    "    T_section_max = T_section.max()\n",
    "    T_section_min = T_section.min()\n",
    "    \n",
    "    return beta.round(), T_section_max, T_section_min"
   ]
  },
  {
   "cell_type": "code",
   "execution_count": 203,
   "metadata": {},
   "outputs": [
    {
     "data": {
      "text/plain": [
       "(105.0, 90.0, 50.0)"
      ]
     },
     "execution_count": 203,
     "metadata": {},
     "output_type": "execute_result"
    }
   ],
   "source": [
    "parm_section(section_xy)"
   ]
  },
  {
   "cell_type": "code",
   "execution_count": null,
   "metadata": {},
   "outputs": [],
   "source": []
  },
  {
   "cell_type": "code",
   "execution_count": 168,
   "metadata": {},
   "outputs": [
    {
     "data": {
      "text/plain": [
       "array([[44.99413338, 77.93212505],\n",
       "       [44.99413338, 77.93212505]])"
      ]
     },
     "execution_count": 168,
     "metadata": {},
     "output_type": "execute_result"
    }
   ],
   "source": []
  },
  {
   "cell_type": "code",
   "execution_count": null,
   "metadata": {},
   "outputs": [],
   "source": []
  },
  {
   "cell_type": "code",
   "execution_count": 130,
   "metadata": {},
   "outputs": [
    {
     "data": {
      "text/plain": [
       "44.99889646721322"
      ]
     },
     "execution_count": 130,
     "metadata": {},
     "output_type": "execute_result"
    }
   ],
   "source": []
  },
  {
   "cell_type": "code",
   "execution_count": null,
   "metadata": {},
   "outputs": [],
   "source": []
  },
  {
   "cell_type": "code",
   "execution_count": null,
   "metadata": {},
   "outputs": [],
   "source": []
  },
  {
   "cell_type": "code",
   "execution_count": null,
   "metadata": {},
   "outputs": [],
   "source": []
  }
 ],
 "metadata": {
  "kernelspec": {
   "display_name": "Python 3 (ipykernel)",
   "language": "python",
   "name": "python3"
  },
  "language_info": {
   "codemirror_mode": {
    "name": "ipython",
    "version": 3
   },
   "file_extension": ".py",
   "mimetype": "text/x-python",
   "name": "python",
   "nbconvert_exporter": "python",
   "pygments_lexer": "ipython3",
   "version": "3.10.9"
  },
  "vscode": {
   "interpreter": {
    "hash": "e0f19d7df56e5761da96bd656548da0a2078e6f331c39beb2ac8c15854e5ec02"
   }
  }
 },
 "nbformat": 4,
 "nbformat_minor": 4
}
