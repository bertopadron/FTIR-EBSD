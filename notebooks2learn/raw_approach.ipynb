{
 "cells": [
  {
   "attachments": {},
   "cell_type": "markdown",
   "metadata": {},
   "source": [
    "# Quick test"
   ]
  },
  {
   "cell_type": "code",
   "execution_count": 109,
   "metadata": {},
   "outputs": [],
   "source": [
    "# required Python imports\n",
    "import numpy as np"
   ]
  },
  {
   "cell_type": "code",
   "execution_count": 110,
   "metadata": {},
   "outputs": [],
   "source": [
    "# define a function that takes an estimated T value and a range of theta and phi values and return the difference\n",
    "# it assumes that Ta, Tb, and Tc values are those of forsterite (90, 50, 20)\n",
    "def func(T, theta, phi):\n",
    "    \"\"\" TODO\n",
    "    \"\"\"\n",
    "    left_term = 90 * np.cos(theta)**2 * np.sin(phi)**2 + \\\n",
    "                50 * np.sin(theta)**2 * np.sin(phi)**2 + \\\n",
    "                20 * np.cos(phi)**2\n",
    "       \n",
    "    return (left_term - T)**2"
   ]
  },
  {
   "cell_type": "code",
   "execution_count": 111,
   "metadata": {},
   "outputs": [],
   "source": [
    "# generate a mesh of spherical/polar coordinates\n",
    "theta = np.linspace(0, 2*np.pi, 200)\n",
    "phi = np.arccos(1 - 2 * np.linspace(0, 1, 200))  # in this case np.linspace goes from 0 to 1 (not pi)!\n",
    "phi, theta = np.meshgrid(phi, theta)\n",
    "\n",
    "# set the \"experimentally measured\" T value\n",
    "T = 45.97\n",
    "\n",
    "# calculate the difference\n",
    "results = func(T, theta, phi)"
   ]
  },
  {
   "cell_type": "code",
   "execution_count": 112,
   "metadata": {},
   "outputs": [
    {
     "name": "stdout",
     "output_type": "stream",
     "text": [
      "2.364320108358796e-05 1938.485245439112\n"
     ]
    }
   ],
   "source": [
    "print(results.min(), results.max()) "
   ]
  },
  {
   "cell_type": "code",
   "execution_count": 128,
   "metadata": {},
   "outputs": [
    {
     "data": {
      "text/plain": [
       "True"
      ]
     },
     "execution_count": 128,
     "metadata": {},
     "output_type": "execute_result"
    }
   ],
   "source": [
    "# check for results that are close to 0 creating a mask\n",
    "mask = np.isclose(0, results, rtol=1e-05, atol=5e-05)\n",
    "np.any(mask)"
   ]
  },
  {
   "cell_type": "code",
   "execution_count": 129,
   "metadata": {},
   "outputs": [
    {
     "data": {
      "text/plain": [
       "array([ 68.47949562, 111.52050438,  68.47949562, 111.52050438])"
      ]
     },
     "execution_count": 129,
     "metadata": {},
     "output_type": "execute_result"
    }
   ],
   "source": [
    "# use the mask to find which phi values met the condition\n",
    "np.rad2deg(phi[mask])"
   ]
  },
  {
   "cell_type": "code",
   "execution_count": 130,
   "metadata": {},
   "outputs": [
    {
     "data": {
      "text/plain": [
       "array([ 90.45226131,  90.45226131, 269.54773869, 269.54773869])"
      ]
     },
     "execution_count": 130,
     "metadata": {},
     "output_type": "execute_result"
    }
   ],
   "source": [
    "np.rad2deg(theta[mask])"
   ]
  },
  {
   "attachments": {},
   "cell_type": "markdown",
   "metadata": {},
   "source": [
    "So we obtain, as expected, four different solutions for a single data (in degrees): $(68.5, 90.5)$, $(111.5, 90.5)$, $(68.5, 269.5)$, and $(111.5, 269.5)$"
   ]
  },
  {
   "cell_type": "code",
   "execution_count": 131,
   "metadata": {},
   "outputs": [
    {
     "data": {
      "text/plain": [
       "6.849545254751173e-05"
      ]
     },
     "execution_count": 131,
     "metadata": {},
     "output_type": "execute_result"
    }
   ],
   "source": [
    "# just check\n",
    "func(40.32, np.deg2rad(90.45), np.deg2rad(55.40))"
   ]
  },
  {
   "cell_type": "code",
   "execution_count": 135,
   "metadata": {},
   "outputs": [
    {
     "data": {
      "text/plain": [
       "array([ 58.15398464, 121.84601536,  58.15398464, 121.84601536])"
      ]
     },
     "execution_count": 135,
     "metadata": {},
     "output_type": "execute_result"
    }
   ],
   "source": [
    "# set a new \"experimentally measured\" T value\n",
    "T2 = 70.16\n",
    "\n",
    "# calculate the difference\n",
    "results2 = func(T2, theta, phi)\n",
    "\n",
    "# check for results that are close to 0 creating a mask\n",
    "mask2 = np.isclose(0, results2, rtol=1e-05, atol=5e-06)\n",
    "\n",
    "# use the mask to find which phi and theta values met the condition\n",
    "np.rad2deg(phi[mask2])"
   ]
  },
  {
   "cell_type": "code",
   "execution_count": 136,
   "metadata": {},
   "outputs": [
    {
     "data": {
      "text/plain": [
       "array([173.66834171, 173.66834171, 186.33165829, 186.33165829])"
      ]
     },
     "execution_count": 136,
     "metadata": {},
     "output_type": "execute_result"
    }
   ],
   "source": [
    "np.rad2deg(theta[mask2])"
   ]
  },
  {
   "cell_type": "code",
   "execution_count": 146,
   "metadata": {},
   "outputs": [
    {
     "data": {
      "text/plain": [
       "array([ 14.10535405, 165.89464595,  14.10535405, 165.89464595])"
      ]
     },
     "execution_count": 146,
     "metadata": {},
     "output_type": "execute_result"
    }
   ],
   "source": [
    "# set a new \"experimentally measured\" T value\n",
    "T3 = 22.80\n",
    "\n",
    "# calculate the difference\n",
    "results3 = func(T3, theta, phi)\n",
    "\n",
    "# check for results that are close to 0 creating a mask\n",
    "mask3 = np.isclose(0, results3, rtol=1e-05, atol=1.2e-04)\n",
    "\n",
    "# use the mask to find which phi and theta values met the condition\n",
    "np.rad2deg(phi[mask3])"
   ]
  },
  {
   "cell_type": "code",
   "execution_count": 147,
   "metadata": {},
   "outputs": [
    {
     "data": {
      "text/plain": [
       "array([ 48.84422111,  48.84422111, 311.15577889, 311.15577889])"
      ]
     },
     "execution_count": 147,
     "metadata": {},
     "output_type": "execute_result"
    }
   ],
   "source": [
    "np.rad2deg(theta[mask3])"
   ]
  }
 ],
 "metadata": {
  "kernelspec": {
   "display_name": "main",
   "language": "python",
   "name": "python3"
  },
  "language_info": {
   "codemirror_mode": {
    "name": "ipython",
    "version": 3
   },
   "file_extension": ".py",
   "mimetype": "text/x-python",
   "name": "python",
   "nbconvert_exporter": "python",
   "pygments_lexer": "ipython3",
   "version": "3.10.9"
  },
  "orig_nbformat": 4
 },
 "nbformat": 4,
 "nbformat_minor": 2
}
