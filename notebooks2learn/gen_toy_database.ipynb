{
 "cells": [
  {
   "cell_type": "code",
   "execution_count": 1,
   "id": "54c075b8-b21c-47e5-9af5-40bba9874004",
   "metadata": {
    "tags": []
   },
   "outputs": [],
   "source": [
    "# required Python imports\n",
    "import numpy as np\n",
    "import matplotlib.pyplot as plt\n",
    "from matplotlib import cm\n",
    "import funciones as f\n",
    "import pandas as pd\n",
    "from types import SimpleNamespace\n",
    "\n",
    "from scipy.spatial.transform import Rotation as rot\n",
    "from scipy.optimize import minimize"
   ]
  },
  {
   "cell_type": "code",
   "execution_count": 2,
   "id": "4cadccb1-62c4-4ccf-bb96-86494a6a69f1",
   "metadata": {
    "tags": []
   },
   "outputs": [
    {
     "data": {
      "text/plain": [
       "(637, 3)"
      ]
     },
     "execution_count": 2,
     "metadata": {},
     "output_type": "execute_result"
    }
   ],
   "source": [
    "# STEP 1\n",
    "database = SimpleNamespace(euler=f.explore_Euler_space(step=15))\n",
    "database.euler.shape"
   ]
  },
  {
   "cell_type": "code",
   "execution_count": 3,
   "id": "1ce3eaf8-badb-4c2a-a161-e1d640572f45",
   "metadata": {
    "tags": []
   },
   "outputs": [
    {
     "data": {
      "text/html": [
       "<div>\n",
       "<style scoped>\n",
       "    .dataframe tbody tr th:only-of-type {\n",
       "        vertical-align: middle;\n",
       "    }\n",
       "\n",
       "    .dataframe tbody tr th {\n",
       "        vertical-align: top;\n",
       "    }\n",
       "\n",
       "    .dataframe thead th {\n",
       "        text-align: right;\n",
       "    }\n",
       "</style>\n",
       "<table border=\"1\" class=\"dataframe\">\n",
       "  <thead>\n",
       "    <tr style=\"text-align: right;\">\n",
       "      <th></th>\n",
       "      <th>euler1</th>\n",
       "      <th>euler2</th>\n",
       "      <th>euler3</th>\n",
       "    </tr>\n",
       "  </thead>\n",
       "  <tbody>\n",
       "    <tr>\n",
       "      <th>0</th>\n",
       "      <td>0</td>\n",
       "      <td>0</td>\n",
       "      <td>0</td>\n",
       "    </tr>\n",
       "    <tr>\n",
       "      <th>1</th>\n",
       "      <td>0</td>\n",
       "      <td>0</td>\n",
       "      <td>15</td>\n",
       "    </tr>\n",
       "    <tr>\n",
       "      <th>2</th>\n",
       "      <td>0</td>\n",
       "      <td>0</td>\n",
       "      <td>30</td>\n",
       "    </tr>\n",
       "    <tr>\n",
       "      <th>3</th>\n",
       "      <td>0</td>\n",
       "      <td>0</td>\n",
       "      <td>45</td>\n",
       "    </tr>\n",
       "    <tr>\n",
       "      <th>4</th>\n",
       "      <td>0</td>\n",
       "      <td>0</td>\n",
       "      <td>60</td>\n",
       "    </tr>\n",
       "    <tr>\n",
       "      <th>...</th>\n",
       "      <td>...</td>\n",
       "      <td>...</td>\n",
       "      <td>...</td>\n",
       "    </tr>\n",
       "    <tr>\n",
       "      <th>632</th>\n",
       "      <td>90</td>\n",
       "      <td>180</td>\n",
       "      <td>30</td>\n",
       "    </tr>\n",
       "    <tr>\n",
       "      <th>633</th>\n",
       "      <td>90</td>\n",
       "      <td>180</td>\n",
       "      <td>45</td>\n",
       "    </tr>\n",
       "    <tr>\n",
       "      <th>634</th>\n",
       "      <td>90</td>\n",
       "      <td>180</td>\n",
       "      <td>60</td>\n",
       "    </tr>\n",
       "    <tr>\n",
       "      <th>635</th>\n",
       "      <td>90</td>\n",
       "      <td>180</td>\n",
       "      <td>75</td>\n",
       "    </tr>\n",
       "    <tr>\n",
       "      <th>636</th>\n",
       "      <td>90</td>\n",
       "      <td>180</td>\n",
       "      <td>90</td>\n",
       "    </tr>\n",
       "  </tbody>\n",
       "</table>\n",
       "<p>637 rows × 3 columns</p>\n",
       "</div>"
      ],
      "text/plain": [
       "     euler1  euler2  euler3\n",
       "0         0       0       0\n",
       "1         0       0      15\n",
       "2         0       0      30\n",
       "3         0       0      45\n",
       "4         0       0      60\n",
       "..      ...     ...     ...\n",
       "632      90     180      30\n",
       "633      90     180      45\n",
       "634      90     180      60\n",
       "635      90     180      75\n",
       "636      90     180      90\n",
       "\n",
       "[637 rows x 3 columns]"
      ]
     },
     "execution_count": 3,
     "metadata": {},
     "output_type": "execute_result"
    }
   ],
   "source": [
    "# Create a DataFrame\n",
    "df = pd.DataFrame(database.euler, columns=['euler1', 'euler2', 'euler3'])\n",
    "df"
   ]
  },
  {
   "cell_type": "code",
   "execution_count": 4,
   "id": "e03cd4d5-d2b1-4e24-bd46-a6dd101b18ae",
   "metadata": {
    "tags": []
   },
   "outputs": [],
   "source": [
    "def find_nearest(df, values):\n",
    "    \"\"\"find the index of the nearest value in\n",
    "    a pandas dataframe\"\"\"\n",
    "    indexes = []\n",
    "    for value in values:\n",
    "         indexes.append((np.abs(df - value)).idxmin())\n",
    "    return indexes"
   ]
  },
  {
   "cell_type": "code",
   "execution_count": 5,
   "id": "8c2c0dc0-ceae-4e0c-ad09-de9353d3f457",
   "metadata": {
    "tags": []
   },
   "outputs": [],
   "source": [
    "# Estimate a mesh of values defining the transmissión envelope\n",
    "polar, azimuths = f.regular_S2_grid(n_squared=500)\n",
    "T = f.Tvalues(trans=(90, 50, 20), azimuth=azimuths, polar=polar)\n",
    "x, y, z = f.sph2cart(T, azimuths, polar)"
   ]
  },
  {
   "cell_type": "code",
   "execution_count": 6,
   "id": "cb9d6772-bb7a-4c45-b68d-a71d59c8d8c6",
   "metadata": {
    "tags": []
   },
   "outputs": [],
   "source": [
    "angles = np.arange(0, 100, 18)  # array([ 0, 18, 36, 54, 72, 90])\n",
    "\n",
    "# initialize variables\n",
    "T_vals = []\n",
    "azi_vals = []\n",
    "\n",
    "for euler in database.euler:  \n",
    "    \n",
    "    # rotate\n",
    "    x2, y2, z2 = f.rotate(coordinates=(x, y, z), euler_ang=euler)\n",
    "    \n",
    "    # extract XY intersection\n",
    "    xy_vectors = f.extract_XY_section_fast2(x2, y2, z2)\n",
    "    \n",
    "    # get the indexes of specific angles\n",
    "    indexes = find_nearest(xy_vectors['angles'], angles)\n",
    "    \n",
    "    # append values\n",
    "    T_vals.append(xy_vectors.loc[indexes, ['T']].T.values.tolist()[0])\n",
    "    azi_vals.append(xy_vectors.loc[indexes, ['angles']].T.values.tolist()[0])\n",
    "\n",
    "# store values in database\n",
    "database.T_values = np.array(T_vals)\n",
    "database.azimuths = np.array(azi_vals) \n",
    "    "
   ]
  },
  {
   "cell_type": "code",
   "execution_count": 7,
   "id": "19c7a810-7321-471e-9587-b49530ae30ce",
   "metadata": {
    "tags": []
   },
   "outputs": [
    {
     "data": {
      "text/plain": [
       "namespace(euler=array([[  0,   0,   0],\n",
       "                       [  0,   0,  15],\n",
       "                       [  0,   0,  30],\n",
       "                       ...,\n",
       "                       [ 90, 180,  60],\n",
       "                       [ 90, 180,  75],\n",
       "                       [ 90, 180,  90]]),\n",
       "          T_values=array([[89.999538  , 86.1650861 , 76.13204083, 63.74754894, 53.76041284,\n",
       "                           50.00017573],\n",
       "                          [87.51597179, 89.89815474, 84.89892033, 74.18660111, 61.86880897,\n",
       "                           52.66877195],\n",
       "                          [80.25294895, 88.19456563, 89.59503116, 83.48169882, 72.1987119 ,\n",
       "                           60.07250355],\n",
       "                          ...,\n",
       "                          [79.81730891, 67.67549844, 56.79902195, 50.4833652 , 51.65118401,\n",
       "                           59.85467903],\n",
       "                          [87.26735993, 78.01530806, 65.68967501, 55.01669544, 50.08889498,\n",
       "                           52.79582799],\n",
       "                          [89.999538  , 86.1650861 , 76.13204083, 63.74754894, 53.76041284,\n",
       "                           50.00017573]]),\n",
       "          azimuths=array([[ 0.        , 18.03607201, 36.07214394, 54.10821645, 72.14428797,\n",
       "                           90.18036105],\n",
       "                          [ 0.57114233, 17.88577174, 35.92184341, 53.95791575, 71.99398772,\n",
       "                           90.03006054],\n",
       "                          [ 0.42084173, 17.73547107, 35.77154315, 53.8076155 , 71.84368763,\n",
       "                           89.87975993],\n",
       "                          ...,\n",
       "                          [ 0.30060094, 18.33667381, 35.65130239, 53.68737487, 71.72344707,\n",
       "                           89.75951941],\n",
       "                          [ 0.15030081, 18.18637272, 36.22244466, 54.25851721, 72.29458921,\n",
       "                           90.33066131],\n",
       "                          [ 0.        , 18.03607201, 36.07214394, 54.10821645, 72.14428797,\n",
       "                           90.18036105]]))"
      ]
     },
     "execution_count": 7,
     "metadata": {},
     "output_type": "execute_result"
    }
   ],
   "source": [
    "database"
   ]
  },
  {
   "cell_type": "code",
   "execution_count": 8,
   "id": "93a9c8c4-e816-422d-8c2f-5de77a4012a6",
   "metadata": {
    "tags": []
   },
   "outputs": [
    {
     "name": "stdout",
     "output_type": "stream",
     "text": [
      "(637, 3)\n",
      "(637, 6)\n",
      "(637, 6)\n"
     ]
    }
   ],
   "source": [
    "print(database.euler.shape)\n",
    "print(database.T_values.shape)\n",
    "print(database.azimuths.shape)"
   ]
  },
  {
   "cell_type": "code",
   "execution_count": 9,
   "id": "3e5f26e2-a134-40d0-8614-eaa3143d7b65",
   "metadata": {
    "tags": []
   },
   "outputs": [
    {
     "name": "stdout",
     "output_type": "stream",
     "text": [
      "euler angles: [0 0 0]\n",
      "T values: [90.  86.2 76.1 63.7 53.8 50. ]\n",
      "azimuth angles: [ 0.  18.  36.1 54.1 72.1 90.2]\n"
     ]
    }
   ],
   "source": [
    "print(f'euler angles: {np.around(database.euler[0], 1)}')\n",
    "print(f'T values: {np.around(database.T_values[0], 1)}')\n",
    "print(f'azimuth angles: {np.around(database.azimuths[0], 1)}')"
   ]
  },
  {
   "cell_type": "code",
   "execution_count": 10,
   "id": "e1aeab56-6c16-4bdc-9c62-0eaea74896d5",
   "metadata": {
    "tags": []
   },
   "outputs": [
    {
     "name": "stdout",
     "output_type": "stream",
     "text": [
      "euler angles: [75 90 45]\n",
      "T values: [36.5 45.9 51.9 51.9 45.9 36.3]\n",
      "azimuth angles: [ 0.3 17.9 35.9 54.1 72.1 90. ]\n"
     ]
    }
   ],
   "source": [
    "print(f'euler angles: {np.around(database.euler[500], 1)}')\n",
    "print(f'T values: {np.around(database.T_values[500], 1)}')\n",
    "print(f'azimuth angles: {np.around(database.azimuths[500], 1)}')"
   ]
  }
 ],
 "metadata": {
  "kernelspec": {
   "display_name": "Python 3 (ipykernel)",
   "language": "python",
   "name": "python3"
  },
  "language_info": {
   "codemirror_mode": {
    "name": "ipython",
    "version": 3
   },
   "file_extension": ".py",
   "mimetype": "text/x-python",
   "name": "python",
   "nbconvert_exporter": "python",
   "pygments_lexer": "ipython3",
   "version": "3.10.13"
  }
 },
 "nbformat": 4,
 "nbformat_minor": 5
}
