{
 "cells": [
  {
   "attachments": {},
   "cell_type": "markdown",
   "metadata": {},
   "source": [
    "# Minimization procedure to estimate the orientation of the crystal\n",
    "\n",
    "> **Goal**: Describe the minimization protocol using Scipy's curve_fit to estimate the orientation of the transmission envelope and by extension of the crystal in an imposed reference frame.\n",
    "\n",
    "To estimate the full orientation of a crystal with respect to a given reference frame we need to consider \n",
    " \n",
    "1. how the transmittance envelope is oriented with respect to the reference frame  \n",
    "2. how the crystal's reference frame (e.g. its axes) is oriented with respect to the transmittance envelope.  \n",
    "\n",
    "In addition, we will need several functions to handle the transformation from polar to Cartesian coordinates and vice versa or transformations between the different representations of 3D Cartesian rotations."
   ]
  },
  {
   "cell_type": "code",
   "execution_count": 1,
   "metadata": {},
   "outputs": [],
   "source": [
    "# required Python imports\n",
    "import numpy as np\n",
    "import matplotlib.pyplot as plt\n",
    "\n",
    "from scipy.spatial.transform import Rotation as r\n",
    "from scipy.optimize import curve_fit"
   ]
  },
  {
   "attachments": {},
   "cell_type": "markdown",
   "metadata": {},
   "source": [
    "# Explanation of the fitting procedure using Scipy's ``curve_fit``: \n",
    "\n",
    "The ``curve_fit`` procedure uses a non-linear least squares approach to fit a function f to data using the following inputs (as a minimum):\n",
    "\n",
    "- the first input is the function to optimize. The function must take the independent variable as the first input and the parameters to fit as separate remaining inputs\n",
    "- the second input (xdata) is the independent data/variable\n",
    "- the third input(ydata) is the dependent data/variable\n",
    "\n",
    "> link: https://docs.scipy.org/doc/scipy/reference/generated/scipy.optimize.curve_fit.html\n",
    "\n",
    "In our problem and as a first step, we want to find the orientation of the transmittance envelope from a few transmittance measurements made with respect to a reference frame. For this, we need to establish first a reference transmittance envelope that will serve to link the envelope to the established reference frame. Then, we need to find the rotation matrix that links the orientation of the reference transmittance envelope to the orientation of the transmittance envelope fitted by the measurements we made.\n",
    "\n",
    "In our case, the equation to solve will be of the following type:\n",
    "\n",
    "$$\n",
    "y_{data} = R \\cdot x_{data}\n",
    "$$\n",
    "\n",
    "where\n",
    "- $x_{data}$ are the cartesian $(x,y,z)$ coordinates of the points in the reference frame (calculated theoretically taking into account the transmittance equation and the reference system set). For convenience, it will be the cartesian coordinates of the points for when euler angles (Bunge convention) are (0,0,0) for a specified sample thickness.\n",
    "- $y_{data}$ is the transformed $(x,y,z)$ coordinates of the points (calculated by measuring the transmitance and the polar coordinates in the microscopy) (i.e. what we actually measure)\n",
    "- $R$ the matrix rotation that convert $x_{data}$ into $y_{data}$ thus defining the orientation of the transmittance envelope with respect to our reference frame.\n",
    "\n",
    "TODO\n",
    "\n"
   ]
  },
  {
   "cell_type": "code",
   "execution_count": 2,
   "metadata": {},
   "outputs": [],
   "source": [
    "def func(ref_coordinates, a, b, c):\n",
    "    \"\"\" Function to minimize\n",
    "\n",
    "    Parameters\n",
    "    ----------\n",
    "    ref_coordinates : array-like\n",
    "        a numpy 1d array containing the Cartesian coordinates\n",
    "        x, y and z (in that order) of the points.\n",
    "    a : _type_\n",
    "        _description_\n",
    "    b : _type_\n",
    "        _description_\n",
    "    c : _type_\n",
    "        _description_\n",
    "\n",
    "    Returns\n",
    "    -------\n",
    "    _type_\n",
    "        _description_\n",
    "    \"\"\"\n",
    "\n",
    "    # check that the array is a multiple of 3\n",
    "    if ref_coordinates.size % 3 != 0:\n",
    "        raise ValueError(\"ref_coordinates must be multiples of 3!\")\n",
    "\n",
    "    # define a rotation in euler space (Bunge) and intrinsic rotations\n",
    "    rotation = r.from_euler('zxz', [a, b, c], degrees=True)\n",
    "\n",
    "    # reshape (x, y, z) coordinates to apply rotation\n",
    "    # it must have a shape of (1, n, 3)\n",
    "    n = int(ref_coordinates.size / 3)\n",
    "    coordinates = ref_coordinates.reshape(1, n, 3)\n",
    "\n",
    "    # apply rotation\n",
    "    guess_coordinates = coordinates @ rotation.as_matrix().T\n",
    "\n",
    "    return guess_coordinates.flatten()"
   ]
  },
  {
   "attachments": {},
   "cell_type": "markdown",
   "metadata": {},
   "source": [
    "## Tests using exact solutions (no errors in the datapoints)\n",
    "\n",
    "### First test: same solution different datapoints (sample size fixed to 10; number of test 15)"
   ]
  },
  {
   "cell_type": "code",
   "execution_count": 3,
   "metadata": {},
   "outputs": [
    {
     "name": "stdout",
     "output_type": "stream",
     "text": [
      "Notebook tested in 2023-02-07 using:\n",
      "Python 3.10.9 | packaged by conda-forge | (main, Jan 11 2023, 15:15:40) [MSC v.1916 64 bit (AMD64)]\n",
      "Numpy 1.23.5\n",
      "Scipy 1.9.3\n"
     ]
    }
   ],
   "source": [
    "import sys\n",
    "import scipy as sp\n",
    "from datetime import date    \n",
    "today = date.today().isoformat()\n",
    "\n",
    "print(f'Notebook tested in {today} using:')\n",
    "print('Python', sys.version)\n",
    "print('Numpy', np.__version__)\n",
    "print('Scipy', sp.__version__)"
   ]
  }
 ],
 "metadata": {
  "kernelspec": {
   "display_name": "main",
   "language": "python",
   "name": "python3"
  },
  "language_info": {
   "codemirror_mode": {
    "name": "ipython",
    "version": 3
   },
   "file_extension": ".py",
   "mimetype": "text/x-python",
   "name": "python",
   "nbconvert_exporter": "python",
   "pygments_lexer": "ipython3",
   "version": "3.10.9"
  },
  "orig_nbformat": 4,
  "vscode": {
   "interpreter": {
    "hash": "073408933f31e8ac7f6b4bf29a6f48e1a2f613d7d5b6e5c6c58fd8fdc8389e42"
   }
  }
 },
 "nbformat": 4,
 "nbformat_minor": 2
}
