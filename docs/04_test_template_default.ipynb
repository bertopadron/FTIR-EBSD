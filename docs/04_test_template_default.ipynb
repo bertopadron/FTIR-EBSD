{
 "cells": [
  {
   "cell_type": "code",
   "execution_count": 1,
   "metadata": {},
   "outputs": [
    {
     "name": "stdout",
     "output_type": "stream",
     "text": [
      "module FTIR v.2024.3.19 imported\n"
     ]
    }
   ],
   "source": [
    "# required Python imports\n",
    "import pandas as pd\n",
    "import numpy as np\n",
    "from types import SimpleNamespace\n",
    "\n",
    "import ftir_funct as f\n",
    "np.set_printoptions(suppress=True)"
   ]
  },
  {
   "cell_type": "markdown",
   "metadata": {},
   "source": [
    "## Generate database"
   ]
  },
  {
   "cell_type": "code",
   "execution_count": 2,
   "metadata": {},
   "outputs": [
    {
     "data": {
      "text/plain": [
       "array([[  0,   0,   0],\n",
       "       [  0,   0,   7],\n",
       "       [  0,   0,  14],\n",
       "       ...,\n",
       "       [ 84,  84, 161],\n",
       "       [ 84,  84, 168],\n",
       "       [ 84,  84, 175]])"
      ]
     },
     "execution_count": 2,
     "metadata": {},
     "output_type": "execute_result"
    }
   ],
   "source": [
    "f.explore_Euler_space(step=7, lower_bounds=(0, 0, 0), upper_bounds=(89, 89, 179))"
   ]
  },
  {
   "cell_type": "code",
   "execution_count": 3,
   "metadata": {},
   "outputs": [
    {
     "data": {
      "text/plain": [
       "(4394, 3)"
      ]
     },
     "execution_count": 3,
     "metadata": {},
     "output_type": "execute_result"
    }
   ],
   "source": [
    "# generate Euler angles each 7 degrees and store in the database\n",
    "database = SimpleNamespace(euler=f.explore_Euler_space(step=7, lower_bounds=(0, 0, 0), upper_bounds=(89, 89, 179)))\n",
    "database.euler.shape"
   ]
  },
  {
   "cell_type": "code",
   "execution_count": 4,
   "metadata": {},
   "outputs": [],
   "source": [
    "# Transmission values for lambda 1987.29\n",
    "Ta = 0.009882\n",
    "Tb = 0.995815\n",
    "Tc = 0.596951\n",
    "\n",
    "# Generate a mesh of values defining the reference transmissión envelope\n",
    "polar, azimuths = f.regular_S2_grid(n_squared=500)\n",
    "T = f.Tvalues(trans=(Ta, Tb, Tc), azimuth=azimuths, polar=polar)\n",
    "x, y, z = f.sph2cart(T, azimuths, polar)\n",
    "\n",
    "# Generate 16 measures at different azimuth angles\n",
    "angles = np.arange(0, 360, 45/2)\n",
    "\n",
    "# initialize variables\n",
    "T_vals = []\n",
    "azi_vals = []\n",
    "\n",
    "for euler in database.euler:\n",
    "    # rotate\n",
    "    x2, y2, z2 = f.rotate(coordinates=(x, y, z), euler_ang=euler)\n",
    "\n",
    "    # extract XY intersection\n",
    "    xy_vectors = f.extract_XY_section_fast2(x2, y2, z2)\n",
    "\n",
    "    # get the indexes of specific angles\n",
    "    indexes = f.find_nearest(xy_vectors['angles'], angles)\n",
    "\n",
    "    # append values\n",
    "    T_vals.append(xy_vectors.loc[indexes, ['T']].T.values.tolist()[0])\n",
    "    azi_vals.append(xy_vectors.loc[indexes, ['angles']].T.values.tolist()[0])\n",
    "\n",
    "# store values in database\n",
    "database.T_values = np.array(T_vals)\n",
    "database.azimuths = np.array(azi_vals)"
   ]
  },
  {
   "cell_type": "code",
   "execution_count": 5,
   "metadata": {},
   "outputs": [
    {
     "name": "stdout",
     "output_type": "stream",
     "text": [
      "(4394, 3)\n",
      "(4394, 16)\n",
      "(4394, 16)\n"
     ]
    }
   ],
   "source": [
    "# check\n",
    "print(database.euler.shape)\n",
    "print(database.T_values.shape)\n",
    "print(database.azimuths.shape)"
   ]
  },
  {
   "cell_type": "code",
   "execution_count": 6,
   "metadata": {},
   "outputs": [
    {
     "name": "stdout",
     "output_type": "stream",
     "text": [
      "Euler angles:  [ 84  84 175]\n",
      "T values:  [0.98 0.89 0.74 0.62 0.6  0.68 0.83 0.96 0.98 0.89 0.74 0.62 0.6  0.68\n",
      " 0.83 0.96]\n",
      "Azimuths:  [  0.2  22.5  45.2  67.4  90.  112.3 135.  157.5 180.  202.5 225.2 247.5\n",
      " 270.  292.3 315.  337.5]\n"
     ]
    }
   ],
   "source": [
    "# check\n",
    "print('Euler angles: ', database.euler[-1])\n",
    "print('T values: ', np.around(database.T_values[-1], 2))\n",
    "print('Azimuths: ', np.around(database.azimuths[-1], 1))"
   ]
  },
  {
   "cell_type": "code",
   "execution_count": 7,
   "metadata": {},
   "outputs": [
    {
     "name": "stdout",
     "output_type": "stream",
     "text": [
      "Calculated Orientation: [ 84.  84. 175.]\n"
     ]
    },
    {
     "data": {
      "text/plain": [
       "array([ 83.9883221 ,  83.99865909, 175.00345525])"
      ]
     },
     "execution_count": 7,
     "metadata": {},
     "output_type": "execute_result"
    }
   ],
   "source": [
    "# check\n",
    "measures = np.column_stack((database.T_values[-1],\n",
    "                            database.azimuths[-1],\n",
    "                            np.full_like(database.azimuths[-1], 90)))\n",
    "\n",
    "estimate_1 = f.find_orientation(measurements=measures, params=(Ta, Tb, Tc), silent=False)\n",
    "estimate_1.x"
   ]
  },
  {
   "cell_type": "code",
   "execution_count": 8,
   "metadata": {},
   "outputs": [
    {
     "data": {
      "text/plain": [
       "0.012"
      ]
     },
     "execution_count": 8,
     "metadata": {},
     "output_type": "execute_result"
    }
   ],
   "source": [
    "# check\n",
    "f.calc_misorientation(database.euler[-1], estimate_1.x)"
   ]
  },
  {
   "cell_type": "markdown",
   "metadata": {},
   "source": [
    "## Estimate"
   ]
  },
  {
   "cell_type": "code",
   "execution_count": 9,
   "metadata": {},
   "outputs": [],
   "source": [
    "# initialize variables\n",
    "default10_algorithm = np.empty(database.euler.shape[0])\n",
    "default15_algorithm = np.empty(database.euler.shape[0])\n",
    "default20_algorithm = np.empty(database.euler.shape[0])\n",
    "default25_algorithm = np.empty(database.euler.shape[0])\n",
    "default30_algorithm = np.empty(database.euler.shape[0])\n",
    "\n",
    "for index, orientation in enumerate(database.euler):\n",
    "    # print('Real:', np.around(orientation, 0))\n",
    "\n",
    "    measures = np.column_stack((database.T_values[index],\n",
    "                                database.azimuths[index],\n",
    "                                np.full_like(database.azimuths[index], 90)))\n",
    "\n",
    "    estimate_1 = f.find_orientation(measurements=measures, params=(Ta, Tb, Tc), num_guesses=10)\n",
    "    default10_algorithm[index] = f.calc_disorientation(orientation, estimate_1.x)\n",
    "\n",
    "    estimate_2 = f.find_orientation(measurements=measures, params=(Ta, Tb, Tc), num_guesses=15)\n",
    "    default15_algorithm[index] = f.calc_disorientation(orientation, estimate_2.x)\n",
    "\n",
    "    estimate_3 = f.find_orientation(measurements=measures, params=(Ta, Tb, Tc), num_guesses=20)\n",
    "    default20_algorithm[index] = f.calc_disorientation(orientation, estimate_3.x)\n",
    "\n",
    "    estimate_4 = f.find_orientation(measurements=measures, params=(Ta, Tb, Tc), num_guesses=25)\n",
    "    default25_algorithm[index] = f.calc_disorientation(orientation, estimate_4.x)\n",
    "\n",
    "    estimate_5 = f.find_orientation(measurements=measures, params=(Ta, Tb, Tc), num_guesses=30)\n",
    "    default30_algorithm[index] = f.calc_disorientation(orientation, estimate_5.x)\n"
   ]
  },
  {
   "cell_type": "markdown",
   "metadata": {},
   "source": [
    "## Generate dataframe and save data"
   ]
  },
  {
   "cell_type": "code",
   "execution_count": 10,
   "metadata": {},
   "outputs": [
    {
     "data": {
      "text/html": [
       "<div>\n",
       "<style scoped>\n",
       "    .dataframe tbody tr th:only-of-type {\n",
       "        vertical-align: middle;\n",
       "    }\n",
       "\n",
       "    .dataframe tbody tr th {\n",
       "        vertical-align: top;\n",
       "    }\n",
       "\n",
       "    .dataframe thead th {\n",
       "        text-align: right;\n",
       "    }\n",
       "</style>\n",
       "<table border=\"1\" class=\"dataframe\">\n",
       "  <thead>\n",
       "    <tr style=\"text-align: right;\">\n",
       "      <th></th>\n",
       "      <th>Euler1</th>\n",
       "      <th>Euler2</th>\n",
       "      <th>Euler3</th>\n",
       "      <th>default10</th>\n",
       "      <th>default20</th>\n",
       "      <th>default30</th>\n",
       "    </tr>\n",
       "  </thead>\n",
       "  <tbody>\n",
       "    <tr>\n",
       "      <th>0</th>\n",
       "      <td>0</td>\n",
       "      <td>0</td>\n",
       "      <td>0</td>\n",
       "      <td>0.000</td>\n",
       "      <td>0.000</td>\n",
       "      <td>0.000</td>\n",
       "    </tr>\n",
       "    <tr>\n",
       "      <th>1</th>\n",
       "      <td>0</td>\n",
       "      <td>0</td>\n",
       "      <td>7</td>\n",
       "      <td>0.000</td>\n",
       "      <td>0.276</td>\n",
       "      <td>0.231</td>\n",
       "    </tr>\n",
       "    <tr>\n",
       "      <th>2</th>\n",
       "      <td>0</td>\n",
       "      <td>0</td>\n",
       "      <td>14</td>\n",
       "      <td>0.000</td>\n",
       "      <td>0.152</td>\n",
       "      <td>0.000</td>\n",
       "    </tr>\n",
       "    <tr>\n",
       "      <th>3</th>\n",
       "      <td>0</td>\n",
       "      <td>0</td>\n",
       "      <td>21</td>\n",
       "      <td>0.247</td>\n",
       "      <td>0.253</td>\n",
       "      <td>0.000</td>\n",
       "    </tr>\n",
       "    <tr>\n",
       "      <th>4</th>\n",
       "      <td>0</td>\n",
       "      <td>0</td>\n",
       "      <td>28</td>\n",
       "      <td>0.300</td>\n",
       "      <td>0.000</td>\n",
       "      <td>0.000</td>\n",
       "    </tr>\n",
       "    <tr>\n",
       "      <th>...</th>\n",
       "      <td>...</td>\n",
       "      <td>...</td>\n",
       "      <td>...</td>\n",
       "      <td>...</td>\n",
       "      <td>...</td>\n",
       "      <td>...</td>\n",
       "    </tr>\n",
       "    <tr>\n",
       "      <th>4389</th>\n",
       "      <td>84</td>\n",
       "      <td>84</td>\n",
       "      <td>147</td>\n",
       "      <td>0.012</td>\n",
       "      <td>0.009</td>\n",
       "      <td>0.012</td>\n",
       "    </tr>\n",
       "    <tr>\n",
       "      <th>4390</th>\n",
       "      <td>84</td>\n",
       "      <td>84</td>\n",
       "      <td>154</td>\n",
       "      <td>0.012</td>\n",
       "      <td>0.012</td>\n",
       "      <td>0.010</td>\n",
       "    </tr>\n",
       "    <tr>\n",
       "      <th>4391</th>\n",
       "      <td>84</td>\n",
       "      <td>84</td>\n",
       "      <td>161</td>\n",
       "      <td>0.013</td>\n",
       "      <td>0.010</td>\n",
       "      <td>0.009</td>\n",
       "    </tr>\n",
       "    <tr>\n",
       "      <th>4392</th>\n",
       "      <td>84</td>\n",
       "      <td>84</td>\n",
       "      <td>168</td>\n",
       "      <td>0.013</td>\n",
       "      <td>0.010</td>\n",
       "      <td>0.010</td>\n",
       "    </tr>\n",
       "    <tr>\n",
       "      <th>4393</th>\n",
       "      <td>84</td>\n",
       "      <td>84</td>\n",
       "      <td>175</td>\n",
       "      <td>0.015</td>\n",
       "      <td>6.233</td>\n",
       "      <td>0.013</td>\n",
       "    </tr>\n",
       "  </tbody>\n",
       "</table>\n",
       "<p>4394 rows × 6 columns</p>\n",
       "</div>"
      ],
      "text/plain": [
       "      Euler1  Euler2  Euler3  default10  default20  default30\n",
       "0          0       0       0      0.000      0.000      0.000\n",
       "1          0       0       7      0.000      0.276      0.231\n",
       "2          0       0      14      0.000      0.152      0.000\n",
       "3          0       0      21      0.247      0.253      0.000\n",
       "4          0       0      28      0.300      0.000      0.000\n",
       "...      ...     ...     ...        ...        ...        ...\n",
       "4389      84      84     147      0.012      0.009      0.012\n",
       "4390      84      84     154      0.012      0.012      0.010\n",
       "4391      84      84     161      0.013      0.010      0.009\n",
       "4392      84      84     168      0.013      0.010      0.010\n",
       "4393      84      84     175      0.015      6.233      0.013\n",
       "\n",
       "[4394 rows x 6 columns]"
      ]
     },
     "execution_count": 10,
     "metadata": {},
     "output_type": "execute_result"
    }
   ],
   "source": [
    "dataset = pd.DataFrame(\n",
    "    {\n",
    "        \"Euler1\": database.euler[:, 0],\n",
    "        \"Euler2\": database.euler[:, 1],\n",
    "        \"Euler3\": database.euler[:, 2],\n",
    "        \"default10\": default10_algorithm,\n",
    "        \"default15\": default15_algorithm,\n",
    "        \"default20\": default20_algorithm,\n",
    "        \"default25\": default25_algorithm,\n",
    "        \"default30\": default30_algorithm,\n",
    "    }\n",
    ")\n",
    "\n",
    "dataset"
   ]
  },
  {
   "cell_type": "code",
   "execution_count": 11,
   "metadata": {},
   "outputs": [],
   "source": [
    "from datetime import date    \n",
    "today = date.today().isoformat()"
   ]
  },
  {
   "cell_type": "code",
   "execution_count": 12,
   "metadata": {},
   "outputs": [],
   "source": [
    "dataset.to_csv(today + '_lamb1987_step7_guesses.csv', index=False)"
   ]
  },
  {
   "cell_type": "code",
   "execution_count": 13,
   "metadata": {},
   "outputs": [
    {
     "data": {
      "text/html": [
       "<div>\n",
       "<style scoped>\n",
       "    .dataframe tbody tr th:only-of-type {\n",
       "        vertical-align: middle;\n",
       "    }\n",
       "\n",
       "    .dataframe tbody tr th {\n",
       "        vertical-align: top;\n",
       "    }\n",
       "\n",
       "    .dataframe thead th {\n",
       "        text-align: right;\n",
       "    }\n",
       "</style>\n",
       "<table border=\"1\" class=\"dataframe\">\n",
       "  <thead>\n",
       "    <tr style=\"text-align: right;\">\n",
       "      <th></th>\n",
       "      <th>default10</th>\n",
       "      <th>default20</th>\n",
       "      <th>default30</th>\n",
       "    </tr>\n",
       "  </thead>\n",
       "  <tbody>\n",
       "    <tr>\n",
       "      <th>count</th>\n",
       "      <td>4394.000000</td>\n",
       "      <td>4394.000000</td>\n",
       "      <td>4394.000000</td>\n",
       "    </tr>\n",
       "    <tr>\n",
       "      <th>mean</th>\n",
       "      <td>0.129772</td>\n",
       "      <td>0.036369</td>\n",
       "      <td>0.023275</td>\n",
       "    </tr>\n",
       "    <tr>\n",
       "      <th>std</th>\n",
       "      <td>0.986069</td>\n",
       "      <td>0.195081</td>\n",
       "      <td>0.071070</td>\n",
       "    </tr>\n",
       "    <tr>\n",
       "      <th>min</th>\n",
       "      <td>0.000000</td>\n",
       "      <td>0.000000</td>\n",
       "      <td>0.000000</td>\n",
       "    </tr>\n",
       "    <tr>\n",
       "      <th>25%</th>\n",
       "      <td>0.003000</td>\n",
       "      <td>0.003000</td>\n",
       "      <td>0.003000</td>\n",
       "    </tr>\n",
       "    <tr>\n",
       "      <th>50%</th>\n",
       "      <td>0.005000</td>\n",
       "      <td>0.004000</td>\n",
       "      <td>0.004000</td>\n",
       "    </tr>\n",
       "    <tr>\n",
       "      <th>75%</th>\n",
       "      <td>0.014000</td>\n",
       "      <td>0.011000</td>\n",
       "      <td>0.010000</td>\n",
       "    </tr>\n",
       "    <tr>\n",
       "      <th>max</th>\n",
       "      <td>39.621000</td>\n",
       "      <td>6.949000</td>\n",
       "      <td>1.593000</td>\n",
       "    </tr>\n",
       "  </tbody>\n",
       "</table>\n",
       "</div>"
      ],
      "text/plain": [
       "         default10    default20    default30\n",
       "count  4394.000000  4394.000000  4394.000000\n",
       "mean      0.129772     0.036369     0.023275\n",
       "std       0.986069     0.195081     0.071070\n",
       "min       0.000000     0.000000     0.000000\n",
       "25%       0.003000     0.003000     0.003000\n",
       "50%       0.005000     0.004000     0.004000\n",
       "75%       0.014000     0.011000     0.010000\n",
       "max      39.621000     6.949000     1.593000"
      ]
     },
     "execution_count": 13,
     "metadata": {},
     "output_type": "execute_result"
    }
   ],
   "source": [
    "# quick statistical overview\n",
    "dataset[['default10', 'default20', 'default30']].describe()"
   ]
  }
 ],
 "metadata": {
  "kernelspec": {
   "display_name": "Python 3 (ipykernel)",
   "language": "python",
   "name": "python3"
  },
  "language_info": {
   "codemirror_mode": {
    "name": "ipython",
    "version": 3
   },
   "file_extension": ".py",
   "mimetype": "text/x-python",
   "name": "python",
   "nbconvert_exporter": "python",
   "pygments_lexer": "ipython3",
   "version": "3.11.8"
  }
 },
 "nbformat": 4,
 "nbformat_minor": 4
}
