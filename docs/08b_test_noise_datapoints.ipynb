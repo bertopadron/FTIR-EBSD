{
 "cells": [
  {
   "cell_type": "code",
   "execution_count": 1,
   "metadata": {},
   "outputs": [
    {
     "name": "stdout",
     "output_type": "stream",
     "text": [
      "module FTIR v.2024.4.11 imported\n"
     ]
    }
   ],
   "source": [
    "# required Python imports\n",
    "import pandas as pd\n",
    "import numpy as np\n",
    "from types import SimpleNamespace\n",
    "\n",
    "import ftir_funct as f\n",
    "np.set_printoptions(suppress=True)"
   ]
  },
  {
   "cell_type": "markdown",
   "metadata": {},
   "source": [
    "## Generate database"
   ]
  },
  {
   "cell_type": "code",
   "execution_count": 2,
   "metadata": {},
   "outputs": [
    {
     "data": {
      "text/plain": [
       "array([[  0,   0,   0],\n",
       "       [  0,   0,   7],\n",
       "       [  0,   0,  14],\n",
       "       ...,\n",
       "       [ 84,  84, 161],\n",
       "       [ 84,  84, 168],\n",
       "       [ 84,  84, 175]])"
      ]
     },
     "execution_count": 2,
     "metadata": {},
     "output_type": "execute_result"
    }
   ],
   "source": [
    "f.explore_Euler_space(step=7, lower_bounds=(0, 0, 0), upper_bounds=(89, 89, 179))"
   ]
  },
  {
   "cell_type": "code",
   "execution_count": 3,
   "metadata": {},
   "outputs": [
    {
     "data": {
      "text/plain": [
       "(4394, 3)"
      ]
     },
     "execution_count": 3,
     "metadata": {},
     "output_type": "execute_result"
    }
   ],
   "source": [
    "# generate Euler angles each 7 degrees and store in the database\n",
    "database = SimpleNamespace(euler=f.explore_Euler_space(step=7, lower_bounds=(0, 0, 0), upper_bounds=(89, 89, 179)))\n",
    "database.euler.shape"
   ]
  },
  {
   "cell_type": "code",
   "execution_count": 4,
   "metadata": {},
   "outputs": [
    {
     "data": {
      "text/html": [
       "<div>\n",
       "<style scoped>\n",
       "    .dataframe tbody tr th:only-of-type {\n",
       "        vertical-align: middle;\n",
       "    }\n",
       "\n",
       "    .dataframe tbody tr th {\n",
       "        vertical-align: top;\n",
       "    }\n",
       "\n",
       "    .dataframe thead th {\n",
       "        text-align: right;\n",
       "    }\n",
       "</style>\n",
       "<table border=\"1\" class=\"dataframe\">\n",
       "  <thead>\n",
       "    <tr style=\"text-align: right;\">\n",
       "      <th></th>\n",
       "      <th>Euler1</th>\n",
       "      <th>Euler2</th>\n",
       "      <th>Euler3</th>\n",
       "    </tr>\n",
       "  </thead>\n",
       "  <tbody>\n",
       "    <tr>\n",
       "      <th>0</th>\n",
       "      <td>0</td>\n",
       "      <td>0</td>\n",
       "      <td>0</td>\n",
       "    </tr>\n",
       "    <tr>\n",
       "      <th>1</th>\n",
       "      <td>0</td>\n",
       "      <td>0</td>\n",
       "      <td>7</td>\n",
       "    </tr>\n",
       "    <tr>\n",
       "      <th>2</th>\n",
       "      <td>0</td>\n",
       "      <td>0</td>\n",
       "      <td>14</td>\n",
       "    </tr>\n",
       "    <tr>\n",
       "      <th>3</th>\n",
       "      <td>0</td>\n",
       "      <td>0</td>\n",
       "      <td>21</td>\n",
       "    </tr>\n",
       "    <tr>\n",
       "      <th>4</th>\n",
       "      <td>0</td>\n",
       "      <td>0</td>\n",
       "      <td>28</td>\n",
       "    </tr>\n",
       "    <tr>\n",
       "      <th>...</th>\n",
       "      <td>...</td>\n",
       "      <td>...</td>\n",
       "      <td>...</td>\n",
       "    </tr>\n",
       "    <tr>\n",
       "      <th>4389</th>\n",
       "      <td>84</td>\n",
       "      <td>84</td>\n",
       "      <td>147</td>\n",
       "    </tr>\n",
       "    <tr>\n",
       "      <th>4390</th>\n",
       "      <td>84</td>\n",
       "      <td>84</td>\n",
       "      <td>154</td>\n",
       "    </tr>\n",
       "    <tr>\n",
       "      <th>4391</th>\n",
       "      <td>84</td>\n",
       "      <td>84</td>\n",
       "      <td>161</td>\n",
       "    </tr>\n",
       "    <tr>\n",
       "      <th>4392</th>\n",
       "      <td>84</td>\n",
       "      <td>84</td>\n",
       "      <td>168</td>\n",
       "    </tr>\n",
       "    <tr>\n",
       "      <th>4393</th>\n",
       "      <td>84</td>\n",
       "      <td>84</td>\n",
       "      <td>175</td>\n",
       "    </tr>\n",
       "  </tbody>\n",
       "</table>\n",
       "<p>4394 rows × 3 columns</p>\n",
       "</div>"
      ],
      "text/plain": [
       "      Euler1  Euler2  Euler3\n",
       "0          0       0       0\n",
       "1          0       0       7\n",
       "2          0       0      14\n",
       "3          0       0      21\n",
       "4          0       0      28\n",
       "...      ...     ...     ...\n",
       "4389      84      84     147\n",
       "4390      84      84     154\n",
       "4391      84      84     161\n",
       "4392      84      84     168\n",
       "4393      84      84     175\n",
       "\n",
       "[4394 rows x 3 columns]"
      ]
     },
     "execution_count": 4,
     "metadata": {},
     "output_type": "execute_result"
    }
   ],
   "source": [
    "dataset = pd.DataFrame(\n",
    "    {\n",
    "        \"Euler1\": database.euler[:, 0],\n",
    "        \"Euler2\": database.euler[:, 1],\n",
    "        \"Euler3\": database.euler[:, 2],\n",
    "    }\n",
    ")\n",
    "dataset"
   ]
  },
  {
   "cell_type": "code",
   "execution_count": 5,
   "metadata": {},
   "outputs": [],
   "source": [
    "# Transmission values for lambda 1987.29\n",
    "Ta = 0.009882\n",
    "Tb = 0.995815\n",
    "Tc = 0.596951\n",
    "\n",
    "# Generate a mesh of values defining the reference transmissión envelope\n",
    "polar, azimuths = f.regular_S2_grid(n_squared=500)\n",
    "T = f.Tvalues(trans=(Ta, Tb, Tc), azimuth=azimuths, polar=polar)\n",
    "x, y, z = f.sph2cart(T, azimuths, polar)"
   ]
  },
  {
   "cell_type": "code",
   "execution_count": 6,
   "metadata": {},
   "outputs": [],
   "source": [
    "# create a random generator\n",
    "rgn = np.random.default_rng()\n",
    "\n",
    "# set standard deviations for T and azimuths\n",
    "std_T = 0.03\n",
    "std_azimuths = 0.5"
   ]
  },
  {
   "cell_type": "markdown",
   "metadata": {},
   "source": [
    "**2024-04-13 test**:  \n",
    "std_T = 0.03  \n",
    "std_azimuths = 0.5  \n",
    "\n",
    "**2024-04-18 test**:  \n",
    "std_T = 0.03  \n",
    "std_azimuths = 0.25\n",
    "\n",
    "**2024-04-19 test2**:  \n",
    "std_T = 0.015  \n",
    "std_azimuths = 0.5\n",
    "\n",
    "**2024-04-30 test3**:  \n",
    "std_T = 0.03  \n",
    "std_azimuths = 0.5  \n",
    "Note: more datapoints"
   ]
  },
  {
   "cell_type": "code",
   "execution_count": 7,
   "metadata": {},
   "outputs": [
    {
     "data": {
      "text/plain": [
       "array([  0. ,   6.5,  13. ,  19.5,  26. ,  32.5,  39. ,  45.5,  52. ,\n",
       "        58.5,  65. ,  71.5,  78. ,  84.5,  91. ,  97.5, 104. , 110.5,\n",
       "       117. , 123.5, 130. , 136.5, 143. , 149.5, 156. , 162.5, 169. ,\n",
       "       175.5])"
      ]
     },
     "execution_count": 7,
     "metadata": {},
     "output_type": "execute_result"
    }
   ],
   "source": [
    "# just a test\n",
    "np.arange(0, 180, 6.5)"
   ]
  },
  {
   "cell_type": "code",
   "execution_count": 8,
   "metadata": {},
   "outputs": [
    {
     "data": {
      "text/plain": [
       "(28, 32)"
      ]
     },
     "execution_count": 8,
     "metadata": {},
     "output_type": "execute_result"
    }
   ],
   "source": [
    "round(180/6.5), round(180/5.7)"
   ]
  },
  {
   "cell_type": "code",
   "execution_count": 9,
   "metadata": {},
   "outputs": [],
   "source": [
    "steps = (6.5, 5.7)  # in degrees\n",
    "columns = [\"n28\", \"n32\"]\n",
    "\n",
    "for i, step in enumerate(steps):\n",
    "    # create database\n",
    "    angles = np.arange(0, 180, step)\n",
    "    T_vals = []\n",
    "    azi_vals = []\n",
    "\n",
    "    for euler in database.euler:\n",
    "        # rotate\n",
    "        x2, y2, z2 = f.rotate(coordinates=(x, y, z), euler_ang=euler)\n",
    "\n",
    "        # extract XY intersection\n",
    "        xy_vectors = f.extract_XY_section_fast2(x2, y2, z2)\n",
    "\n",
    "        # get the indexes of specific angles\n",
    "        indexes = f.find_nearest(xy_vectors[\"angles\"], angles)\n",
    "\n",
    "        # append values\n",
    "        T_vals.append(xy_vectors.loc[indexes, [\"T\"]].T.values.tolist()[0])\n",
    "        azi_vals.append(xy_vectors.loc[indexes, [\"angles\"]].T.values.tolist()[0])\n",
    "\n",
    "    database.T_values = np.array(T_vals)\n",
    "    database.azimuths = np.array(azi_vals)\n",
    "\n",
    "    # add Gaussian noise to data\n",
    "    database.T_noise = database.T_values + rgn.normal(0, std_T, database.T_values.shape)\n",
    "    database.azi_noise = database.azimuths + rgn.normal(\n",
    "        0, std_azimuths, database.azimuths.shape\n",
    "    )\n",
    "\n",
    "    # initialize variables\n",
    "    no_noise = np.empty(database.euler.shape[0])\n",
    "    noise = np.empty(database.euler.shape[0])\n",
    "\n",
    "    for index, orientation in enumerate(database.euler):\n",
    "        measures1 = np.column_stack(\n",
    "            (\n",
    "                database.T_values[index],\n",
    "                database.azimuths[index],\n",
    "                np.full_like(database.azimuths[index], 90),\n",
    "            )\n",
    "        )\n",
    "\n",
    "        estimate1 = f.find_orientation(measurements=measures1, params=(Ta, Tb, Tc))\n",
    "        no_noise[index] = f.calc_disorientation(orientation, estimate1.x)\n",
    "\n",
    "        measures2 = np.column_stack(\n",
    "            (\n",
    "                database.T_noise[index],\n",
    "                database.azi_noise[index],\n",
    "                np.full_like(database.azimuths[index], 90),\n",
    "            )\n",
    "        )\n",
    "\n",
    "        estimate2 = f.find_orientation(measurements=measures2, params=(Ta, Tb, Tc))\n",
    "        noise[index] = f.calc_disorientation(orientation, estimate2.x)\n",
    "\n",
    "    # add columns\n",
    "    dataset[columns[i]] = no_noise\n",
    "    dataset[columns[i] + \"_noise\"] = noise\n",
    "\n",
    "    # clean database\n",
    "    del database.T_values\n",
    "    del database.azimuths\n",
    "    del database.T_noise\n",
    "    del database.azi_noise\n"
   ]
  },
  {
   "cell_type": "code",
   "execution_count": 10,
   "metadata": {},
   "outputs": [],
   "source": [
    "# check\n",
    "# print('Euler angles: ', database.euler[-1])\n",
    "# print('T values: ', np.around(database.T_values[-1], 2))\n",
    "# print('Azimuths: ', np.around(database.azimuths[-1], 1))\n",
    "# print('T noise: ', np.around(database.T_noise[-1], 2))\n",
    "# print('Azi_noise: ', np.around(database.azi_noise[-1], 1))"
   ]
  },
  {
   "cell_type": "code",
   "execution_count": 11,
   "metadata": {},
   "outputs": [
    {
     "data": {
      "text/html": [
       "<div>\n",
       "<style scoped>\n",
       "    .dataframe tbody tr th:only-of-type {\n",
       "        vertical-align: middle;\n",
       "    }\n",
       "\n",
       "    .dataframe tbody tr th {\n",
       "        vertical-align: top;\n",
       "    }\n",
       "\n",
       "    .dataframe thead th {\n",
       "        text-align: right;\n",
       "    }\n",
       "</style>\n",
       "<table border=\"1\" class=\"dataframe\">\n",
       "  <thead>\n",
       "    <tr style=\"text-align: right;\">\n",
       "      <th></th>\n",
       "      <th>Euler1</th>\n",
       "      <th>Euler2</th>\n",
       "      <th>Euler3</th>\n",
       "      <th>n28</th>\n",
       "      <th>n28_noise</th>\n",
       "      <th>n32</th>\n",
       "      <th>n32_noise</th>\n",
       "    </tr>\n",
       "  </thead>\n",
       "  <tbody>\n",
       "    <tr>\n",
       "      <th>0</th>\n",
       "      <td>0</td>\n",
       "      <td>0</td>\n",
       "      <td>0</td>\n",
       "      <td>0.243</td>\n",
       "      <td>10.735</td>\n",
       "      <td>0.106</td>\n",
       "      <td>0.093</td>\n",
       "    </tr>\n",
       "    <tr>\n",
       "      <th>1</th>\n",
       "      <td>0</td>\n",
       "      <td>0</td>\n",
       "      <td>7</td>\n",
       "      <td>0.000</td>\n",
       "      <td>10.292</td>\n",
       "      <td>0.249</td>\n",
       "      <td>13.677</td>\n",
       "    </tr>\n",
       "    <tr>\n",
       "      <th>2</th>\n",
       "      <td>0</td>\n",
       "      <td>0</td>\n",
       "      <td>14</td>\n",
       "      <td>0.000</td>\n",
       "      <td>7.822</td>\n",
       "      <td>0.000</td>\n",
       "      <td>0.030</td>\n",
       "    </tr>\n",
       "    <tr>\n",
       "      <th>3</th>\n",
       "      <td>0</td>\n",
       "      <td>0</td>\n",
       "      <td>21</td>\n",
       "      <td>0.303</td>\n",
       "      <td>14.547</td>\n",
       "      <td>0.232</td>\n",
       "      <td>0.952</td>\n",
       "    </tr>\n",
       "    <tr>\n",
       "      <th>4</th>\n",
       "      <td>0</td>\n",
       "      <td>0</td>\n",
       "      <td>28</td>\n",
       "      <td>0.000</td>\n",
       "      <td>4.318</td>\n",
       "      <td>0.277</td>\n",
       "      <td>0.891</td>\n",
       "    </tr>\n",
       "    <tr>\n",
       "      <th>...</th>\n",
       "      <td>...</td>\n",
       "      <td>...</td>\n",
       "      <td>...</td>\n",
       "      <td>...</td>\n",
       "      <td>...</td>\n",
       "      <td>...</td>\n",
       "      <td>...</td>\n",
       "    </tr>\n",
       "    <tr>\n",
       "      <th>4389</th>\n",
       "      <td>84</td>\n",
       "      <td>84</td>\n",
       "      <td>147</td>\n",
       "      <td>0.006</td>\n",
       "      <td>8.534</td>\n",
       "      <td>0.012</td>\n",
       "      <td>8.855</td>\n",
       "    </tr>\n",
       "    <tr>\n",
       "      <th>4390</th>\n",
       "      <td>84</td>\n",
       "      <td>84</td>\n",
       "      <td>154</td>\n",
       "      <td>0.009</td>\n",
       "      <td>8.496</td>\n",
       "      <td>0.007</td>\n",
       "      <td>6.021</td>\n",
       "    </tr>\n",
       "    <tr>\n",
       "      <th>4391</th>\n",
       "      <td>84</td>\n",
       "      <td>84</td>\n",
       "      <td>161</td>\n",
       "      <td>0.010</td>\n",
       "      <td>8.618</td>\n",
       "      <td>0.008</td>\n",
       "      <td>9.069</td>\n",
       "    </tr>\n",
       "    <tr>\n",
       "      <th>4392</th>\n",
       "      <td>84</td>\n",
       "      <td>84</td>\n",
       "      <td>168</td>\n",
       "      <td>0.011</td>\n",
       "      <td>5.406</td>\n",
       "      <td>0.013</td>\n",
       "      <td>6.279</td>\n",
       "    </tr>\n",
       "    <tr>\n",
       "      <th>4393</th>\n",
       "      <td>84</td>\n",
       "      <td>84</td>\n",
       "      <td>175</td>\n",
       "      <td>0.013</td>\n",
       "      <td>5.435</td>\n",
       "      <td>0.012</td>\n",
       "      <td>6.633</td>\n",
       "    </tr>\n",
       "  </tbody>\n",
       "</table>\n",
       "<p>4394 rows × 7 columns</p>\n",
       "</div>"
      ],
      "text/plain": [
       "      Euler1  Euler2  Euler3    n28  n28_noise    n32  n32_noise\n",
       "0          0       0       0  0.243     10.735  0.106      0.093\n",
       "1          0       0       7  0.000     10.292  0.249     13.677\n",
       "2          0       0      14  0.000      7.822  0.000      0.030\n",
       "3          0       0      21  0.303     14.547  0.232      0.952\n",
       "4          0       0      28  0.000      4.318  0.277      0.891\n",
       "...      ...     ...     ...    ...        ...    ...        ...\n",
       "4389      84      84     147  0.006      8.534  0.012      8.855\n",
       "4390      84      84     154  0.009      8.496  0.007      6.021\n",
       "4391      84      84     161  0.010      8.618  0.008      9.069\n",
       "4392      84      84     168  0.011      5.406  0.013      6.279\n",
       "4393      84      84     175  0.013      5.435  0.012      6.633\n",
       "\n",
       "[4394 rows x 7 columns]"
      ]
     },
     "execution_count": 11,
     "metadata": {},
     "output_type": "execute_result"
    }
   ],
   "source": [
    "dataset"
   ]
  },
  {
   "cell_type": "markdown",
   "metadata": {},
   "source": [
    "## Estimate"
   ]
  },
  {
   "cell_type": "code",
   "execution_count": 12,
   "metadata": {},
   "outputs": [],
   "source": [
    "from datetime import date    \n",
    "today = date.today().isoformat()"
   ]
  },
  {
   "cell_type": "code",
   "execution_count": 13,
   "metadata": {},
   "outputs": [],
   "source": [
    "dataset.to_csv(today + '_step7_lamb1987_noise_datapoints3.csv', index=False)"
   ]
  },
  {
   "cell_type": "code",
   "execution_count": 14,
   "metadata": {},
   "outputs": [
    {
     "data": {
      "text/html": [
       "<div>\n",
       "<style scoped>\n",
       "    .dataframe tbody tr th:only-of-type {\n",
       "        vertical-align: middle;\n",
       "    }\n",
       "\n",
       "    .dataframe tbody tr th {\n",
       "        vertical-align: top;\n",
       "    }\n",
       "\n",
       "    .dataframe thead th {\n",
       "        text-align: right;\n",
       "    }\n",
       "</style>\n",
       "<table border=\"1\" class=\"dataframe\">\n",
       "  <thead>\n",
       "    <tr style=\"text-align: right;\">\n",
       "      <th></th>\n",
       "      <th>n28</th>\n",
       "      <th>n28_noise</th>\n",
       "      <th>n32</th>\n",
       "      <th>n32_noise</th>\n",
       "    </tr>\n",
       "  </thead>\n",
       "  <tbody>\n",
       "    <tr>\n",
       "      <th>count</th>\n",
       "      <td>4394.000000</td>\n",
       "      <td>4394.000000</td>\n",
       "      <td>4394.000000</td>\n",
       "      <td>4394.000000</td>\n",
       "    </tr>\n",
       "    <tr>\n",
       "      <th>mean</th>\n",
       "      <td>0.027747</td>\n",
       "      <td>4.343968</td>\n",
       "      <td>0.030378</td>\n",
       "      <td>4.136903</td>\n",
       "    </tr>\n",
       "    <tr>\n",
       "      <th>std</th>\n",
       "      <td>0.093501</td>\n",
       "      <td>3.211963</td>\n",
       "      <td>0.138751</td>\n",
       "      <td>3.000243</td>\n",
       "    </tr>\n",
       "    <tr>\n",
       "      <th>min</th>\n",
       "      <td>0.000000</td>\n",
       "      <td>0.015000</td>\n",
       "      <td>0.000000</td>\n",
       "      <td>0.007000</td>\n",
       "    </tr>\n",
       "    <tr>\n",
       "      <th>25%</th>\n",
       "      <td>0.002000</td>\n",
       "      <td>2.023250</td>\n",
       "      <td>0.002000</td>\n",
       "      <td>1.912250</td>\n",
       "    </tr>\n",
       "    <tr>\n",
       "      <th>50%</th>\n",
       "      <td>0.004000</td>\n",
       "      <td>3.432500</td>\n",
       "      <td>0.004000</td>\n",
       "      <td>3.242000</td>\n",
       "    </tr>\n",
       "    <tr>\n",
       "      <th>75%</th>\n",
       "      <td>0.009000</td>\n",
       "      <td>5.938500</td>\n",
       "      <td>0.009000</td>\n",
       "      <td>5.745000</td>\n",
       "    </tr>\n",
       "    <tr>\n",
       "      <th>max</th>\n",
       "      <td>2.658000</td>\n",
       "      <td>41.378000</td>\n",
       "      <td>5.490000</td>\n",
       "      <td>17.915000</td>\n",
       "    </tr>\n",
       "  </tbody>\n",
       "</table>\n",
       "</div>"
      ],
      "text/plain": [
       "               n28    n28_noise          n32    n32_noise\n",
       "count  4394.000000  4394.000000  4394.000000  4394.000000\n",
       "mean      0.027747     4.343968     0.030378     4.136903\n",
       "std       0.093501     3.211963     0.138751     3.000243\n",
       "min       0.000000     0.015000     0.000000     0.007000\n",
       "25%       0.002000     2.023250     0.002000     1.912250\n",
       "50%       0.004000     3.432500     0.004000     3.242000\n",
       "75%       0.009000     5.938500     0.009000     5.745000\n",
       "max       2.658000    41.378000     5.490000    17.915000"
      ]
     },
     "execution_count": 14,
     "metadata": {},
     "output_type": "execute_result"
    }
   ],
   "source": [
    "# quick statistical overview\n",
    "dataset[['n28', 'n28_noise', 'n32', 'n32_noise']].describe()"
   ]
  }
 ],
 "metadata": {
  "kernelspec": {
   "display_name": "Python 3 (ipykernel)",
   "language": "python",
   "name": "python3"
  },
  "language_info": {
   "codemirror_mode": {
    "name": "ipython",
    "version": 3
   },
   "file_extension": ".py",
   "mimetype": "text/x-python",
   "name": "python",
   "nbconvert_exporter": "python",
   "pygments_lexer": "ipython3",
   "version": "3.11.5"
  }
 },
 "nbformat": 4,
 "nbformat_minor": 4
}
