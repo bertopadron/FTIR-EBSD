{
 "cells": [
  {
   "cell_type": "markdown",
   "metadata": {},
   "source": [
    "# TO IMPLEMENT!"
   ]
  },
  {
   "cell_type": "code",
   "execution_count": 15,
   "metadata": {},
   "outputs": [],
   "source": [
    "# required Python imports\n",
    "import pandas as pd\n",
    "import numpy as np\n",
    "from types import SimpleNamespace\n",
    "\n",
    "import ftir_funct as f\n",
    "np.set_printoptions(suppress=True)"
   ]
  },
  {
   "cell_type": "markdown",
   "metadata": {},
   "source": [
    "## Generate database"
   ]
  },
  {
   "cell_type": "code",
   "execution_count": 16,
   "metadata": {},
   "outputs": [
    {
     "data": {
      "text/plain": [
       "array([[  0,   0,   0],\n",
       "       [  0,   0,   7],\n",
       "       [  0,   0,  14],\n",
       "       ...,\n",
       "       [ 84,  84, 161],\n",
       "       [ 84,  84, 168],\n",
       "       [ 84,  84, 175]])"
      ]
     },
     "execution_count": 16,
     "metadata": {},
     "output_type": "execute_result"
    }
   ],
   "source": [
    "f.explore_Euler_space(step=7, lower_bounds=(0, 0, 0), upper_bounds=(89, 89, 179))"
   ]
  },
  {
   "cell_type": "code",
   "execution_count": 17,
   "metadata": {},
   "outputs": [
    {
     "data": {
      "text/plain": [
       "(4394, 3)"
      ]
     },
     "execution_count": 17,
     "metadata": {},
     "output_type": "execute_result"
    }
   ],
   "source": [
    "# generate Euler angles each 7 degrees and store in the database\n",
    "database = SimpleNamespace(euler=f.explore_Euler_space(step=7, lower_bounds=(0, 0, 0), upper_bounds=(89, 89, 179)))\n",
    "database.euler.shape"
   ]
  },
  {
   "cell_type": "code",
   "execution_count": 18,
   "metadata": {},
   "outputs": [],
   "source": [
    "# Transmission values for lambda 1987.29\n",
    "Ta = 0.009882\n",
    "Tb = 0.995815\n",
    "Tc = 0.596951\n",
    "\n",
    "# Generate a mesh of values defining the reference transmissión envelope\n",
    "polar, azimuths = f.regular_S2_grid(n_squared=500)\n",
    "T = f.Tvalues(trans=(Ta, Tb, Tc), azimuth=azimuths, polar=polar)\n",
    "x, y, z = f.sph2cart(T, azimuths, polar)\n"
   ]
  },
  {
   "cell_type": "code",
   "execution_count": null,
   "metadata": {},
   "outputs": [],
   "source": [
    "# Generate 16 measures at different azimuth angles\n",
    "angles = np.arange(0, 360, 45/2)\n",
    "\n",
    "# initialize variables\n",
    "T_vals = []\n",
    "azi_vals = []\n",
    "\n",
    "for euler in database.euler:\n",
    "    # rotate\n",
    "    x2, y2, z2 = f.rotate(coordinates=(x, y, z), euler_ang=euler)\n",
    "\n",
    "    # extract XY intersection\n",
    "    xy_vectors = f.extract_XY_section_fast2(x2, y2, z2)\n",
    "\n",
    "    # get the indexes of specific angles\n",
    "    indexes = f.find_nearest(xy_vectors['angles'], angles)\n",
    "\n",
    "    # append values\n",
    "    T_vals.append(xy_vectors.loc[indexes, ['T']].T.values.tolist()[0])\n",
    "    azi_vals.append(xy_vectors.loc[indexes, ['angles']].T.values.tolist()[0])\n",
    "\n",
    "# store values in database\n",
    "database.T_values = np.array(T_vals)\n",
    "database.azimuths = np.array(azi_vals)"
   ]
  },
  {
   "cell_type": "code",
   "execution_count": 9,
   "metadata": {},
   "outputs": [],
   "source": [
    "# \n",
    "disorientations = np.empty(database.euler.shape[0])\n",
    "\n",
    "for index, orientation in enumerate(database.euler):\n",
    "    # print('Real:', np.around(orientation, 0))\n",
    "\n",
    "    measures = np.column_stack((database.T_values[index],\n",
    "                                database.azimuths[index],\n",
    "                                np.full_like(database.azimuths[index], 90)))\n",
    "\n",
    "    estimate = f.find_orientation(measurements=measures, params=(Ta, Tb, Tc))\n",
    "    disorientations[index] = f.calc_disorientation(orientation, estimate.x)\n"
   ]
  },
  {
   "cell_type": "markdown",
   "metadata": {},
   "source": [
    "> in my PC each loop (i.e. orientation) takes ~1.7 s so that n=4394 means ~124m (2 h)"
   ]
  },
  {
   "cell_type": "markdown",
   "metadata": {},
   "source": [
    "## Generate dataframe and save data"
   ]
  },
  {
   "cell_type": "code",
   "execution_count": 11,
   "metadata": {},
   "outputs": [
    {
     "data": {
      "text/html": [
       "<div>\n",
       "<style scoped>\n",
       "    .dataframe tbody tr th:only-of-type {\n",
       "        vertical-align: middle;\n",
       "    }\n",
       "\n",
       "    .dataframe tbody tr th {\n",
       "        vertical-align: top;\n",
       "    }\n",
       "\n",
       "    .dataframe thead th {\n",
       "        text-align: right;\n",
       "    }\n",
       "</style>\n",
       "<table border=\"1\" class=\"dataframe\">\n",
       "  <thead>\n",
       "    <tr style=\"text-align: right;\">\n",
       "      <th></th>\n",
       "      <th>Euler1</th>\n",
       "      <th>Euler2</th>\n",
       "      <th>Euler3</th>\n",
       "      <th>default10</th>\n",
       "      <th>default20</th>\n",
       "      <th>default30</th>\n",
       "    </tr>\n",
       "  </thead>\n",
       "  <tbody>\n",
       "    <tr>\n",
       "      <th>0</th>\n",
       "      <td>0</td>\n",
       "      <td>0</td>\n",
       "      <td>0</td>\n",
       "      <td>0.162</td>\n",
       "      <td>0.190</td>\n",
       "      <td>0.223</td>\n",
       "    </tr>\n",
       "    <tr>\n",
       "      <th>1</th>\n",
       "      <td>0</td>\n",
       "      <td>0</td>\n",
       "      <td>7</td>\n",
       "      <td>0.215</td>\n",
       "      <td>0.210</td>\n",
       "      <td>0.214</td>\n",
       "    </tr>\n",
       "    <tr>\n",
       "      <th>2</th>\n",
       "      <td>0</td>\n",
       "      <td>0</td>\n",
       "      <td>14</td>\n",
       "      <td>0.197</td>\n",
       "      <td>0.209</td>\n",
       "      <td>0.215</td>\n",
       "    </tr>\n",
       "    <tr>\n",
       "      <th>3</th>\n",
       "      <td>0</td>\n",
       "      <td>0</td>\n",
       "      <td>21</td>\n",
       "      <td>0.212</td>\n",
       "      <td>0.205</td>\n",
       "      <td>0.196</td>\n",
       "    </tr>\n",
       "    <tr>\n",
       "      <th>4</th>\n",
       "      <td>0</td>\n",
       "      <td>0</td>\n",
       "      <td>28</td>\n",
       "      <td>0.220</td>\n",
       "      <td>0.213</td>\n",
       "      <td>0.216</td>\n",
       "    </tr>\n",
       "    <tr>\n",
       "      <th>...</th>\n",
       "      <td>...</td>\n",
       "      <td>...</td>\n",
       "      <td>...</td>\n",
       "      <td>...</td>\n",
       "      <td>...</td>\n",
       "      <td>...</td>\n",
       "    </tr>\n",
       "    <tr>\n",
       "      <th>4389</th>\n",
       "      <td>84</td>\n",
       "      <td>84</td>\n",
       "      <td>147</td>\n",
       "      <td>0.004</td>\n",
       "      <td>0.004</td>\n",
       "      <td>0.003</td>\n",
       "    </tr>\n",
       "    <tr>\n",
       "      <th>4390</th>\n",
       "      <td>84</td>\n",
       "      <td>84</td>\n",
       "      <td>154</td>\n",
       "      <td>0.004</td>\n",
       "      <td>0.004</td>\n",
       "      <td>0.004</td>\n",
       "    </tr>\n",
       "    <tr>\n",
       "      <th>4391</th>\n",
       "      <td>84</td>\n",
       "      <td>84</td>\n",
       "      <td>161</td>\n",
       "      <td>0.003</td>\n",
       "      <td>0.003</td>\n",
       "      <td>0.003</td>\n",
       "    </tr>\n",
       "    <tr>\n",
       "      <th>4392</th>\n",
       "      <td>84</td>\n",
       "      <td>84</td>\n",
       "      <td>168</td>\n",
       "      <td>0.004</td>\n",
       "      <td>0.004</td>\n",
       "      <td>0.004</td>\n",
       "    </tr>\n",
       "    <tr>\n",
       "      <th>4393</th>\n",
       "      <td>84</td>\n",
       "      <td>84</td>\n",
       "      <td>175</td>\n",
       "      <td>0.003</td>\n",
       "      <td>0.003</td>\n",
       "      <td>0.003</td>\n",
       "    </tr>\n",
       "  </tbody>\n",
       "</table>\n",
       "<p>4394 rows × 6 columns</p>\n",
       "</div>"
      ],
      "text/plain": [
       "      Euler1  Euler2  Euler3  default10  default20  default30\n",
       "0          0       0       0      0.162      0.190      0.223\n",
       "1          0       0       7      0.215      0.210      0.214\n",
       "2          0       0      14      0.197      0.209      0.215\n",
       "3          0       0      21      0.212      0.205      0.196\n",
       "4          0       0      28      0.220      0.213      0.216\n",
       "...      ...     ...     ...        ...        ...        ...\n",
       "4389      84      84     147      0.004      0.004      0.003\n",
       "4390      84      84     154      0.004      0.004      0.004\n",
       "4391      84      84     161      0.003      0.003      0.003\n",
       "4392      84      84     168      0.004      0.004      0.004\n",
       "4393      84      84     175      0.003      0.003      0.003\n",
       "\n",
       "[4394 rows x 6 columns]"
      ]
     },
     "execution_count": 11,
     "metadata": {},
     "output_type": "execute_result"
    }
   ],
   "source": [
    "dataset = pd.DataFrame(\n",
    "    {\n",
    "        'Euler1': database.euler[:, 0],\n",
    "        'Euler2': database.euler[:, 1],\n",
    "        'Euler3': database.euler[:, 2],\n",
    "    }\n",
    ")\n",
    "\n",
    "dataset"
   ]
  },
  {
   "cell_type": "code",
   "execution_count": 13,
   "metadata": {},
   "outputs": [],
   "source": [
    "from datetime import date    \n",
    "today = date.today().isoformat()"
   ]
  },
  {
   "cell_type": "code",
   "execution_count": 14,
   "metadata": {},
   "outputs": [],
   "source": [
    "dataset.to_csv(today + '_step7_lamb1987.csv', index=False)"
   ]
  },
  {
   "cell_type": "code",
   "execution_count": 12,
   "metadata": {},
   "outputs": [
    {
     "data": {
      "text/html": [
       "<div>\n",
       "<style scoped>\n",
       "    .dataframe tbody tr th:only-of-type {\n",
       "        vertical-align: middle;\n",
       "    }\n",
       "\n",
       "    .dataframe tbody tr th {\n",
       "        vertical-align: top;\n",
       "    }\n",
       "\n",
       "    .dataframe thead th {\n",
       "        text-align: right;\n",
       "    }\n",
       "</style>\n",
       "<table border=\"1\" class=\"dataframe\">\n",
       "  <thead>\n",
       "    <tr style=\"text-align: right;\">\n",
       "      <th></th>\n",
       "      <th>default10</th>\n",
       "      <th>default20</th>\n",
       "      <th>default30</th>\n",
       "    </tr>\n",
       "  </thead>\n",
       "  <tbody>\n",
       "    <tr>\n",
       "      <th>count</th>\n",
       "      <td>4394.000000</td>\n",
       "      <td>4394.000000</td>\n",
       "      <td>4394.000000</td>\n",
       "    </tr>\n",
       "    <tr>\n",
       "      <th>mean</th>\n",
       "      <td>0.230177</td>\n",
       "      <td>0.067985</td>\n",
       "      <td>0.045864</td>\n",
       "    </tr>\n",
       "    <tr>\n",
       "      <th>std</th>\n",
       "      <td>1.534805</td>\n",
       "      <td>0.586355</td>\n",
       "      <td>0.135742</td>\n",
       "    </tr>\n",
       "    <tr>\n",
       "      <th>min</th>\n",
       "      <td>0.000000</td>\n",
       "      <td>0.000000</td>\n",
       "      <td>0.000000</td>\n",
       "    </tr>\n",
       "    <tr>\n",
       "      <th>25%</th>\n",
       "      <td>0.001000</td>\n",
       "      <td>0.001000</td>\n",
       "      <td>0.001000</td>\n",
       "    </tr>\n",
       "    <tr>\n",
       "      <th>50%</th>\n",
       "      <td>0.003000</td>\n",
       "      <td>0.003000</td>\n",
       "      <td>0.003000</td>\n",
       "    </tr>\n",
       "    <tr>\n",
       "      <th>75%</th>\n",
       "      <td>0.008000</td>\n",
       "      <td>0.007000</td>\n",
       "      <td>0.007000</td>\n",
       "    </tr>\n",
       "    <tr>\n",
       "      <th>max</th>\n",
       "      <td>31.485000</td>\n",
       "      <td>27.828000</td>\n",
       "      <td>3.300000</td>\n",
       "    </tr>\n",
       "  </tbody>\n",
       "</table>\n",
       "</div>"
      ],
      "text/plain": [
       "         default10    default20    default30\n",
       "count  4394.000000  4394.000000  4394.000000\n",
       "mean      0.230177     0.067985     0.045864\n",
       "std       1.534805     0.586355     0.135742\n",
       "min       0.000000     0.000000     0.000000\n",
       "25%       0.001000     0.001000     0.001000\n",
       "50%       0.003000     0.003000     0.003000\n",
       "75%       0.008000     0.007000     0.007000\n",
       "max      31.485000    27.828000     3.300000"
      ]
     },
     "execution_count": 12,
     "metadata": {},
     "output_type": "execute_result"
    }
   ],
   "source": [
    "# quick statistical overview\n",
    "dataset[['default10', 'default20', 'default30']].describe()"
   ]
  }
 ],
 "metadata": {
  "kernelspec": {
   "display_name": "Python 3 (ipykernel)",
   "language": "python",
   "name": "python3"
  },
  "language_info": {
   "codemirror_mode": {
    "name": "ipython",
    "version": 3
   },
   "file_extension": ".py",
   "mimetype": "text/x-python",
   "name": "python",
   "nbconvert_exporter": "python",
   "pygments_lexer": "ipython3",
   "version": "3.11.8"
  }
 },
 "nbformat": 4,
 "nbformat_minor": 4
}
