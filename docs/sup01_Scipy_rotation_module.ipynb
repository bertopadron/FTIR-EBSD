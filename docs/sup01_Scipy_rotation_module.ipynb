{
 "cells": [
  {
   "attachments": {},
   "cell_type": "markdown",
   "metadata": {},
   "source": [
    "# Basics of Scipy's rotation submodule\n",
    "\n",
    "> **Goal**: Briefly explain all common ways of representing a rotation in 3D Cartesian space and how they work using Scipy's Rotation submodule. The purpose of using Scipy and not a specific library (e.g. https://dfki-ric.github.io/pytransform3d/) is to keep dependencies to a minimum (Scipy is also used for minimisation).\n",
    "\n",
    "Scipy's rotation module provides the following ways of representing a 3D rotation\n",
    "\n",
    "- Rotation Matrices\n",
    "- Euler Angles\n",
    "- Quaternions\n",
    "- Rotation Vectors (a concise three-number representation of Euler axis-angle pair)\n",
    "- Modified Rodrigues Parameters (a.k.a. Log map or logarithm of rotation)\n",
    "\n",
    "as well as different operations on rotations and transformations between them. It is important to keep in mind that **all representations** are somewhat redundant or discontinuous or with singularities (although not all to the same degree). Below is a table summarising their properties:\n",
    "\n",
    "|          **Representation**          |  **Inverse**  | **Rotation of vector** | **Concatenation** | **Interpolation** | **Scipy name** |\n",
    "| :----------------------------------: | :-----------: | :--------------------: | :---------------: | :---------------: | :------------: |\n",
    "|         Rotation matrix $R$          |   Transpose   |          Yes           |        Yes        |        No         |     matrix     |\n",
    "| Euler angles ($\\alpha,\\beta,\\gamma$) |      No       |           No           |        No         |        No         |     euler      |\n",
    "|           Quaternion ($q$)           |   Conjugate   |          Yes           |        Yes        |        Yes        |      quat      |\n",
    "|      Rotation vector ($\\omega$)      | Negative axis |           No           |        No         |        Yes        |     rotvec     |\n",
    "|    Rodrigues parameters ($\\omega$)   |    Negative   |           No           |        No         |       (Yes)       |      mrp       |\n",
    "\n",
    "\n",
    "For more details see:  \n",
    "https://dfki-ric.github.io/pytransform3d/rotations.html (most of the info here is based on the documentation of this Python module)  \n",
    "https://en.wikipedia.org/wiki/Rotation_formalisms_in_three_dimensions\n",
    "\n",
    "## Examples of representation of rotations and transformations between them"
   ]
  },
  {
   "cell_type": "code",
   "execution_count": 1,
   "metadata": {},
   "outputs": [],
   "source": [
    "# imports needed\n",
    "import numpy as np\n",
    "import matplotlib.pyplot as plt\n",
    "from scipy.spatial.transform import Rotation as r"
   ]
  },
  {
   "attachments": {},
   "cell_type": "markdown",
   "metadata": {},
   "source": [
    "After importing _Rotation as r_ from _scipy.spatial.transform_, rotations are defined as follows:  \n",
    "\n",
    "``r.from_<representation>(parameters)``  \n",
    "\n",
    "where the representation of the rotation can be of any type defined in the table (Scipy name) and the input parameters will depend on the type of representation. For example:"
   ]
  },
  {
   "cell_type": "code",
   "execution_count": 2,
   "metadata": {},
   "outputs": [],
   "source": [
    "# define a rotation using Euler angles (Bunge convention)\n",
    "rotation = r.from_euler('zxz', [30, 45, 40], degrees=True)"
   ]
  },
  {
   "attachments": {},
   "cell_type": "markdown",
   "metadata": {},
   "source": [
    "The transformations between the different types of representation of rotations is done as follows: \n",
    "\n",
    "``r.as_<representation>(parameters)``  \n",
    "\n",
    "for example:"
   ]
  },
  {
   "cell_type": "code",
   "execution_count": 3,
   "metadata": {},
   "outputs": [
    {
     "data": {
      "text/plain": [
       "array([0.38122721, 0.03335306, 0.52991553, 0.75679781])"
      ]
     },
     "execution_count": 3,
     "metadata": {},
     "output_type": "execute_result"
    }
   ],
   "source": [
    "# represent the rotation into a quaternion\n",
    "rotation.as_quat()"
   ]
  },
  {
   "attachments": {},
   "cell_type": "markdown",
   "metadata": {},
   "source": [
    "Below I show a few more transformation examples in a formated way using f-strings"
   ]
  },
  {
   "cell_type": "code",
   "execution_count": 4,
   "metadata": {},
   "outputs": [
    {
     "name": "stdout",
     "output_type": "stream",
     "text": [
      "Euler angles:     [30. 45. 40.] (Bunge convention)\n",
      "Euler angles:     [79.9 32.8 32.7] ('zxy' convention)\n",
      "Quaternions:      [0.381 0.033 0.53  0.757]\n",
      "Rotation vectors: [47.61  4.17 66.18]\n",
      "Mod. Rod. Params: [0.217 0.019 0.302]\n",
      "Rotation matrix: \n",
      " [[ 0.436 -0.777  0.455]\n",
      " [ 0.828  0.148 -0.542]\n",
      " [ 0.354  0.612  0.707]]\n"
     ]
    }
   ],
   "source": [
    "print(f\"Euler angles:     {np.around(rotation.as_euler('zxz', degrees=True), decimals=1)} (Bunge convention)\")\n",
    "print(f\"Euler angles:     {np.around(rotation.as_euler('zxy', degrees=True), decimals=1)} ('zxy' convention)\")\n",
    "print(f\"Quaternions:      {np.around(rotation.as_quat(), decimals=3)}\")\n",
    "print(f\"Rotation vectors: {np.around(rotation.as_rotvec(degrees=True), decimals=2)}\")\n",
    "print(f\"Mod. Rod. Params: {np.around(rotation.as_mrp(), decimals=3)}\")\n",
    "print(f\"Rotation matrix: \\n {np.around(rotation.as_matrix(), decimals=3)}\")"
   ]
  },
  {
   "attachments": {},
   "cell_type": "markdown",
   "metadata": {},
   "source": [
    "Note that all the outputs are numpy ndarrays.\n",
    "\n",
    "## Examples of operations\n",
    "\n",
    "Apply rotation(s) to a set of vectors  \n",
    "``r.apply()``  \n",
    "\n",
    "Invert a rotation  \n",
    "``r.inv()``  \n",
    "\n",
    "Get the magnitude(s) of the rotation(s) (angle in radians)  \n",
    "``r.magnitude()``  \n",
    "\n",
    "Get the mean of the rotations  \n",
    "``r.mean()``\n",
    "\n",
    "Generate uniformly distributed rotations  \n",
    "``r.random()``  \n",
    "\n",
    "TODO"
   ]
  },
  {
   "attachments": {},
   "cell_type": "markdown",
   "metadata": {},
   "source": [
    "## A brief note on the representations we are going to use\n",
    "\n",
    "Crystalline orientation data is usually stored using **Euler angles** (e.g. the EBSD community) as these provide a compact way (three numbers) of representing an full 3D orientation respect to a reference frame through a rotation. On the other hand, the **rotation matrix** is typically used for most operations. These two are the representations we will use most often.\n",
    "\n",
    "### Euler angles (Bunge convention)\n",
    "\n",
    "Any orientation can be expressed as three rotations around basis vectors. However, the definition of Euler angles is not unique and the order in which we concatenate rotation matters. This means that there are 12 different ways to sequence the rotations and these can be interpreted as extrinsic (relative to an external fixed coordinate system) or intrinsic (body/crystal-fixed coordinates) rotations resulting in 24 different conventions. Other disadvantages of using Euler angles for the representation of rotations (and orientations) are (1) rotation angles can be defined in radians or degrees, (2) the gimbal lock singularity, or that (3) it requires conversion to other representaions (e.g. rotation matrix or quaternions) to concatenate or interpolation operations.\n",
    "\n",
    "In the EBSD community typically uses the Bunge convention, where the the sequence of rotations is $z$, $y$, $z$. Since our aim is to orientate crystals with respect to a fixed external reference frame (i.e. the sample), we are concerned with **extrinsic rotations** and the angles are usually given/stored in degrees. All of these constraints can be easily specified in the rotation module. For example, the sequence of axes for rotations uses a string with 3 characters (either x, y or z) using capitals for intrinsic rotations (e.g. ``'XYZ'``) and lower case for extrinsic rotations (e.g. ``'xyz'``), so that in an definition like teh one used above\n",
    "\n",
    "```python\n",
    "r.from_euler('zxz', [30, 45, 40], degrees=True)\n",
    "```\n",
    "- The first parameter, ``'zxz'``, means that the sequence of rotations is $z$, $y$, $z$ (as in Bunge) and that the rotation is extrinsic (lower case letters)\n",
    "- The second parameter, ``[30, 45, 40]``, is the Euler angles as a Python list\n",
    "- The third parameter indicates that the Euler angles are provided in degrees (if not provided, it assumes radians)\n",
    "\n",
    "TODO  \n",
    "\n",
    "### Rotation matrix\n",
    "\n",
    "The rotation matrix is a representation of an rotation/orientation defining by 9 values. In our case it is represented by a numpy array of shape (3, 3).\n",
    "\n",
    "$$\\begin{aligned}\n",
    "\\boldsymbol R =\n",
    "\\left( \\begin{array}{ccc}\n",
    "    r_{11} & r_{12} & r_{13}\\\\\n",
    "    r_{21} & r_{22} & r_{23}\\\\\n",
    "    r_{31} & r_{32} & r_{33}\\\\\n",
    "\\end{array} \\right)\n",
    "\\end{aligned}$$\n",
    "\n",
    "It is one of the most practical representations of a rotation in a 3D Cartesian space because is easy to apply rotations or concatenate rotations on point vectors by matrix-vector multiplication. Also, you can directly read the basis vectors from the columns and has no singularities. The downsides are that  ias a non-minimal representation (9 terms)...TODO\n",
    "\n"
   ]
  },
  {
   "cell_type": "code",
   "execution_count": 5,
   "metadata": {},
   "outputs": [
    {
     "name": "stdout",
     "output_type": "stream",
     "text": [
      "Notebook tested in 2024-01-12 using:\n",
      "Python 3.10.13 | packaged by Anaconda, Inc. | (main, Sep 11 2023, 13:15:57) [MSC v.1916 64 bit (AMD64)]\n",
      "Numpy 1.26.3\n",
      "Scipy 1.11.4\n",
      "Matplolib 3.8.0\n"
     ]
    }
   ],
   "source": [
    "import sys\n",
    "import scipy as sp\n",
    "import matplotlib as mpl\n",
    "from datetime import date    \n",
    "today = date.today().isoformat()\n",
    "\n",
    "print(f'Notebook tested in {today} using:')\n",
    "print('Python', sys.version)\n",
    "print('Numpy', np.__version__)\n",
    "print('Scipy', sp.__version__)\n",
    "print('Matplolib', mpl.__version__)"
   ]
  }
 ],
 "metadata": {
  "kernelspec": {
   "display_name": "pnja",
   "language": "python",
   "name": "python3"
  },
  "language_info": {
   "codemirror_mode": {
    "name": "ipython",
    "version": 3
   },
   "file_extension": ".py",
   "mimetype": "text/x-python",
   "name": "python",
   "nbconvert_exporter": "python",
   "pygments_lexer": "ipython3",
   "version": "3.10.13"
  },
  "orig_nbformat": 4,
  "vscode": {
   "interpreter": {
    "hash": "e0f19d7df56e5761da96bd656548da0a2078e6f331c39beb2ac8c15854e5ec02"
   }
  }
 },
 "nbformat": 4,
 "nbformat_minor": 2
}
