{
 "cells": [
  {
   "cell_type": "code",
   "execution_count": 1,
   "metadata": {},
   "outputs": [
    {
     "name": "stdout",
     "output_type": "stream",
     "text": [
      "module FTIR v.2024.3.19 imported\n"
     ]
    }
   ],
   "source": [
    "# required Python imports\n",
    "import numpy as np\n",
    "from types import SimpleNamespace\n",
    "\n",
    "import ftir_funct as f\n",
    "np.set_printoptions(suppress=True)"
   ]
  },
  {
   "cell_type": "markdown",
   "metadata": {},
   "source": [
    "## Generate database"
   ]
  },
  {
   "cell_type": "code",
   "execution_count": 2,
   "metadata": {},
   "outputs": [
    {
     "data": {
      "text/plain": [
       "array([[  0,   0,   0],\n",
       "       [  0,   0,   7],\n",
       "       [  0,   0,  14],\n",
       "       ...,\n",
       "       [ 84,  84, 161],\n",
       "       [ 84,  84, 168],\n",
       "       [ 84,  84, 175]])"
      ]
     },
     "execution_count": 2,
     "metadata": {},
     "output_type": "execute_result"
    }
   ],
   "source": [
    "f.explore_Euler_space(step=7, lower_bounds=(0, 0, 0), upper_bounds=(89, 89, 179))"
   ]
  },
  {
   "cell_type": "code",
   "execution_count": 3,
   "metadata": {},
   "outputs": [
    {
     "data": {
      "text/plain": [
       "(4394, 3)"
      ]
     },
     "execution_count": 3,
     "metadata": {},
     "output_type": "execute_result"
    }
   ],
   "source": [
    "# generate Euler angles each 7 degrees and store in the database\n",
    "database = SimpleNamespace(euler=f.explore_Euler_space(step=7, lower_bounds=(0, 0, 0), upper_bounds=(89, 89, 179)))\n",
    "database.euler.shape"
   ]
  },
  {
   "cell_type": "code",
   "execution_count": 4,
   "metadata": {},
   "outputs": [],
   "source": [
    "# Generate a mesh of values defining the reference transmissión envelope\n",
    "polar, azimuths = f.regular_S2_grid(n_squared=500)\n",
    "T = f.Tvalues(trans=(90, 50, 20), azimuth=azimuths, polar=polar)\n",
    "x, y, z = f.sph2cart(T, azimuths, polar)\n",
    "\n",
    "# Generate 16 measures at different azimuth angles\n",
    "angles = np.arange(0, 360, 45/2)\n",
    "\n",
    "# initialize variables\n",
    "T_vals = []\n",
    "azi_vals = []\n",
    "\n",
    "for euler in database.euler:\n",
    "    # rotate\n",
    "    x2, y2, z2 = f.rotate(coordinates=(x, y, z), euler_ang=euler)\n",
    "\n",
    "    # extract XY intersection\n",
    "    xy_vectors = f.extract_XY_section_fast2(x2, y2, z2)\n",
    "\n",
    "    # get the indexes of specific angles\n",
    "    indexes = f.find_nearest(xy_vectors['angles'], angles)\n",
    "\n",
    "    # append values\n",
    "    T_vals.append(xy_vectors.loc[indexes, ['T']].T.values.tolist()[0])\n",
    "    azi_vals.append(xy_vectors.loc[indexes, ['angles']].T.values.tolist()[0])\n",
    "\n",
    "# store values in database\n",
    "database.T_values = np.array(T_vals)\n",
    "database.azimuths = np.array(azi_vals)"
   ]
  },
  {
   "cell_type": "code",
   "execution_count": 5,
   "metadata": {},
   "outputs": [
    {
     "name": "stdout",
     "output_type": "stream",
     "text": [
      "(4394, 3)\n",
      "(4394, 16)\n",
      "(4394, 16)\n"
     ]
    }
   ],
   "source": [
    "print(database.euler.shape)\n",
    "print(database.T_values.shape)\n",
    "print(database.azimuths.shape)"
   ]
  },
  {
   "cell_type": "code",
   "execution_count": 6,
   "metadata": {},
   "outputs": [
    {
     "name": "stdout",
     "output_type": "stream",
     "text": [
      "Euler angles:  [ 84  84 175]\n",
      "T values:  [50.3 44.5 33.4 23.7 20.9 26.6 37.7 47.5 50.3 44.5 33.4 23.7 20.9 26.6\n",
      " 37.7 47.5]\n",
      "Azimuths:  [  0.2  22.5  45.2  67.4  90.  112.3 135.  157.5 180.  202.5 225.2 247.5\n",
      " 270.  292.3 315.  337.5]\n"
     ]
    }
   ],
   "source": [
    "print('Euler angles: ', database.euler[-1])\n",
    "print('T values: ', np.around(database.T_values[-1], 1))\n",
    "print('Azimuths: ', np.around(database.azimuths[-1], 1))"
   ]
  },
  {
   "cell_type": "code",
   "execution_count": 7,
   "metadata": {},
   "outputs": [
    {
     "name": "stdout",
     "output_type": "stream",
     "text": [
      "Calculated Orientation: [ 84.  84. 175.]\n"
     ]
    },
    {
     "data": {
      "text/plain": [
       "array([ 83.99725707,  83.99909475, 174.99924205])"
      ]
     },
     "execution_count": 7,
     "metadata": {},
     "output_type": "execute_result"
    }
   ],
   "source": [
    "measures = np.column_stack((database.T_values[-1],\n",
    "                            database.azimuths[-1],\n",
    "                            np.full_like(database.azimuths[-1], 90)))\n",
    "\n",
    "estimate_1 = f.find_orientation(measurements=measures, params=(90, 50, 20), silent=False)\n",
    "estimate_1.x"
   ]
  },
  {
   "cell_type": "code",
   "execution_count": 8,
   "metadata": {},
   "outputs": [
    {
     "data": {
      "text/plain": [
       "0.003"
      ]
     },
     "execution_count": 8,
     "metadata": {},
     "output_type": "execute_result"
    }
   ],
   "source": [
    "f.calc_misorientation(database.euler[-1], estimate_1.x)"
   ]
  },
  {
   "cell_type": "markdown",
   "metadata": {},
   "source": [
    "## Estimate\n",
    "TODO: use a proper params in the target spectrum!"
   ]
  },
  {
   "cell_type": "code",
   "execution_count": 9,
   "metadata": {},
   "outputs": [],
   "source": [
    "# \n",
    "default_algorithm = np.empty(database.euler.shape[0])\n",
    "diffEvo_algorithm = np.empty(database.euler.shape[0])\n",
    "duaAnne_algorithm = np.empty(database.euler.shape[0])\n",
    "\n",
    "for index, orientation in enumerate(database.euler):\n",
    "    # print('Real:', np.around(orientation, 0))\n",
    "\n",
    "    measures = np.column_stack((database.T_values[index],\n",
    "                                database.azimuths[index],\n",
    "                                np.full_like(database.azimuths[index], 90)))\n",
    "\n",
    "    estimate_1 = f.find_orientation(measurements=measures, params=(90, 50, 20))\n",
    "    default_algorithm[index] = f.calc_disorientation(orientation, estimate_1.x)\n",
    "\n",
    "    estimate_2 = f.find_orientation_diffevol(measurements=measures, params=(90, 50, 20))\n",
    "    diffEvo_algorithm[index] = f.calc_disorientation(orientation, estimate_2.x)\n",
    "\n",
    "    estimate_3 = f.find_orientation_annealing(measurements=measures, params=(90, 50, 20))\n",
    "    duaAnne_algorithm[index] = f.calc_disorientation(orientation, estimate_3.x)\n"
   ]
  },
  {
   "cell_type": "markdown",
   "metadata": {},
   "source": [
    "> in my PC each loop (i.e. orientation) takes ~1.74 s so that n=4394 means ~127m 35.3s (2 h)"
   ]
  },
  {
   "cell_type": "code",
   "execution_count": 10,
   "metadata": {},
   "outputs": [
    {
     "data": {
      "text/plain": [
       "array([ 59.07386101,   0.17627769, 120.92643736])"
      ]
     },
     "execution_count": 10,
     "metadata": {},
     "output_type": "execute_result"
    }
   ],
   "source": [
    "measure = np.column_stack((database.T_values[0],\n",
    "                           database.azimuths[0],\n",
    "                           np.full_like(database.azimuths[0], 90)))\n",
    "\n",
    "estimate = f.find_orientation(measurements=measure, params=(90, 50, 20))\n",
    "estimate.x"
   ]
  },
  {
   "cell_type": "markdown",
   "metadata": {},
   "source": [
    "## Statistical assessment"
   ]
  },
  {
   "cell_type": "code",
   "execution_count": 11,
   "metadata": {},
   "outputs": [],
   "source": [
    "import matplotlib.pyplot as plt\n",
    "import seaborn as sns\n",
    "from scipy.stats import bayes_mvs\n",
    "import pandas as pd"
   ]
  },
  {
   "cell_type": "code",
   "execution_count": 12,
   "metadata": {},
   "outputs": [
    {
     "data": {
      "text/html": [
       "<div>\n",
       "<style scoped>\n",
       "    .dataframe tbody tr th:only-of-type {\n",
       "        vertical-align: middle;\n",
       "    }\n",
       "\n",
       "    .dataframe tbody tr th {\n",
       "        vertical-align: top;\n",
       "    }\n",
       "\n",
       "    .dataframe thead th {\n",
       "        text-align: right;\n",
       "    }\n",
       "</style>\n",
       "<table border=\"1\" class=\"dataframe\">\n",
       "  <thead>\n",
       "    <tr style=\"text-align: right;\">\n",
       "      <th></th>\n",
       "      <th>Euler1</th>\n",
       "      <th>Euler2</th>\n",
       "      <th>Euler3</th>\n",
       "      <th>default</th>\n",
       "      <th>diffEvol</th>\n",
       "      <th>Anne</th>\n",
       "    </tr>\n",
       "  </thead>\n",
       "  <tbody>\n",
       "    <tr>\n",
       "      <th>0</th>\n",
       "      <td>0</td>\n",
       "      <td>0</td>\n",
       "      <td>0</td>\n",
       "      <td>0.229</td>\n",
       "      <td>0.214</td>\n",
       "      <td>0.181</td>\n",
       "    </tr>\n",
       "    <tr>\n",
       "      <th>1</th>\n",
       "      <td>0</td>\n",
       "      <td>0</td>\n",
       "      <td>7</td>\n",
       "      <td>0.181</td>\n",
       "      <td>0.214</td>\n",
       "      <td>0.190</td>\n",
       "    </tr>\n",
       "    <tr>\n",
       "      <th>2</th>\n",
       "      <td>0</td>\n",
       "      <td>0</td>\n",
       "      <td>14</td>\n",
       "      <td>0.213</td>\n",
       "      <td>0.214</td>\n",
       "      <td>0.156</td>\n",
       "    </tr>\n",
       "    <tr>\n",
       "      <th>3</th>\n",
       "      <td>0</td>\n",
       "      <td>0</td>\n",
       "      <td>21</td>\n",
       "      <td>0.200</td>\n",
       "      <td>0.214</td>\n",
       "      <td>0.182</td>\n",
       "    </tr>\n",
       "    <tr>\n",
       "      <th>4</th>\n",
       "      <td>0</td>\n",
       "      <td>0</td>\n",
       "      <td>28</td>\n",
       "      <td>0.195</td>\n",
       "      <td>0.214</td>\n",
       "      <td>0.181</td>\n",
       "    </tr>\n",
       "    <tr>\n",
       "      <th>...</th>\n",
       "      <td>...</td>\n",
       "      <td>...</td>\n",
       "      <td>...</td>\n",
       "      <td>...</td>\n",
       "      <td>...</td>\n",
       "      <td>...</td>\n",
       "    </tr>\n",
       "    <tr>\n",
       "      <th>4389</th>\n",
       "      <td>84</td>\n",
       "      <td>84</td>\n",
       "      <td>147</td>\n",
       "      <td>0.004</td>\n",
       "      <td>0.003</td>\n",
       "      <td>0.004</td>\n",
       "    </tr>\n",
       "    <tr>\n",
       "      <th>4390</th>\n",
       "      <td>84</td>\n",
       "      <td>84</td>\n",
       "      <td>154</td>\n",
       "      <td>0.004</td>\n",
       "      <td>0.004</td>\n",
       "      <td>0.004</td>\n",
       "    </tr>\n",
       "    <tr>\n",
       "      <th>4391</th>\n",
       "      <td>84</td>\n",
       "      <td>84</td>\n",
       "      <td>161</td>\n",
       "      <td>0.004</td>\n",
       "      <td>0.003</td>\n",
       "      <td>0.003</td>\n",
       "    </tr>\n",
       "    <tr>\n",
       "      <th>4392</th>\n",
       "      <td>84</td>\n",
       "      <td>84</td>\n",
       "      <td>168</td>\n",
       "      <td>0.004</td>\n",
       "      <td>0.004</td>\n",
       "      <td>0.004</td>\n",
       "    </tr>\n",
       "    <tr>\n",
       "      <th>4393</th>\n",
       "      <td>84</td>\n",
       "      <td>84</td>\n",
       "      <td>175</td>\n",
       "      <td>0.003</td>\n",
       "      <td>0.003</td>\n",
       "      <td>0.003</td>\n",
       "    </tr>\n",
       "  </tbody>\n",
       "</table>\n",
       "<p>4394 rows × 6 columns</p>\n",
       "</div>"
      ],
      "text/plain": [
       "      Euler1  Euler2  Euler3  default  diffEvol   Anne\n",
       "0          0       0       0    0.229     0.214  0.181\n",
       "1          0       0       7    0.181     0.214  0.190\n",
       "2          0       0      14    0.213     0.214  0.156\n",
       "3          0       0      21    0.200     0.214  0.182\n",
       "4          0       0      28    0.195     0.214  0.181\n",
       "...      ...     ...     ...      ...       ...    ...\n",
       "4389      84      84     147    0.004     0.003  0.004\n",
       "4390      84      84     154    0.004     0.004  0.004\n",
       "4391      84      84     161    0.004     0.003  0.003\n",
       "4392      84      84     168    0.004     0.004  0.004\n",
       "4393      84      84     175    0.003     0.003  0.003\n",
       "\n",
       "[4394 rows x 6 columns]"
      ]
     },
     "execution_count": 12,
     "metadata": {},
     "output_type": "execute_result"
    }
   ],
   "source": [
    "dataset = pd.DataFrame(\n",
    "    {\n",
    "        \"Euler1\": database.euler[:, 0],\n",
    "        \"Euler2\": database.euler[:, 1],\n",
    "        \"Euler3\": database.euler[:, 2],\n",
    "        \"default\": default_algorithm,\n",
    "        \"diffEvol\": diffEvo_algorithm,\n",
    "        \"Anne\": duaAnne_algorithm,\n",
    "    }\n",
    ")\n",
    "\n",
    "dataset"
   ]
  },
  {
   "cell_type": "code",
   "execution_count": 13,
   "metadata": {},
   "outputs": [
    {
     "data": {
      "text/html": [
       "<div>\n",
       "<style scoped>\n",
       "    .dataframe tbody tr th:only-of-type {\n",
       "        vertical-align: middle;\n",
       "    }\n",
       "\n",
       "    .dataframe tbody tr th {\n",
       "        vertical-align: top;\n",
       "    }\n",
       "\n",
       "    .dataframe thead th {\n",
       "        text-align: right;\n",
       "    }\n",
       "</style>\n",
       "<table border=\"1\" class=\"dataframe\">\n",
       "  <thead>\n",
       "    <tr style=\"text-align: right;\">\n",
       "      <th></th>\n",
       "      <th>default</th>\n",
       "      <th>diffEvol</th>\n",
       "      <th>Anne</th>\n",
       "    </tr>\n",
       "  </thead>\n",
       "  <tbody>\n",
       "    <tr>\n",
       "      <th>count</th>\n",
       "      <td>4394.000000</td>\n",
       "      <td>4394.000000</td>\n",
       "      <td>4394.000000</td>\n",
       "    </tr>\n",
       "    <tr>\n",
       "      <th>mean</th>\n",
       "      <td>0.062884</td>\n",
       "      <td>0.090116</td>\n",
       "      <td>0.264548</td>\n",
       "    </tr>\n",
       "    <tr>\n",
       "      <th>std</th>\n",
       "      <td>0.376280</td>\n",
       "      <td>0.533343</td>\n",
       "      <td>1.263526</td>\n",
       "    </tr>\n",
       "    <tr>\n",
       "      <th>min</th>\n",
       "      <td>0.000000</td>\n",
       "      <td>0.000000</td>\n",
       "      <td>0.000000</td>\n",
       "    </tr>\n",
       "    <tr>\n",
       "      <th>25%</th>\n",
       "      <td>0.001000</td>\n",
       "      <td>0.001000</td>\n",
       "      <td>0.001000</td>\n",
       "    </tr>\n",
       "    <tr>\n",
       "      <th>50%</th>\n",
       "      <td>0.003000</td>\n",
       "      <td>0.003000</td>\n",
       "      <td>0.003000</td>\n",
       "    </tr>\n",
       "    <tr>\n",
       "      <th>75%</th>\n",
       "      <td>0.007000</td>\n",
       "      <td>0.007000</td>\n",
       "      <td>0.010000</td>\n",
       "    </tr>\n",
       "    <tr>\n",
       "      <th>max</th>\n",
       "      <td>14.177000</td>\n",
       "      <td>16.126000</td>\n",
       "      <td>20.194000</td>\n",
       "    </tr>\n",
       "  </tbody>\n",
       "</table>\n",
       "</div>"
      ],
      "text/plain": [
       "           default     diffEvol         Anne\n",
       "count  4394.000000  4394.000000  4394.000000\n",
       "mean      0.062884     0.090116     0.264548\n",
       "std       0.376280     0.533343     1.263526\n",
       "min       0.000000     0.000000     0.000000\n",
       "25%       0.001000     0.001000     0.001000\n",
       "50%       0.003000     0.003000     0.003000\n",
       "75%       0.007000     0.007000     0.010000\n",
       "max      14.177000    16.126000    20.194000"
      ]
     },
     "execution_count": 13,
     "metadata": {},
     "output_type": "execute_result"
    }
   ],
   "source": [
    "dataset[['default', 'diffEvol', 'Anne']].describe()"
   ]
  },
  {
   "cell_type": "code",
   "execution_count": 14,
   "metadata": {},
   "outputs": [],
   "source": [
    "mu_default, var_default, std_default = bayes_mvs(default_algorithm, alpha=0.95)\n",
    "mu_diffEvo, var_diffEvo, std_diffEvo = bayes_mvs(diffEvo_algorithm, alpha=0.95)\n",
    "mu_duaAnne, var_duaAnne, std_duaAnne = bayes_mvs(duaAnne_algorithm, alpha=0.95)"
   ]
  },
  {
   "cell_type": "code",
   "execution_count": 15,
   "metadata": {},
   "outputs": [
    {
     "name": "stdout",
     "output_type": "stream",
     "text": [
      "EVALUATION OF ALGORITHMS USING DISORIENTATION IN DEGREES\n",
      "\n",
      "Default algorithm (multiple guesses)\n",
      "Mean: 0.063; min, max: 0.052, 0.074\n",
      "SD: 0.376; min, max: 0.368, 0.384\n",
      "\n",
      "Differential evolution algorithm\n",
      "Mean: 0.090; mi, nmax: 0.074, 0.106\n",
      "SD: 0.533; min, max: 0.522, 0.544\n",
      "\n",
      "Dual annealing algorithm\n",
      "Mean: 0.265; min, max: 0.227, 0.302\n",
      "SD: 1.263; min, max: 1.237, 1.290\n"
     ]
    }
   ],
   "source": [
    "print('EVALUATION OF ALGORITHMS USING DISORIENTATION IN DEGREES')\n",
    "print()\n",
    "print('Default algorithm (multiple guesses - 20)')\n",
    "print(f'Mean: {mu_default[0]:.3f}; min, max: {mu_default[1][0]:.3f}, {mu_default[1][1]:.3f}')\n",
    "print(f'SD: {std_default[0]:.3f}; min, max: {std_default[1][0]:.3f}, {std_default[1][1]:.3f}')\n",
    "print('')\n",
    "print('Differential evolution algorithm')\n",
    "print(f'Mean: {mu_diffEvo[0]:.3f}; mi, max: {mu_diffEvo[1][0]:.3f}, {mu_diffEvo[1][1]:.3f}')\n",
    "print(f'SD: {std_diffEvo[0]:.3f}; min, max: {std_diffEvo[1][0]:.3f}, {std_diffEvo[1][1]:.3f}')\n",
    "print('')\n",
    "print('Dual annealing algorithm')\n",
    "print(f'Mean: {mu_duaAnne[0]:.3f}; min, max: {mu_duaAnne[1][0]:.3f}, {mu_duaAnne[1][1]:.3f}')\n",
    "print(f'SD: {std_duaAnne[0]:.3f}; min, max: {std_duaAnne[1][0]:.3f}, {std_duaAnne[1][1]:.3f}')\n"
   ]
  },
  {
   "cell_type": "code",
   "execution_count": 16,
   "metadata": {},
   "outputs": [
    {
     "data": {
      "text/html": [
       "<div>\n",
       "<style scoped>\n",
       "    .dataframe tbody tr th:only-of-type {\n",
       "        vertical-align: middle;\n",
       "    }\n",
       "\n",
       "    .dataframe tbody tr th {\n",
       "        vertical-align: top;\n",
       "    }\n",
       "\n",
       "    .dataframe thead th {\n",
       "        text-align: right;\n",
       "    }\n",
       "</style>\n",
       "<table border=\"1\" class=\"dataframe\">\n",
       "  <thead>\n",
       "    <tr style=\"text-align: right;\">\n",
       "      <th></th>\n",
       "      <th>algorithm</th>\n",
       "      <th>disorientation</th>\n",
       "    </tr>\n",
       "  </thead>\n",
       "  <tbody>\n",
       "    <tr>\n",
       "      <th>0</th>\n",
       "      <td>default</td>\n",
       "      <td>0.229</td>\n",
       "    </tr>\n",
       "    <tr>\n",
       "      <th>1</th>\n",
       "      <td>default</td>\n",
       "      <td>0.181</td>\n",
       "    </tr>\n",
       "    <tr>\n",
       "      <th>2</th>\n",
       "      <td>default</td>\n",
       "      <td>0.213</td>\n",
       "    </tr>\n",
       "    <tr>\n",
       "      <th>3</th>\n",
       "      <td>default</td>\n",
       "      <td>0.200</td>\n",
       "    </tr>\n",
       "    <tr>\n",
       "      <th>4</th>\n",
       "      <td>default</td>\n",
       "      <td>0.195</td>\n",
       "    </tr>\n",
       "    <tr>\n",
       "      <th>...</th>\n",
       "      <td>...</td>\n",
       "      <td>...</td>\n",
       "    </tr>\n",
       "    <tr>\n",
       "      <th>13177</th>\n",
       "      <td>Anne</td>\n",
       "      <td>0.004</td>\n",
       "    </tr>\n",
       "    <tr>\n",
       "      <th>13178</th>\n",
       "      <td>Anne</td>\n",
       "      <td>0.004</td>\n",
       "    </tr>\n",
       "    <tr>\n",
       "      <th>13179</th>\n",
       "      <td>Anne</td>\n",
       "      <td>0.003</td>\n",
       "    </tr>\n",
       "    <tr>\n",
       "      <th>13180</th>\n",
       "      <td>Anne</td>\n",
       "      <td>0.004</td>\n",
       "    </tr>\n",
       "    <tr>\n",
       "      <th>13181</th>\n",
       "      <td>Anne</td>\n",
       "      <td>0.003</td>\n",
       "    </tr>\n",
       "  </tbody>\n",
       "</table>\n",
       "<p>13182 rows × 2 columns</p>\n",
       "</div>"
      ],
      "text/plain": [
       "      algorithm  disorientation\n",
       "0       default           0.229\n",
       "1       default           0.181\n",
       "2       default           0.213\n",
       "3       default           0.200\n",
       "4       default           0.195\n",
       "...         ...             ...\n",
       "13177      Anne           0.004\n",
       "13178      Anne           0.004\n",
       "13179      Anne           0.003\n",
       "13180      Anne           0.004\n",
       "13181      Anne           0.003\n",
       "\n",
       "[13182 rows x 2 columns]"
      ]
     },
     "execution_count": 16,
     "metadata": {},
     "output_type": "execute_result"
    }
   ],
   "source": [
    "comparative = dataset[['default', 'diffEvol', 'Anne']].melt(var_name='algorithm', value_name='disorientation')\n",
    "comparative"
   ]
  },
  {
   "cell_type": "code",
   "execution_count": 17,
   "metadata": {},
   "outputs": [
    {
     "data": {
      "image/png": "[encoded data removed]",
      "text/plain": [
       "<Figure size 900x500 with 1 Axes>"
      ]
     },
     "metadata": {},
     "output_type": "display_data"
    }
   ],
   "source": [
    "fig, ax = plt.subplots(figsize=(9,5))\n",
    "\n",
    "# Plot the violin\n",
    "ax = sns.violinplot(y='disorientation', \n",
    "                    x='algorithm', \n",
    "                    data=comparative,\n",
    "                    scale='count',\n",
    "                    inner=None\n",
    "              )"
   ]
  },
  {
   "cell_type": "code",
   "execution_count": null,
   "metadata": {},
   "outputs": [],
   "source": [
    "dataset.to_csv('Assesment_step7_905020.csv', index=False)"
   ]
  },
  {
   "cell_type": "code",
   "execution_count": 18,
   "metadata": {},
   "outputs": [
    {
     "name": "stderr",
     "output_type": "stream",
     "text": [
      "C:\\Users\\Marco\\AppData\\Local\\Temp\\ipykernel_9924\\2161106973.py:15: FutureWarning: Passing `palette` without assigning `hue` is deprecated.\n",
      "  ax = sns.swarmplot(y='disorientation',\n",
      "c:\\Users\\Marco\\miniconda3\\envs\\stats\\Lib\\site-packages\\seaborn\\_oldcore.py:1119: FutureWarning: use_inf_as_na option is deprecated and will be removed in a future version. Convert inf values to NaN before operating instead.\n",
      "  with pd.option_context('mode.use_inf_as_na', True):\n",
      "c:\\Users\\Marco\\miniconda3\\envs\\stats\\Lib\\site-packages\\seaborn\\_oldcore.py:1119: FutureWarning: use_inf_as_na option is deprecated and will be removed in a future version. Convert inf values to NaN before operating instead.\n",
      "  with pd.option_context('mode.use_inf_as_na', True):\n",
      "c:\\Users\\Marco\\miniconda3\\envs\\stats\\Lib\\site-packages\\seaborn\\_oldcore.py:1075: FutureWarning: When grouping with a length-1 list-like, you will need to pass a length-1 tuple to get_group in a future version of pandas. Pass `(name,)` instead of `name` to silence this warning.\n",
      "  data_subset = grouped_data.get_group(pd_key)\n",
      "c:\\Users\\Marco\\miniconda3\\envs\\stats\\Lib\\site-packages\\seaborn\\categorical.py:3544: UserWarning: 97.1% of the points cannot be placed; you may want to decrease the size of the markers or use stripplot.\n",
      "  warnings.warn(msg, UserWarning)\n",
      "c:\\Users\\Marco\\miniconda3\\envs\\stats\\Lib\\site-packages\\seaborn\\categorical.py:3544: UserWarning: 96.3% of the points cannot be placed; you may want to decrease the size of the markers or use stripplot.\n",
      "  warnings.warn(msg, UserWarning)\n",
      "c:\\Users\\Marco\\miniconda3\\envs\\stats\\Lib\\site-packages\\seaborn\\categorical.py:3544: UserWarning: 92.3% of the points cannot be placed; you may want to decrease the size of the markers or use stripplot.\n",
      "  warnings.warn(msg, UserWarning)\n",
      "c:\\Users\\Marco\\miniconda3\\envs\\stats\\Lib\\site-packages\\seaborn\\categorical.py:3544: UserWarning: 83.7% of the points cannot be placed; you may want to decrease the size of the markers or use stripplot.\n",
      "  warnings.warn(msg, UserWarning)\n",
      "c:\\Users\\Marco\\miniconda3\\envs\\stats\\Lib\\site-packages\\seaborn\\categorical.py:3544: UserWarning: 87.4% of the points cannot be placed; you may want to decrease the size of the markers or use stripplot.\n",
      "  warnings.warn(msg, UserWarning)\n",
      "c:\\Users\\Marco\\miniconda3\\envs\\stats\\Lib\\site-packages\\seaborn\\categorical.py:3544: UserWarning: 79.0% of the points cannot be placed; you may want to decrease the size of the markers or use stripplot.\n",
      "  warnings.warn(msg, UserWarning)\n"
     ]
    },
    {
     "ename": "",
     "evalue": "",
     "output_type": "error",
     "traceback": [
      "\u001b[1;31mThe Kernel crashed while executing code in the current cell or a previous cell. \n",
      "\u001b[1;31mPlease review the code in the cell(s) to identify a possible cause of the failure. \n",
      "\u001b[1;31mClick <a href='https://aka.ms/vscodeJupyterKernelCrash'>here</a> for more info. \n",
      "\u001b[1;31mView Jupyter <a href='command:jupyter.viewOutput'>log</a> for further details."
     ]
    }
   ],
   "source": [
    "# # Light colors for the dots\n",
    "# swarmplot_palette = {'default':'#8f96bf', 'diffEvol':'#ebb0e5', 'Anne':'#9feed3'}\n",
    "\n",
    "# fig, ax = plt.subplots(figsize=(9,5))\n",
    "\n",
    "# Plot the violin\n",
    "# ax = sns.violinplot(y='disorientation', \n",
    "#                     x='algorithm', \n",
    "#                     data=comparative,\n",
    "#                     scale='count',\n",
    "#                     inner=None\n",
    "#               )\n",
    "\n",
    "# # Plot the swarmplot on top \n",
    "# ax = sns.swarmplot(y='disorientation',\n",
    "#                    x='algorithm',\n",
    "#                    data=comparative, \n",
    "#                    color=\"white\", \n",
    "#                    edgecolor=\"gray\",\n",
    "#                    s=3.5, # Circle size\n",
    "#                    palette=swarmplot_palette\n",
    "#              )\n",
    "# ax.set_ylim(top=0.5, bottom=-0.1)\n",
    "# ax.grid(axis='y')"
   ]
  }
 ],
 "metadata": {
  "kernelspec": {
   "display_name": "main",
   "language": "python",
   "name": "python3"
  },
  "language_info": {
   "codemirror_mode": {
    "name": "ipython",
    "version": 3
   },
   "file_extension": ".py",
   "mimetype": "text/x-python",
   "name": "python",
   "nbconvert_exporter": "python",
   "pygments_lexer": "ipython3",
   "version": "3.11.5"
  }
 },
 "nbformat": 4,
 "nbformat_minor": 2
}
