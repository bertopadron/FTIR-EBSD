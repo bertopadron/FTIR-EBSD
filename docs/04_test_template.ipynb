{
 "cells": [
  {
   "cell_type": "code",
   "execution_count": 1,
   "metadata": {},
   "outputs": [
    {
     "name": "stdout",
     "output_type": "stream",
     "text": [
      "module FTIR v.2024.3.19 imported\n"
     ]
    }
   ],
   "source": [
    "# required Python imports\n",
    "import pandas as pd\n",
    "import numpy as np\n",
    "from types import SimpleNamespace\n",
    "\n",
    "import ftir_funct as f\n",
    "np.set_printoptions(suppress=True)"
   ]
  },
  {
   "cell_type": "markdown",
   "metadata": {},
   "source": [
    "## Generate database"
   ]
  },
  {
   "cell_type": "code",
   "execution_count": 2,
   "metadata": {},
   "outputs": [
    {
     "data": {
      "text/plain": [
       "array([[  0,   0,   0],\n",
       "       [  0,   0,   7],\n",
       "       [  0,   0,  14],\n",
       "       ...,\n",
       "       [ 84,  84, 161],\n",
       "       [ 84,  84, 168],\n",
       "       [ 84,  84, 175]])"
      ]
     },
     "execution_count": 2,
     "metadata": {},
     "output_type": "execute_result"
    }
   ],
   "source": [
    "f.explore_Euler_space(step=7, lower_bounds=(0, 0, 0), upper_bounds=(89, 89, 179))"
   ]
  },
  {
   "cell_type": "code",
   "execution_count": 3,
   "metadata": {},
   "outputs": [
    {
     "data": {
      "text/plain": [
       "(4394, 3)"
      ]
     },
     "execution_count": 3,
     "metadata": {},
     "output_type": "execute_result"
    }
   ],
   "source": [
    "# generate Euler angles each 7 degrees and store in the database\n",
    "database = SimpleNamespace(euler=f.explore_Euler_space(step=7, lower_bounds=(0, 0, 0), upper_bounds=(89, 89, 179)))\n",
    "database.euler.shape"
   ]
  },
  {
   "cell_type": "code",
   "execution_count": 4,
   "metadata": {},
   "outputs": [],
   "source": [
    "# Generate a mesh of values defining the reference transmissión envelope\n",
    "polar, azimuths = f.regular_S2_grid(n_squared=500)\n",
    "T = f.Tvalues(trans=(90, 50, 20), azimuth=azimuths, polar=polar)\n",
    "x, y, z = f.sph2cart(T, azimuths, polar)\n",
    "\n",
    "# Generate 16 measures at different azimuth angles\n",
    "angles = np.arange(0, 360, 45/2)\n",
    "\n",
    "# initialize variables\n",
    "T_vals = []\n",
    "azi_vals = []\n",
    "\n",
    "for euler in database.euler:\n",
    "    # rotate\n",
    "    x2, y2, z2 = f.rotate(coordinates=(x, y, z), euler_ang=euler)\n",
    "\n",
    "    # extract XY intersection\n",
    "    xy_vectors = f.extract_XY_section_fast2(x2, y2, z2)\n",
    "\n",
    "    # get the indexes of specific angles\n",
    "    indexes = f.find_nearest(xy_vectors['angles'], angles)\n",
    "\n",
    "    # append values\n",
    "    T_vals.append(xy_vectors.loc[indexes, ['T']].T.values.tolist()[0])\n",
    "    azi_vals.append(xy_vectors.loc[indexes, ['angles']].T.values.tolist()[0])\n",
    "\n",
    "# store values in database\n",
    "database.T_values = np.array(T_vals)\n",
    "database.azimuths = np.array(azi_vals)"
   ]
  },
  {
   "cell_type": "code",
   "execution_count": 5,
   "metadata": {},
   "outputs": [
    {
     "name": "stdout",
     "output_type": "stream",
     "text": [
      "(4394, 3)\n",
      "(4394, 16)\n",
      "(4394, 16)\n"
     ]
    }
   ],
   "source": [
    "print(database.euler.shape)\n",
    "print(database.T_values.shape)\n",
    "print(database.azimuths.shape)"
   ]
  },
  {
   "cell_type": "code",
   "execution_count": 6,
   "metadata": {},
   "outputs": [
    {
     "name": "stdout",
     "output_type": "stream",
     "text": [
      "Euler angles:  [ 84  84 175]\n",
      "T values:  [50.3 44.5 33.4 23.7 20.9 26.6 37.7 47.5 50.3 44.5 33.4 23.7 20.9 26.6\n",
      " 37.7 47.5]\n",
      "Azimuths:  [  0.2  22.5  45.2  67.4  90.  112.3 135.  157.5 180.  202.5 225.2 247.5\n",
      " 270.  292.3 315.  337.5]\n"
     ]
    }
   ],
   "source": [
    "print('Euler angles: ', database.euler[-1])\n",
    "print('T values: ', np.around(database.T_values[-1], 1))\n",
    "print('Azimuths: ', np.around(database.azimuths[-1], 1))"
   ]
  },
  {
   "cell_type": "code",
   "execution_count": 7,
   "metadata": {},
   "outputs": [
    {
     "name": "stdout",
     "output_type": "stream",
     "text": [
      "Calculated Orientation: [ 84.  84. 175.]\n"
     ]
    },
    {
     "data": {
      "text/plain": [
       "array([ 83.99725723,  83.99909482, 174.99924213])"
      ]
     },
     "execution_count": 7,
     "metadata": {},
     "output_type": "execute_result"
    }
   ],
   "source": [
    "measures = np.column_stack((database.T_values[-1],\n",
    "                            database.azimuths[-1],\n",
    "                            np.full_like(database.azimuths[-1], 90)))\n",
    "\n",
    "estimate_1 = f.find_orientation(measurements=measures, params=(90, 50, 20), silent=False)\n",
    "estimate_1.x"
   ]
  },
  {
   "cell_type": "code",
   "execution_count": 8,
   "metadata": {},
   "outputs": [
    {
     "data": {
      "text/plain": [
       "0.003"
      ]
     },
     "execution_count": 8,
     "metadata": {},
     "output_type": "execute_result"
    }
   ],
   "source": [
    "f.calc_misorientation(database.euler[-1], estimate_1.x)"
   ]
  },
  {
   "cell_type": "markdown",
   "metadata": {},
   "source": [
    "## Estimate\n",
    "TODO: use a proper params in the target spectrum!"
   ]
  },
  {
   "cell_type": "code",
   "execution_count": 9,
   "metadata": {},
   "outputs": [],
   "source": [
    "# \n",
    "default_algorithm = np.empty(database.euler.shape[0])\n",
    "diffEvo_algorithm = np.empty(database.euler.shape[0])\n",
    "duaAnne_algorithm = np.empty(database.euler.shape[0])\n",
    "\n",
    "for index, orientation in enumerate(database.euler):\n",
    "    # print('Real:', np.around(orientation, 0))\n",
    "\n",
    "    measures = np.column_stack((database.T_values[index],\n",
    "                                database.azimuths[index],\n",
    "                                np.full_like(database.azimuths[index], 90)))\n",
    "\n",
    "    estimate_1 = f.find_orientation(measurements=measures, params=(90, 50, 20))\n",
    "    default_algorithm[index] = f.calc_disorientation(orientation, estimate_1.x)\n",
    "\n",
    "    estimate_2 = f.find_orientation_diffevol(measurements=measures, params=(90, 50, 20))\n",
    "    diffEvo_algorithm[index] = f.calc_disorientation(orientation, estimate_2.x)\n",
    "\n",
    "    estimate_3 = f.find_orientation_annealing(measurements=measures, params=(90, 50, 20))\n",
    "    duaAnne_algorithm[index] = f.calc_disorientation(orientation, estimate_3.x)\n"
   ]
  },
  {
   "cell_type": "markdown",
   "metadata": {},
   "source": [
    "> in my PC each loop (i.e. orientation) takes ~1.7 s so that n=4394 means ~124m (2 h)"
   ]
  },
  {
   "cell_type": "code",
   "execution_count": 10,
   "metadata": {},
   "outputs": [
    {
     "data": {
      "text/plain": [
       "array([ 39.00418184,   0.22843141, 140.99638201])"
      ]
     },
     "execution_count": 10,
     "metadata": {},
     "output_type": "execute_result"
    }
   ],
   "source": [
    "measure = np.column_stack((database.T_values[0],\n",
    "                           database.azimuths[0],\n",
    "                           np.full_like(database.azimuths[0], 90)))\n",
    "\n",
    "estimate = f.find_orientation(measurements=measure, params=(90, 50, 20))\n",
    "estimate.x"
   ]
  },
  {
   "cell_type": "markdown",
   "metadata": {},
   "source": [
    "## Statistical assessment"
   ]
  },
  {
   "cell_type": "code",
   "execution_count": 11,
   "metadata": {},
   "outputs": [
    {
     "data": {
      "text/html": [
       "<div>\n",
       "<style scoped>\n",
       "    .dataframe tbody tr th:only-of-type {\n",
       "        vertical-align: middle;\n",
       "    }\n",
       "\n",
       "    .dataframe tbody tr th {\n",
       "        vertical-align: top;\n",
       "    }\n",
       "\n",
       "    .dataframe thead th {\n",
       "        text-align: right;\n",
       "    }\n",
       "</style>\n",
       "<table border=\"1\" class=\"dataframe\">\n",
       "  <thead>\n",
       "    <tr style=\"text-align: right;\">\n",
       "      <th></th>\n",
       "      <th>Euler1</th>\n",
       "      <th>Euler2</th>\n",
       "      <th>Euler3</th>\n",
       "      <th>default</th>\n",
       "      <th>diffEvol</th>\n",
       "      <th>Anne</th>\n",
       "    </tr>\n",
       "  </thead>\n",
       "  <tbody>\n",
       "    <tr>\n",
       "      <th>0</th>\n",
       "      <td>0</td>\n",
       "      <td>0</td>\n",
       "      <td>0</td>\n",
       "      <td>0.195</td>\n",
       "      <td>0.214</td>\n",
       "      <td>0.235</td>\n",
       "    </tr>\n",
       "    <tr>\n",
       "      <th>1</th>\n",
       "      <td>0</td>\n",
       "      <td>0</td>\n",
       "      <td>7</td>\n",
       "      <td>0.229</td>\n",
       "      <td>0.214</td>\n",
       "      <td>0.230</td>\n",
       "    </tr>\n",
       "    <tr>\n",
       "      <th>2</th>\n",
       "      <td>0</td>\n",
       "      <td>0</td>\n",
       "      <td>14</td>\n",
       "      <td>0.200</td>\n",
       "      <td>0.214</td>\n",
       "      <td>0.159</td>\n",
       "    </tr>\n",
       "    <tr>\n",
       "      <th>3</th>\n",
       "      <td>0</td>\n",
       "      <td>0</td>\n",
       "      <td>21</td>\n",
       "      <td>0.213</td>\n",
       "      <td>0.214</td>\n",
       "      <td>0.181</td>\n",
       "    </tr>\n",
       "    <tr>\n",
       "      <th>4</th>\n",
       "      <td>0</td>\n",
       "      <td>0</td>\n",
       "      <td>28</td>\n",
       "      <td>0.213</td>\n",
       "      <td>0.214</td>\n",
       "      <td>0.241</td>\n",
       "    </tr>\n",
       "    <tr>\n",
       "      <th>...</th>\n",
       "      <td>...</td>\n",
       "      <td>...</td>\n",
       "      <td>...</td>\n",
       "      <td>...</td>\n",
       "      <td>...</td>\n",
       "      <td>...</td>\n",
       "    </tr>\n",
       "    <tr>\n",
       "      <th>4389</th>\n",
       "      <td>84</td>\n",
       "      <td>84</td>\n",
       "      <td>147</td>\n",
       "      <td>0.004</td>\n",
       "      <td>0.004</td>\n",
       "      <td>0.004</td>\n",
       "    </tr>\n",
       "    <tr>\n",
       "      <th>4390</th>\n",
       "      <td>84</td>\n",
       "      <td>84</td>\n",
       "      <td>154</td>\n",
       "      <td>0.004</td>\n",
       "      <td>0.004</td>\n",
       "      <td>0.004</td>\n",
       "    </tr>\n",
       "    <tr>\n",
       "      <th>4391</th>\n",
       "      <td>84</td>\n",
       "      <td>84</td>\n",
       "      <td>161</td>\n",
       "      <td>0.004</td>\n",
       "      <td>0.004</td>\n",
       "      <td>0.004</td>\n",
       "    </tr>\n",
       "    <tr>\n",
       "      <th>4392</th>\n",
       "      <td>84</td>\n",
       "      <td>84</td>\n",
       "      <td>168</td>\n",
       "      <td>0.004</td>\n",
       "      <td>0.004</td>\n",
       "      <td>0.004</td>\n",
       "    </tr>\n",
       "    <tr>\n",
       "      <th>4393</th>\n",
       "      <td>84</td>\n",
       "      <td>84</td>\n",
       "      <td>175</td>\n",
       "      <td>0.003</td>\n",
       "      <td>0.003</td>\n",
       "      <td>0.003</td>\n",
       "    </tr>\n",
       "  </tbody>\n",
       "</table>\n",
       "<p>4394 rows × 6 columns</p>\n",
       "</div>"
      ],
      "text/plain": [
       "      Euler1  Euler2  Euler3  default  diffEvol   Anne\n",
       "0          0       0       0    0.195     0.214  0.235\n",
       "1          0       0       7    0.229     0.214  0.230\n",
       "2          0       0      14    0.200     0.214  0.159\n",
       "3          0       0      21    0.213     0.214  0.181\n",
       "4          0       0      28    0.213     0.214  0.241\n",
       "...      ...     ...     ...      ...       ...    ...\n",
       "4389      84      84     147    0.004     0.004  0.004\n",
       "4390      84      84     154    0.004     0.004  0.004\n",
       "4391      84      84     161    0.004     0.004  0.004\n",
       "4392      84      84     168    0.004     0.004  0.004\n",
       "4393      84      84     175    0.003     0.003  0.003\n",
       "\n",
       "[4394 rows x 6 columns]"
      ]
     },
     "execution_count": 11,
     "metadata": {},
     "output_type": "execute_result"
    }
   ],
   "source": [
    "dataset = pd.DataFrame(\n",
    "    {\n",
    "        \"Euler1\": database.euler[:, 0],\n",
    "        \"Euler2\": database.euler[:, 1],\n",
    "        \"Euler3\": database.euler[:, 2],\n",
    "        \"default\": default_algorithm,\n",
    "        \"diffEvol\": diffEvo_algorithm,\n",
    "        \"Anne\": duaAnne_algorithm,\n",
    "    }\n",
    ")\n",
    "\n",
    "dataset"
   ]
  },
  {
   "cell_type": "code",
   "execution_count": 12,
   "metadata": {},
   "outputs": [
    {
     "data": {
      "text/html": [
       "<div>\n",
       "<style scoped>\n",
       "    .dataframe tbody tr th:only-of-type {\n",
       "        vertical-align: middle;\n",
       "    }\n",
       "\n",
       "    .dataframe tbody tr th {\n",
       "        vertical-align: top;\n",
       "    }\n",
       "\n",
       "    .dataframe thead th {\n",
       "        text-align: right;\n",
       "    }\n",
       "</style>\n",
       "<table border=\"1\" class=\"dataframe\">\n",
       "  <thead>\n",
       "    <tr style=\"text-align: right;\">\n",
       "      <th></th>\n",
       "      <th>default</th>\n",
       "      <th>diffEvol</th>\n",
       "      <th>Anne</th>\n",
       "    </tr>\n",
       "  </thead>\n",
       "  <tbody>\n",
       "    <tr>\n",
       "      <th>count</th>\n",
       "      <td>4394.000000</td>\n",
       "      <td>4394.00000</td>\n",
       "      <td>4394.000000</td>\n",
       "    </tr>\n",
       "    <tr>\n",
       "      <th>mean</th>\n",
       "      <td>0.050463</td>\n",
       "      <td>0.10729</td>\n",
       "      <td>0.292024</td>\n",
       "    </tr>\n",
       "    <tr>\n",
       "      <th>std</th>\n",
       "      <td>0.208831</td>\n",
       "      <td>0.67103</td>\n",
       "      <td>1.325632</td>\n",
       "    </tr>\n",
       "    <tr>\n",
       "      <th>min</th>\n",
       "      <td>0.000000</td>\n",
       "      <td>0.00000</td>\n",
       "      <td>0.000000</td>\n",
       "    </tr>\n",
       "    <tr>\n",
       "      <th>25%</th>\n",
       "      <td>0.001000</td>\n",
       "      <td>0.00100</td>\n",
       "      <td>0.001000</td>\n",
       "    </tr>\n",
       "    <tr>\n",
       "      <th>50%</th>\n",
       "      <td>0.003000</td>\n",
       "      <td>0.00300</td>\n",
       "      <td>0.003000</td>\n",
       "    </tr>\n",
       "    <tr>\n",
       "      <th>75%</th>\n",
       "      <td>0.007000</td>\n",
       "      <td>0.00700</td>\n",
       "      <td>0.010000</td>\n",
       "    </tr>\n",
       "    <tr>\n",
       "      <th>max</th>\n",
       "      <td>7.221000</td>\n",
       "      <td>17.80200</td>\n",
       "      <td>21.053000</td>\n",
       "    </tr>\n",
       "  </tbody>\n",
       "</table>\n",
       "</div>"
      ],
      "text/plain": [
       "           default    diffEvol         Anne\n",
       "count  4394.000000  4394.00000  4394.000000\n",
       "mean      0.050463     0.10729     0.292024\n",
       "std       0.208831     0.67103     1.325632\n",
       "min       0.000000     0.00000     0.000000\n",
       "25%       0.001000     0.00100     0.001000\n",
       "50%       0.003000     0.00300     0.003000\n",
       "75%       0.007000     0.00700     0.010000\n",
       "max       7.221000    17.80200    21.053000"
      ]
     },
     "execution_count": 12,
     "metadata": {},
     "output_type": "execute_result"
    }
   ],
   "source": [
    "dataset[['default', 'diffEvol', 'Anne']].describe()"
   ]
  },
  {
   "cell_type": "code",
   "execution_count": 13,
   "metadata": {},
   "outputs": [],
   "source": [
    "dataset.to_csv('test2_step7_env905020.csv', index=False)"
   ]
  }
 ],
 "metadata": {
  "kernelspec": {
   "display_name": "Python 3 (ipykernel)",
   "language": "python",
   "name": "python3"
  },
  "language_info": {
   "codemirror_mode": {
    "name": "ipython",
    "version": 3
   },
   "file_extension": ".py",
   "mimetype": "text/x-python",
   "name": "python",
   "nbconvert_exporter": "python",
   "pygments_lexer": "ipython3",
   "version": "3.11.8"
  }
 },
 "nbformat": 4,
 "nbformat_minor": 4
}
