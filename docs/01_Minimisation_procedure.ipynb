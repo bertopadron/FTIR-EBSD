{
 "cells": [
  {
   "cell_type": "markdown",
   "metadata": {},
   "source": [
    "# The minimisation procedure to estimate crystal orientations\n",
    "\n",
    "> **Goal**: Explain the procedure to estimate crystal orientations using FTIR data. For questions on the reference system refer to notebook 00: The reference system. \n",
    "\n",
    "\n",
    "## 1. The pseudocode\n",
    "\n",
    "### Step 1. Make measurements\n",
    "\n",
    "We assume that the user will measure transmittance values on the microscope at different angles respect to the direction of polarisation. If the polariser is aligned with the x-axis (N-S, see the notebook 00) and measurements are taken in the xy-plane, the coordinates in the different reference frames would be\n",
    "\n",
    "$$\n",
    "(T, \\varphi, \\theta) == (transmittance, azimuth, polar)\n",
    "$$\n",
    "\n",
    "where the _azimuth_ ($\\varphi$) is the angle in degrees between the polariser (E-vector) and a reference within the specimen (e.g. the long side of the specimen, or whatever suits you), and _polar_ ($\\theta$) is angle with respect to the normal of the measuring surface, which here is a constant equal to 90 degrees ($\\pi/2$ in radians).\n",
    "\n",
    "In practice, our dataset will look something like this\n",
    "\n",
    "$$\n",
    "(T_1, 0), (T_2, 20), (T_3, 30), ... , (T_n, 0≥angle<180)\n",
    "$$\n",
    "\n",
    "The first step is to convert these values in spherical coordinates into Cartesian coordinates. For this, we will use the function ``sph2cart()``.\n",
    "\n",
    "### Step 2. Check if measurements lie on the surface of the reference transmittance envelope.\n",
    "\n",
    "According to Asimov et al. (2006), we can estimate the transmittance $T$ for any direction using the following equation as a function of $\\theta$, $\\varphi$:\n",
    "\n",
    "$$\n",
    "T = T_a \\cdot cos^2\\varphi sin^2\\theta + T_b \\cdot sin^2\\varphi sin^2\\theta + T_c \\cdot cos^2\\theta\n",
    "$$\n",
    "\n",
    "this is the ``Tvalues()`` function in our code.\n",
    "\n",
    "> ⚠️ **Warning:**\n",
    "> Remember that in our reference system $\\theta$ is the **polar angle** and $\\varphi$ the **azimuth angle**\n",
    "\n",
    "since we have transmittance values $(T_a, T_b, T_c)$ as a function of the angles $\\theta$, and $\\varphi$, we can check whether or not the measured values lie on the surface of the reference transmittance envelope in Cartesian space using the following expression:\n",
    "\n",
    "$$\n",
    "(|T_{measured} - T_{theoretical}|)^2 = 0\n",
    "$$\n",
    "\n",
    "### Step 3. Inverse calculation\n",
    "\n",
    "If the above equality is not satisfied within a reasonable tolerance, we need to rotate our mesures in the Cartesian space until the solution converges. For this, we need to (3.1) convert the $(T, \\varphi, \\theta)$ triplets into Cartesian coordinates, (3.2) apply a rotation (e.g. using Euler angles), (3.3)  convert back to spherical coordinates, and check again. This process should be repeated until the solution converges. The rotation required to satisfy this conditionis the inverse orientation of the olivine crystal with respect to the established reference system.\n",
    "\n",
    "> **Pseudocode:**\n",
    "> - Apply step 2, which involves comparing the measured and theoretical transmittance values for especific directions using the ``Tvalues()`` function\n",
    "> - If the solution converges: the olivine crystal is aligned with the reference frame, meaning that Euler angle=(0,0,0)  \n",
    "> - Else, apply step 3:  \n",
    ">    - convert measures from spherical to cartesian coordinates using the `sph2cart()`` function\n",
    ">    - apply rotation using Eules angles (Bunge convention) using the ``rotate()`` function\n",
    ">    - convert back to spherical coordinates using the ```cart2sph()``\n",
    ">    - check (i.e., step 2) and continue until solution converges\n",
    ">    - return the Euler angles that orientate the olivine crystal\n",
    "\n",
    "The minimisation procedure will repeat this operation until the solution converges. There are different types of minimisation algorithms depending on the type of problem we are facing. We will see this in detail in this notebook."
   ]
  },
  {
   "cell_type": "markdown",
   "metadata": {},
   "source": [
    "## 2. The test dataset\n",
    "\n",
    "TODO"
   ]
  },
  {
   "cell_type": "code",
   "execution_count": 1,
   "metadata": {},
   "outputs": [
    {
     "name": "stdout",
     "output_type": "stream",
     "text": [
      "module FTIR v.2024.1.18 imported\n"
     ]
    }
   ],
   "source": [
    "# import modules\n",
    "import numpy as np\n",
    "import matplotlib.pyplot as plt\n",
    "from matplotlib import cm\n",
    "import ftir_funct as f"
   ]
  },
  {
   "cell_type": "code",
   "execution_count": 2,
   "metadata": {},
   "outputs": [
    {
     "name": "stdout",
     "output_type": "stream",
     "text": [
      "Notebook tested in 2024-01-23 using:\n",
      "Python 3.10.13 | packaged by Anaconda, Inc. | (main, Sep 11 2023, 13:15:57) [MSC v.1916 64 bit (AMD64)]\n",
      "Matplotlib 3.8.0\n"
     ]
    }
   ],
   "source": [
    "import sys\n",
    "import matplotlib as mpl\n",
    "from datetime import date    \n",
    "today = date.today().isoformat()\n",
    "\n",
    "print(f'Notebook tested in {today} using:')\n",
    "print('Python', sys.version)\n",
    "print('Matplotlib', mpl.__version__)"
   ]
  }
 ],
 "metadata": {
  "kernelspec": {
   "display_name": "Python 3 (ipykernel)",
   "language": "python",
   "name": "python3"
  },
  "language_info": {
   "codemirror_mode": {
    "name": "ipython",
    "version": 3
   },
   "file_extension": ".py",
   "mimetype": "text/x-python",
   "name": "python",
   "nbconvert_exporter": "python",
   "pygments_lexer": "ipython3",
   "version": "3.10.13"
  }
 },
 "nbformat": 4,
 "nbformat_minor": 4
}
