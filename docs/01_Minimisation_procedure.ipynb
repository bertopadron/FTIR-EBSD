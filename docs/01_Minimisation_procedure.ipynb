{
 "cells": [
  {
   "cell_type": "markdown",
   "metadata": {},
   "source": [
    "# The minimisation procedure to estimate crystal orientations\n",
    "\n",
    "> **Goal**: Explain the procedure to estimate crystal orientations using FTIR data. For questions on the reference system refer to notebook 00: The reference system. \n",
    "\n",
    "\n",
    "## 1. The pseudocode\n",
    "\n",
    "### Step 1. Make measurements\n",
    "\n",
    "We assume that the user will estimate transmittance values on the microscope at different angles to the direction of polarisation. If the polariser is aligned with the x-axis (N-S) and measurements are taken in the xy-plane, the coordinates in the different reference frames would be\n",
    "\n",
    "$$\n",
    "(T, azimuth, polar) == (T, \\varphi, \\theta)\n",
    "$$\n",
    "\n",
    "where $T$ is the transmittance, _azimuth_ ($\\varphi$) is the angle in degrees between the polariser (E-vector) and a reference within the specimen (e.g. the long side of the specimen, or whatever suits you), and _polar_ ($\\theta$) is the polar angle, which in this case is a constant equal to 90 degrees (1.57 in radians).\n",
    "\n",
    "In practice, we will obtain something like this:\n",
    "\n",
    "$$\n",
    "(T_1, 0), (T_2, 20), (T_3, 30), ... , (T_n, 0≥angle<180)\n",
    "$$\n",
    "\n",
    "\n",
    "The first step will be to convert these values in spherical coordinates into Cartesian coordinates, we use the function ``sph2cart()``.\n",
    "\n",
    "### Step 2. Check if measurements lie on the surface of the reference transmittance envelope.\n",
    "\n",
    "According to Asimov et al. (2006), we can estimate $T$ for any direction using the simplified transmission equation as a function of $\\theta$, $\\varphi$ as follows:\n",
    "\n",
    "$$\n",
    "T = T_a \\cdot cos^2\\varphi sin^2\\theta + T_b \\cdot sin^2\\varphi sin^2\\theta + T_c \\cdot cos^2\\theta\n",
    "$$\n",
    "\n",
    "> ⚠️ in our reference system $\\theta$ is the **polar angle** and $\\varphi$ the **azimuth angle**\n",
    "\n",
    "as we know the transmittance values $(T_a, T_b, T_c)$ and the angles $\\theta$, and $\\varphi$ from our measurements and using the following expression\n",
    "\n",
    "$$\n",
    "(|T_{measured} - T_{theoretical}|)^2 = 0\n",
    "$$\n",
    "\n",
    "we can check whether or not the measured values are on the surface of the reference transmittance envelope.\n",
    "\n",
    "### Step 3. Inverse calculation\n",
    "\n",
    "If the above equality is not satisfied within a reasonable tolerance, we need to convert these measurements to Cartesian coordinates (i.e. points), rotate these points (e.g. using Euler angles), convert back to spherical coordinates and check again. This process should be repeated until the solution converges. The rotation required to satisfy this condition is the orientation of the olivine crystal with respect to the established reference system.\n",
    "\n",
    "> **Pseudocode:**\n",
    "> 1. Apply Step 2\n",
    "> 2. If the solution converges: no rotation is nedeed and the olivine crystal is aligned in the reference frame (e.g. Euler angle=(0,0,0))\n",
    ">- Else:\n",
    ">    - convert measures to cartesian coordinates\n",
    ">    - apply rotation using Eules angles (Bunge convention)\n",
    ">    - convert back to spherical coordinates\n",
    ">    - check and continue until solution converges\n",
    ">    - return the Euler angles that orientate the olivine crystal"
   ]
  },
  {
   "cell_type": "code",
   "execution_count": 1,
   "metadata": {},
   "outputs": [
    {
     "name": "stdout",
     "output_type": "stream",
     "text": [
      "module FTIR v.2024.1.18 imported\n"
     ]
    }
   ],
   "source": [
    "# import modules\n",
    "import numpy as np\n",
    "import matplotlib.pyplot as plt\n",
    "from matplotlib import cm\n",
    "import ftir_funct as f"
   ]
  },
  {
   "cell_type": "code",
   "execution_count": 2,
   "metadata": {},
   "outputs": [
    {
     "name": "stdout",
     "output_type": "stream",
     "text": [
      "Notebook tested in 2024-01-18 using:\n",
      "Python 3.10.13 | packaged by Anaconda, Inc. | (main, Sep 11 2023, 13:15:57) [MSC v.1916 64 bit (AMD64)]\n",
      "Matplotlib 3.8.0\n"
     ]
    }
   ],
   "source": [
    "import sys\n",
    "import matplotlib as mpl\n",
    "from datetime import date    \n",
    "today = date.today().isoformat()\n",
    "\n",
    "print(f'Notebook tested in {today} using:')\n",
    "print('Python', sys.version)\n",
    "print('Matplotlib', mpl.__version__)"
   ]
  }
 ],
 "metadata": {
  "kernelspec": {
   "display_name": "main",
   "language": "python",
   "name": "python3"
  },
  "language_info": {
   "codemirror_mode": {
    "name": "ipython",
    "version": 3
   },
   "file_extension": ".py",
   "mimetype": "text/x-python",
   "name": "python",
   "nbconvert_exporter": "python",
   "pygments_lexer": "ipython3",
   "version": "3.10.13"
  }
 },
 "nbformat": 4,
 "nbformat_minor": 2
}
