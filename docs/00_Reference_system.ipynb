{
 "cells": [
  {
   "cell_type": "markdown",
   "id": "b4c8e3fd-b738-4070-acdb-b0d2c1477ad3",
   "metadata": {},
   "source": [
    "# The reference system\n",
    "\n",
    "> **Goal**: Explain the reference system used for crystal orientation in FTIR and EBSD\n",
    "\n",
    "## 1. The spherical coordinate system\n",
    "\n",
    "<img src=\"https://upload.wikimedia.org/wikipedia/commons/thumb/4/4f/3D_Spherical.svg/1024px-3D_Spherical.svg.png\" alt=\"image.png\" style=\"zoom:55%;\" />\n",
    "\n",
    "Spherical coordinates $(r, \\theta, \\varphi)$ as used in physics (ISO 80000-2:2019), being $r$ the radial distance (distance to origin), polar angle $\\theta$ (theta) (angle with respect to polar/zenith z-axis), and azimuthal angle $\\varphi$ or $\\phi$ (phi) (angle of rotation from the initial meridian plane).\n",
    "\n",
    "> **Important note**: the angles $\\theta$ and $\\varphi$/$\\phi$ in Asimov et al. (2006) are interchanged with respect to the convention used in physics (see https://en.wikipedia.org/wiki/Spherical_coordinate_system). To avoid confusion, perhaps it would be a good idea to rename them (alpha and beta?) since strictly speaking they are angles with respect to crystallographic axes, not to the reference system (although later we will make them coincide).\n",
    "\n",
    "### 2. The FTIR reference frame\n",
    "\n",
    "To establish a consistent coordinate frame and estimate the orientation of the crystals in FTIR we will have to consider the following:\n",
    "\n",
    "- the microscope stage/sample pair\n",
    "- the position of the reference transmittance envelope with respect to the reference system of the microscope\n",
    "- the position of the crystal elements (axes, planes, etc.) with respect to the transmitance envelope\n",
    "\n",
    "We start by defining that all coordinate systems used will be right handed, which implies the right hand rule for the sense of rotations (positive rotation counter-clockwise). To determine the full orientation of a crystal, it is necessary to define a Cartesian reference frame for the crystal lattice. The unit cell is commonly described using three lengths, $a$, $b$ and $c$ and three angles $α$, $β$, $γ$ as depicted in the figure below. For a general case:\n",
    "\n",
    "- $a$, $b$ and $c$ form a right handed set.\n",
    "- $c$ is always parallel to the $z$ axis.\n",
    "- $b$ always lies in the $yz$ plane, at an angle $α$ respect to $c$\n",
    "- $a$ is pointed such that it is an angle $β$ to $c$ and $γ$ to $b$\n",
    "\n",
    "![EBSD_ref_frame](https://raw.githubusercontent.com/bertopadron/FTIR-EBSD/main/notebooks2learn/imgs/EBSD_unit_cell_convention.png)\n",
    "\n",
    "As olivine crystal is orthorhombic, the axes defining the olivine unit cell are perpendicular to each other and thus the $a$-, $b$- and $c$-axes are parallel to $x$, $y$, and $z$, respectively. With this reference frame, the transmittance figure in our coordinate system is as follows:\n",
    "\n",
    "TODO → ADD FIGURE"
   ]
  },
  {
   "cell_type": "code",
   "execution_count": 2,
   "id": "ba3c586c-72cc-4a7a-94b6-242b3132e9f4",
   "metadata": {},
   "outputs": [
    {
     "name": "stdout",
     "output_type": "stream",
     "text": [
      "Notebook tested in 2024-01-12 using:\n",
      "Python 3.10.13 | packaged by Anaconda, Inc. | (main, Sep 11 2023, 13:15:57) [MSC v.1916 64 bit (AMD64)]\n",
      "Matplolib 3.8.0\n"
     ]
    }
   ],
   "source": [
    "import sys\n",
    "import matplotlib as mpl\n",
    "from datetime import date    \n",
    "today = date.today().isoformat()\n",
    "\n",
    "print(f'Notebook tested in {today} using:')\n",
    "print('Python', sys.version)\n",
    "print('Matplolib', mpl.__version__)"
   ]
  }
 ],
 "metadata": {
  "kernelspec": {
   "display_name": "Python 3 (ipykernel)",
   "language": "python",
   "name": "python3"
  },
  "language_info": {
   "codemirror_mode": {
    "name": "ipython",
    "version": 3
   },
   "file_extension": ".py",
   "mimetype": "text/x-python",
   "name": "python",
   "nbconvert_exporter": "python",
   "pygments_lexer": "ipython3",
   "version": "3.10.13"
  }
 },
 "nbformat": 4,
 "nbformat_minor": 5
}
