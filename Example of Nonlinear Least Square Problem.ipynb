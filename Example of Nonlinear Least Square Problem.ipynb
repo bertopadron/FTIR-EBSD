{
 "cells": [
  {
   "cell_type": "code",
   "execution_count": 47,
   "metadata": {},
   "outputs": [],
   "source": [
    "import numpy as np\n",
    "import matplotlib.pyplot as plt\n",
    "from scipy import optimize"
   ]
  },
  {
   "cell_type": "markdown",
   "metadata": {},
   "source": [
    "example taken from R. Johansson book Numerical Python. Scalar non-lineal function\n",
    "$$ f(x,\\beta) = \\beta_0 + \\beta_1 \\exp (\\beta_2x^2) $$"
   ]
  },
  {
   "cell_type": "code",
   "execution_count": 36,
   "metadata": {},
   "outputs": [],
   "source": [
    "beta = (0.25, 0.75, 0.5)\n",
    "def f(x, b0, b1, b2):\n",
    "    return b0 + b1*np.exp(-b2 * x**2)"
   ]
  },
  {
   "cell_type": "code",
   "execution_count": 37,
   "metadata": {},
   "outputs": [],
   "source": [
    "xdata = np.linspace(0, 5, 50)\n",
    "y = f(xdata, *beta)\n",
    "ydata = y + 0.05 * np.random.randn(len(xdata))"
   ]
  },
  {
   "cell_type": "code",
   "execution_count": 39,
   "metadata": {},
   "outputs": [],
   "source": [
    "def g(beta):\n",
    "    return ydata - f(xdata, *beta)"
   ]
  },
  {
   "cell_type": "markdown",
   "metadata": {},
   "source": [
    "# Using the minimize.leastsq"
   ]
  },
  {
   "cell_type": "code",
   "execution_count": 48,
   "metadata": {},
   "outputs": [],
   "source": [
    "beta_start = (1, 1, 1)\n",
    "beta_opt, beta_cov = optimize.leastsq(g, beta_start)"
   ]
  },
  {
   "cell_type": "code",
   "execution_count": 49,
   "metadata": {},
   "outputs": [
    {
     "data": {
      "text/plain": [
       "array([0.24124756, 0.74623797, 0.47279819])"
      ]
     },
     "execution_count": 49,
     "metadata": {},
     "output_type": "execute_result"
    }
   ],
   "source": [
    "beta_opt"
   ]
  },
  {
   "cell_type": "code",
   "execution_count": 54,
   "metadata": {},
   "outputs": [
    {
     "data": {
      "text/plain": [
       "<matplotlib.legend.Legend at 0x7fb2c2955e50>"
      ]
     },
     "execution_count": 54,
     "metadata": {},
     "output_type": "execute_result"
    },
    {
     "data": {
      "image/png": "[encoded data removed]",
      "text/plain": [
       "<Figure size 432x288 with 1 Axes>"
      ]
     },
     "metadata": {
      "needs_background": "light"
     },
     "output_type": "display_data"
    }
   ],
   "source": [
    "fig, ax = plt.subplots()\n",
    "ax.scatter(xdata, ydata, label='samples')\n",
    "ax.plot(xdata, y, 'r', lw=2, label='true model')\n",
    "ax.plot(xdata, f(xdata, *beta_opt), 'b', lw=2, label='fitted data')\n",
    "ax.set_xlim(0, 5)\n",
    "ax.set_xlabel(r\"$x$\", fontsize=18)\n",
    "ax.set_ylabel(r\"$f(x, \\beta)$\", fontsize=18)\n",
    "ax.legend()"
   ]
  },
  {
   "cell_type": "code",
   "execution_count": 58,
   "metadata": {},
   "outputs": [
    {
     "data": {
      "text/plain": [
       "array([ 0.01505036,  0.02505156,  0.06123902, -0.0677707 , -0.06569177,\n",
       "       -0.0373788 ,  0.01791729,  0.00943596,  0.05653839,  0.0076022 ,\n",
       "        0.0949185 , -0.10152105, -0.0200325 ,  0.0612672 , -0.10287411,\n",
       "       -0.01791616, -0.00470165, -0.00352998,  0.06639633, -0.03420947,\n",
       "        0.06689194,  0.02900913, -0.00328931, -0.00055467, -0.00051485,\n",
       "        0.06264608, -0.02676233, -0.00463731, -0.14352905, -0.01719846,\n",
       "       -0.02717351, -0.00922209, -0.04496937,  0.02619109,  0.00691491,\n",
       "        0.10714615,  0.03037887, -0.00188809,  0.00342334,  0.01658633,\n",
       "        0.00129461,  0.03052779, -0.03520949,  0.04130112,  0.00794141,\n",
       "       -0.02793592, -0.10228259,  0.09228612,  0.0120461 , -0.04920859])"
      ]
     },
     "execution_count": 58,
     "metadata": {},
     "output_type": "execute_result"
    }
   ],
   "source": [
    "g(beta_opt)"
   ]
  },
  {
   "cell_type": "markdown",
   "metadata": {},
   "source": [
    "# Using the minimize.curve_fit\n",
    "Wrapper around optimize.leastsq that avoids the need to define the objective function `g(beta)`"
   ]
  },
  {
   "cell_type": "code",
   "execution_count": 55,
   "metadata": {},
   "outputs": [
    {
     "data": {
      "text/plain": [
       "array([0.24124756, 0.74623797, 0.47279819])"
      ]
     },
     "execution_count": 55,
     "metadata": {},
     "output_type": "execute_result"
    }
   ],
   "source": [
    "beta_opt, beta_cov = optimize.curve_fit(f, xdata, ydata)\n",
    "beta_opt"
   ]
  },
  {
   "cell_type": "markdown",
   "metadata": {},
   "source": [
    "# Our problem"
   ]
  },
  {
   "cell_type": "code",
   "execution_count": 63,
   "metadata": {},
   "outputs": [],
   "source": [
    "from scipy.spatial.transform import Rotation as r"
   ]
  },
  {
   "cell_type": "code",
   "execution_count": 111,
   "metadata": {},
   "outputs": [],
   "source": [
    "def sph2cart(phi, theta, T):\n",
    "    \"\"\" TODO\n",
    "    \"\"\"\n",
    "    \n",
    "    x = T * np.sin(phi) * np.cos(theta)\n",
    "    y = T * np.sin(phi) * np.sin(theta)\n",
    "    z = T * np.cos(phi)\n",
    "    \n",
    "    return x, y, z\n",
    "    \n",
    "\n",
    "def generate_T_mesh(density=50):\n",
    "    \"\"\" TODO\n",
    "    \"\"\"\n",
    "    \n",
    "    # generate the mesh\n",
    "    phi, theta = np.meshgrid(np.linspace(0, np.pi, density), \\\n",
    "                             np.linspace(0, 2*np.pi, density))\n",
    "    \n",
    "    # set olivine Ta, Tb, and Tc values\n",
    "    Ta, Tb, Tc = 90, 50, 20\n",
    "    \n",
    "    # estimate T values\n",
    "    T = Ta * np.cos(theta)**2 * np.sin(phi)**2 + \\\n",
    "        Tb * np.sin(theta)**2 * np.sin(phi)**2 + \\\n",
    "        Tc * np.cos(phi)**2;\n",
    "    \n",
    "    # # Express the mesh in the cartesian coordinates\n",
    "    x, y, z = sph2cart(phi, theta, T)\n",
    "    \n",
    "    return np.dstack((x,y,z))\n",
    "\n",
    "def func(T, x):\n",
    "    \"\"\" Comment...TODO\n",
    "    \"\"\"\n",
    "    \n",
    "    # generate the rotation in euler space (Bunge convention)\n",
    "    rotation = r.from_euler('zxz', [x[0], x[1], x[2]], degrees=True)\n",
    "    \n",
    "    return T @ rotation.as_matrix().T"
   ]
  },
  {
   "cell_type": "code",
   "execution_count": 112,
   "metadata": {},
   "outputs": [],
   "source": [
    "T = generate_T_mesh(20)\n",
    "T_obs = func(T, x=(0, 45, 0)) + 0.05 * np.random.randn()"
   ]
  },
  {
   "cell_type": "code",
   "execution_count": 113,
   "metadata": {},
   "outputs": [],
   "source": [
    "def g(x):\n",
    "    return T_obs - func(T, x)"
   ]
  },
  {
   "cell_type": "code",
   "execution_count": 101,
   "metadata": {},
   "outputs": [
    {
     "ename": "ValueError",
     "evalue": "object too deep for desired array",
     "output_type": "error",
     "traceback": [
      "\u001b[0;31m---------------------------------------------------------------------------\u001b[0m",
      "\u001b[0;31mValueError\u001b[0m                                Traceback (most recent call last)",
      "\u001b[0;31mValueError\u001b[0m: object too deep for desired array"
     ]
    },
    {
     "ename": "error",
     "evalue": "Result from function call is not a proper array of floats.",
     "output_type": "error",
     "traceback": [
      "\u001b[0;31m---------------------------------------------------------------------------\u001b[0m",
      "\u001b[0;31merror\u001b[0m                                     Traceback (most recent call last)",
      "\u001b[0;32m<ipython-input-101-a07c16a88a3a>\u001b[0m in \u001b[0;36m<module>\u001b[0;34m\u001b[0m\n\u001b[1;32m      1\u001b[0m \u001b[0mx0\u001b[0m \u001b[0;34m=\u001b[0m \u001b[0;34m(\u001b[0m\u001b[0;36m0\u001b[0m\u001b[0;34m,\u001b[0m \u001b[0;36m0\u001b[0m\u001b[0;34m,\u001b[0m \u001b[0;36m0\u001b[0m\u001b[0;34m)\u001b[0m\u001b[0;34m\u001b[0m\u001b[0;34m\u001b[0m\u001b[0m\n\u001b[0;32m----> 2\u001b[0;31m \u001b[0moptimize\u001b[0m\u001b[0;34m.\u001b[0m\u001b[0mleastsq\u001b[0m\u001b[0;34m(\u001b[0m\u001b[0mg\u001b[0m\u001b[0;34m,\u001b[0m \u001b[0mx0\u001b[0m\u001b[0;34m)\u001b[0m\u001b[0;34m\u001b[0m\u001b[0;34m\u001b[0m\u001b[0m\n\u001b[0m",
      "\u001b[0;32m/opt/anaconda3/lib/python3.8/site-packages/scipy/optimize/minpack.py\u001b[0m in \u001b[0;36mleastsq\u001b[0;34m(func, x0, args, Dfun, full_output, col_deriv, ftol, xtol, gtol, maxfev, epsfcn, factor, diag)\u001b[0m\n\u001b[1;32m    420\u001b[0m         \u001b[0;32mif\u001b[0m \u001b[0mmaxfev\u001b[0m \u001b[0;34m==\u001b[0m \u001b[0;36m0\u001b[0m\u001b[0;34m:\u001b[0m\u001b[0;34m\u001b[0m\u001b[0;34m\u001b[0m\u001b[0m\n\u001b[1;32m    421\u001b[0m             \u001b[0mmaxfev\u001b[0m \u001b[0;34m=\u001b[0m \u001b[0;36m200\u001b[0m\u001b[0;34m*\u001b[0m\u001b[0;34m(\u001b[0m\u001b[0mn\u001b[0m \u001b[0;34m+\u001b[0m \u001b[0;36m1\u001b[0m\u001b[0;34m)\u001b[0m\u001b[0;34m\u001b[0m\u001b[0;34m\u001b[0m\u001b[0m\n\u001b[0;32m--> 422\u001b[0;31m         retval = _minpack._lmdif(func, x0, args, full_output, ftol, xtol,\n\u001b[0m\u001b[1;32m    423\u001b[0m                                  gtol, maxfev, epsfcn, factor, diag)\n\u001b[1;32m    424\u001b[0m     \u001b[0;32melse\u001b[0m\u001b[0;34m:\u001b[0m\u001b[0;34m\u001b[0m\u001b[0;34m\u001b[0m\u001b[0m\n",
      "\u001b[0;31merror\u001b[0m: Result from function call is not a proper array of floats."
     ]
    }
   ],
   "source": [
    "x0 = (0, 0, 0)\n",
    "optimize.leastsq(g, x0)"
   ]
  },
  {
   "cell_type": "code",
   "execution_count": 108,
   "metadata": {},
   "outputs": [
    {
     "data": {
      "text/plain": [
       "array([[[0.10033252, 0.10033252, 0.10033252],\n",
       "        [0.10033252, 0.10033252, 0.10033252],\n",
       "        [0.10033252, 0.10033252, 0.10033252],\n",
       "        ...,\n",
       "        [0.10033252, 0.10033252, 0.10033252],\n",
       "        [0.10033252, 0.10033252, 0.10033252],\n",
       "        [0.10033252, 0.10033252, 0.10033252]],\n",
       "\n",
       "       [[0.10033252, 0.10033252, 0.10033252],\n",
       "        [0.10033252, 0.10033252, 0.10033252],\n",
       "        [0.10033252, 0.10033252, 0.10033252],\n",
       "        ...,\n",
       "        [0.10033252, 0.10033252, 0.10033252],\n",
       "        [0.10033252, 0.10033252, 0.10033252],\n",
       "        [0.10033252, 0.10033252, 0.10033252]],\n",
       "\n",
       "       [[0.10033252, 0.10033252, 0.10033252],\n",
       "        [0.10033252, 0.10033252, 0.10033252],\n",
       "        [0.10033252, 0.10033252, 0.10033252],\n",
       "        ...,\n",
       "        [0.10033252, 0.10033252, 0.10033252],\n",
       "        [0.10033252, 0.10033252, 0.10033252],\n",
       "        [0.10033252, 0.10033252, 0.10033252]],\n",
       "\n",
       "       ...,\n",
       "\n",
       "       [[0.10033252, 0.10033252, 0.10033252],\n",
       "        [0.10033252, 0.10033252, 0.10033252],\n",
       "        [0.10033252, 0.10033252, 0.10033252],\n",
       "        ...,\n",
       "        [0.10033252, 0.10033252, 0.10033252],\n",
       "        [0.10033252, 0.10033252, 0.10033252],\n",
       "        [0.10033252, 0.10033252, 0.10033252]],\n",
       "\n",
       "       [[0.10033252, 0.10033252, 0.10033252],\n",
       "        [0.10033252, 0.10033252, 0.10033252],\n",
       "        [0.10033252, 0.10033252, 0.10033252],\n",
       "        ...,\n",
       "        [0.10033252, 0.10033252, 0.10033252],\n",
       "        [0.10033252, 0.10033252, 0.10033252],\n",
       "        [0.10033252, 0.10033252, 0.10033252]],\n",
       "\n",
       "       [[0.10033252, 0.10033252, 0.10033252],\n",
       "        [0.10033252, 0.10033252, 0.10033252],\n",
       "        [0.10033252, 0.10033252, 0.10033252],\n",
       "        ...,\n",
       "        [0.10033252, 0.10033252, 0.10033252],\n",
       "        [0.10033252, 0.10033252, 0.10033252],\n",
       "        [0.10033252, 0.10033252, 0.10033252]]])"
      ]
     },
     "execution_count": 108,
     "metadata": {},
     "output_type": "execute_result"
    }
   ],
   "source": [
    "x = (0, 45, 0)\n",
    "g(x)"
   ]
  },
  {
   "cell_type": "code",
   "execution_count": null,
   "metadata": {},
   "outputs": [],
   "source": []
  }
 ],
 "metadata": {
  "kernelspec": {
   "display_name": "Python 3",
   "language": "python",
   "name": "python3"
  },
  "language_info": {
   "codemirror_mode": {
    "name": "ipython",
    "version": 3
   },
   "file_extension": ".py",
   "mimetype": "text/x-python",
   "name": "python",
   "nbconvert_exporter": "python",
   "pygments_lexer": "ipython3",
   "version": "3.9.6"
  },
  "vscode": {
   "interpreter": {
    "hash": "31f2aee4e71d21fbe5cf8b01ff0e069b9275f58929596ceb00d14d90e3e16cd6"
   }
  }
 },
 "nbformat": 4,
 "nbformat_minor": 4
}
